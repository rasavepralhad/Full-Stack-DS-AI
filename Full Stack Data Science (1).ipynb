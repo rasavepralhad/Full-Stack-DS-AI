{
 "cells": [
  {
   "cell_type": "markdown",
   "id": "d0989293-9850-40a6-8915-6c592ac5068b",
   "metadata": {},
   "source": [
    "# An Informal Introduction to Python"
   ]
  },
  {
   "cell_type": "code",
   "execution_count": 95,
   "id": "75a6c54c-4bfd-4d84-b54f-f46477782d29",
   "metadata": {},
   "outputs": [],
   "source": [
    "# this is the first comment\n",
    "spam =1 # and this is the second comment\n",
    "         #...and now a third!\n",
    "text=\"#This is not a comment because it's inside quotes.\""
   ]
  },
  {
   "cell_type": "code",
   "execution_count": 96,
   "id": "57a491f6-d77f-45b5-ba96-b763806c1a10",
   "metadata": {},
   "outputs": [],
   "source": [
    "#using python as a calculator"
   ]
  },
  {
   "cell_type": "code",
   "execution_count": 97,
   "id": "eb1901d2-948a-4057-8fee-9bcc8fde1203",
   "metadata": {},
   "outputs": [
    {
     "data": {
      "text/plain": [
       "4"
      ]
     },
     "execution_count": 97,
     "metadata": {},
     "output_type": "execute_result"
    }
   ],
   "source": [
    "2+2"
   ]
  },
  {
   "cell_type": "code",
   "execution_count": 98,
   "id": "3a7d1514-09cc-4936-b60e-060f0bd50a3a",
   "metadata": {},
   "outputs": [
    {
     "data": {
      "text/plain": [
       "20"
      ]
     },
     "execution_count": 98,
     "metadata": {},
     "output_type": "execute_result"
    }
   ],
   "source": [
    "50-5*6"
   ]
  },
  {
   "cell_type": "code",
   "execution_count": 99,
   "id": "5ab9a015-3f64-4425-828c-c360bc0249f5",
   "metadata": {},
   "outputs": [
    {
     "data": {
      "text/plain": [
       "80"
      ]
     },
     "execution_count": 99,
     "metadata": {},
     "output_type": "execute_result"
    }
   ],
   "source": [
    "(50-5*6)*4\n"
   ]
  },
  {
   "cell_type": "code",
   "execution_count": 100,
   "id": "d438281b-6fcc-40dc-9462-ba9054871ee4",
   "metadata": {},
   "outputs": [
    {
     "data": {
      "text/plain": [
       "0.625"
      ]
     },
     "execution_count": 100,
     "metadata": {},
     "output_type": "execute_result"
    }
   ],
   "source": [
    "5/8"
   ]
  },
  {
   "cell_type": "code",
   "execution_count": 101,
   "id": "566b2e44-cd36-414b-89ea-92c75169e77d",
   "metadata": {},
   "outputs": [
    {
     "data": {
      "text/plain": [
       "5.666666666666667"
      ]
     },
     "execution_count": 101,
     "metadata": {},
     "output_type": "execute_result"
    }
   ],
   "source": [
    "17/3"
   ]
  },
  {
   "cell_type": "code",
   "execution_count": 102,
   "id": "bb1d138a-11ea-4eee-ac20-9ee977641c24",
   "metadata": {},
   "outputs": [
    {
     "data": {
      "text/plain": [
       "5"
      ]
     },
     "execution_count": 102,
     "metadata": {},
     "output_type": "execute_result"
    }
   ],
   "source": [
    "17//3"
   ]
  },
  {
   "cell_type": "code",
   "execution_count": 103,
   "id": "dc6510b7-dc82-4e64-b4e4-bf5b77233e57",
   "metadata": {},
   "outputs": [
    {
     "data": {
      "text/plain": [
       "2"
      ]
     },
     "execution_count": 103,
     "metadata": {},
     "output_type": "execute_result"
    }
   ],
   "source": [
    "17%3"
   ]
  },
  {
   "cell_type": "code",
   "execution_count": 104,
   "id": "ff2341d5-0cc5-46d2-8f67-a53c4bb73ada",
   "metadata": {},
   "outputs": [
    {
     "data": {
      "text/plain": [
       "10"
      ]
     },
     "execution_count": 104,
     "metadata": {},
     "output_type": "execute_result"
    }
   ],
   "source": [
    "5*2"
   ]
  },
  {
   "cell_type": "code",
   "execution_count": 105,
   "id": "31b6d39b-87d1-4fb4-a808-f11f1796d0ee",
   "metadata": {},
   "outputs": [
    {
     "data": {
      "text/plain": [
       "25"
      ]
     },
     "execution_count": 105,
     "metadata": {},
     "output_type": "execute_result"
    }
   ],
   "source": [
    "5**2"
   ]
  },
  {
   "cell_type": "code",
   "execution_count": 106,
   "id": "74a67ee6-c826-4dd4-bc1f-c6f1ea19fb15",
   "metadata": {},
   "outputs": [
    {
     "data": {
      "text/plain": [
       "20.833333333333332"
      ]
     },
     "execution_count": 106,
     "metadata": {},
     "output_type": "execute_result"
    }
   ],
   "source": [
    "5**3/6"
   ]
  },
  {
   "cell_type": "code",
   "execution_count": 107,
   "id": "7e41cc50-fd27-40cc-9243-4347c480b867",
   "metadata": {},
   "outputs": [
    {
     "data": {
      "text/plain": [
       "900"
      ]
     },
     "execution_count": 107,
     "metadata": {},
     "output_type": "execute_result"
    }
   ],
   "source": [
    "width=20\n",
    "height=5*9\n",
    "width*height"
   ]
  },
  {
   "cell_type": "code",
   "execution_count": 108,
   "id": "5bf55be5-a2e3-48dd-916d-e85fd781b57e",
   "metadata": {},
   "outputs": [
    {
     "ename": "NameError",
     "evalue": "name 'n' is not defined",
     "output_type": "error",
     "traceback": [
      "\u001b[31m---------------------------------------------------------------------------\u001b[39m",
      "\u001b[31mNameError\u001b[39m                                 Traceback (most recent call last)",
      "\u001b[36mCell\u001b[39m\u001b[36m \u001b[39m\u001b[32mIn[108]\u001b[39m\u001b[32m, line 1\u001b[39m\n\u001b[32m----> \u001b[39m\u001b[32m1\u001b[39m \u001b[43mn\u001b[49m \u001b[38;5;66;03m#try to access an undefined variable\u001b[39;00m\n",
      "\u001b[31mNameError\u001b[39m: name 'n' is not defined"
     ]
    }
   ],
   "source": [
    "n #try to access an undefined variable"
   ]
  },
  {
   "cell_type": "code",
   "execution_count": 109,
   "id": "e264addd-afee-4190-bd4a-8fc4e8f90d24",
   "metadata": {},
   "outputs": [
    {
     "data": {
      "text/plain": [
       "14.0"
      ]
     },
     "execution_count": 109,
     "metadata": {},
     "output_type": "execute_result"
    }
   ],
   "source": [
    "4*3.75-1"
   ]
  },
  {
   "cell_type": "code",
   "execution_count": 110,
   "id": "d8fd63b5-393a-423c-866a-18ccc39a07f2",
   "metadata": {},
   "outputs": [
    {
     "data": {
      "text/plain": [
       "12.55"
      ]
     },
     "execution_count": 110,
     "metadata": {},
     "output_type": "execute_result"
    }
   ],
   "source": [
    "tax=12.5/100\n",
    "price=100.40\n",
    "price*tax"
   ]
  },
  {
   "cell_type": "code",
   "execution_count": 111,
   "id": "73029d47-898d-4505-a322-607ad09eab37",
   "metadata": {},
   "outputs": [
    {
     "data": {
      "text/plain": [
       "200.8"
      ]
     },
     "execution_count": 111,
     "metadata": {},
     "output_type": "execute_result"
    }
   ],
   "source": [
    "price + price"
   ]
  },
  {
   "cell_type": "code",
   "execution_count": 112,
   "id": "e697872c-0e64-450c-9199-73ea90b70064",
   "metadata": {},
   "outputs": [
    {
     "data": {
      "text/plain": [
       "200.8"
      ]
     },
     "execution_count": 112,
     "metadata": {},
     "output_type": "execute_result"
    }
   ],
   "source": [
    "round(_,2)"
   ]
  },
  {
   "cell_type": "markdown",
   "id": "3b72f149-94aa-4453-93ee-022963d8be53",
   "metadata": {},
   "source": [
    "# Text"
   ]
  },
  {
   "cell_type": "code",
   "execution_count": 113,
   "id": "61896ef9-b535-4ecc-be49-b0f936a62834",
   "metadata": {},
   "outputs": [
    {
     "data": {
      "text/plain": [
       "'spam eggs'"
      ]
     },
     "execution_count": 113,
     "metadata": {},
     "output_type": "execute_result"
    }
   ],
   "source": [
    "'spam eggs'   # single quotes\n"
   ]
  },
  {
   "cell_type": "code",
   "execution_count": 114,
   "id": "fac2eb4b-5688-4ea4-a945-f47f6132aa67",
   "metadata": {},
   "outputs": [
    {
     "data": {
      "text/plain": [
       "'Paris rabbit got your back:)! Yay!'"
      ]
     },
     "execution_count": 114,
     "metadata": {},
     "output_type": "execute_result"
    }
   ],
   "source": [
    "\"Paris rabbit got your back:)! Yay!\"  # Double quotes"
   ]
  },
  {
   "cell_type": "code",
   "execution_count": 115,
   "id": "9bc35022-940c-4537-9dd4-3c23a72ad5bd",
   "metadata": {},
   "outputs": [
    {
     "data": {
      "text/plain": [
       "'1975'"
      ]
     },
     "execution_count": 115,
     "metadata": {},
     "output_type": "execute_result"
    }
   ],
   "source": [
    "'1975'  #digits and numercals enclosed in quotes are also string"
   ]
  },
  {
   "cell_type": "code",
   "execution_count": 116,
   "id": "dd3037bb-b79e-443e-b62a-67984284a5f9",
   "metadata": {},
   "outputs": [
    {
     "data": {
      "text/plain": [
       "\"doesn't\""
      ]
     },
     "execution_count": 116,
     "metadata": {},
     "output_type": "execute_result"
    }
   ],
   "source": [
    "'doesn\\'t'  #...or use double quotes instead"
   ]
  },
  {
   "cell_type": "code",
   "execution_count": 117,
   "id": "c88b990a-4409-4315-89f6-7fb30649f3ab",
   "metadata": {},
   "outputs": [
    {
     "data": {
      "text/plain": [
       "'\"Yes,\"They said.'"
      ]
     },
     "execution_count": 117,
     "metadata": {},
     "output_type": "execute_result"
    }
   ],
   "source": [
    "'\"Yes,\"They said.'"
   ]
  },
  {
   "cell_type": "code",
   "execution_count": 118,
   "id": "73044e31-450e-45c6-b953-819c3642798f",
   "metadata": {},
   "outputs": [
    {
     "data": {
      "text/plain": [
       "'\"Yes,\"they said.'"
      ]
     },
     "execution_count": 118,
     "metadata": {},
     "output_type": "execute_result"
    }
   ],
   "source": [
    "\"\\\"Yes,\\\"they said.\""
   ]
  },
  {
   "cell_type": "code",
   "execution_count": 119,
   "id": "8f1c9087-a5dc-4a80-b7bc-d48ac8078479",
   "metadata": {},
   "outputs": [
    {
     "data": {
      "text/plain": [
       "'\"Isn\\'t,\"they said.'"
      ]
     },
     "execution_count": 119,
     "metadata": {},
     "output_type": "execute_result"
    }
   ],
   "source": [
    "'\"Isn\\'t,\"they said.'"
   ]
  },
  {
   "cell_type": "code",
   "execution_count": 120,
   "id": "18f9fd6e-79a7-42f1-b169-0dfad622ba20",
   "metadata": {},
   "outputs": [
    {
     "data": {
      "text/plain": [
       "'first line.\\nsecond line.'"
      ]
     },
     "execution_count": 120,
     "metadata": {},
     "output_type": "execute_result"
    }
   ],
   "source": [
    "s='first line.\\nsecond line.' #\\n means newline!\n",
    "s  #without print(),special chracters are included in the string\n",
    "\n"
   ]
  },
  {
   "cell_type": "code",
   "execution_count": 121,
   "id": "41b132a9-6f38-4368-9294-8bb68c46f6a0",
   "metadata": {},
   "outputs": [
    {
     "name": "stdout",
     "output_type": "stream",
     "text": [
      "first line.\n",
      "second line.\n"
     ]
    }
   ],
   "source": [
    "print(s)"
   ]
  },
  {
   "cell_type": "code",
   "execution_count": 122,
   "id": "fb846c79-a42d-4926-a04b-ac242a963cca",
   "metadata": {},
   "outputs": [
    {
     "name": "stdout",
     "output_type": "stream",
     "text": [
      "c\\some\n",
      "ame\n"
     ]
    },
    {
     "name": "stderr",
     "output_type": "stream",
     "text": [
      "<>:1: SyntaxWarning: invalid escape sequence '\\s'\n",
      "<>:1: SyntaxWarning: invalid escape sequence '\\s'\n",
      "C:\\Users\\HP\\AppData\\Local\\Temp\\ipykernel_25324\\1343322205.py:1: SyntaxWarning: invalid escape sequence '\\s'\n",
      "  print('c\\some\\name')  #here \\n means newline!\n"
     ]
    }
   ],
   "source": [
    "print('c\\some\\name')  #here \\n means newline!"
   ]
  },
  {
   "cell_type": "code",
   "execution_count": 123,
   "id": "0936e50b-d691-4315-a208-4706bc688883",
   "metadata": {},
   "outputs": [
    {
     "name": "stdout",
     "output_type": "stream",
     "text": [
      "c:\\some\\name\n"
     ]
    }
   ],
   "source": [
    "print(r'c:\\some\\name')  #note the r before the quote"
   ]
  },
  {
   "cell_type": "code",
   "execution_count": 124,
   "id": "274427ff-1a47-4259-a788-2b6a11085512",
   "metadata": {},
   "outputs": [
    {
     "name": "stdout",
     "output_type": "stream",
     "text": [
      "...Usage: thingy[options]\n",
      "...-h             Display this usage message\n",
      "...H hostname         Hostname to connnect to \n",
      "\n"
     ]
    }
   ],
   "source": [
    "print(\"\"\"\\\n",
    "...Usage: thingy[options]\n",
    "...-h             Display this usage message\n",
    "...H hostname         Hostname to connnect to \n",
    "\"\"\")"
   ]
  },
  {
   "cell_type": "code",
   "execution_count": 125,
   "id": "b269cb0c-6263-42b3-a622-11392f7eb480",
   "metadata": {},
   "outputs": [
    {
     "data": {
      "text/plain": [
       "'unununium'"
      ]
     },
     "execution_count": 125,
     "metadata": {},
     "output_type": "execute_result"
    }
   ],
   "source": [
    "#3 times 'un',followes by 'ium'\n",
    "3*'un'+'ium'"
   ]
  },
  {
   "cell_type": "code",
   "execution_count": 126,
   "id": "5904dc51-2ced-4b25-a6da-9d863733ef63",
   "metadata": {},
   "outputs": [
    {
     "data": {
      "text/plain": [
       "'python'"
      ]
     },
     "execution_count": 126,
     "metadata": {},
     "output_type": "execute_result"
    }
   ],
   "source": [
    "'py''thon'"
   ]
  },
  {
   "cell_type": "code",
   "execution_count": 127,
   "id": "f971c93b-7217-4370-80ab-b60e958a2fec",
   "metadata": {},
   "outputs": [
    {
     "data": {
      "text/plain": [
       "'Put several strings within parenthesesto have join together.'"
      ]
     },
     "execution_count": 127,
     "metadata": {},
     "output_type": "execute_result"
    }
   ],
   "source": [
    "text =('Put several strings within parentheses'\n",
    "...          'to have join together.')\n",
    "text"
   ]
  },
  {
   "cell_type": "code",
   "execution_count": 128,
   "id": "9bb22cbc-7d6b-4cc9-9f39-9cb32e37d53d",
   "metadata": {},
   "outputs": [
    {
     "ename": "SyntaxError",
     "evalue": "invalid syntax (4164873602.py, line 2)",
     "output_type": "error",
     "traceback": [
      "  \u001b[36mCell\u001b[39m\u001b[36m \u001b[39m\u001b[32mIn[128]\u001b[39m\u001b[32m, line 2\u001b[39m\n\u001b[31m    \u001b[39m\u001b[31mprefix'than'   #can't concatenate a variable a variable and a string literal\u001b[39m\n          ^\n\u001b[31mSyntaxError\u001b[39m\u001b[31m:\u001b[39m invalid syntax\n"
     ]
    }
   ],
   "source": [
    "prefix='py'\n",
    "prefix'than'   #can't concatenate a variable a variable and a string literal"
   ]
  },
  {
   "cell_type": "code",
   "execution_count": 129,
   "id": "66f46498-24ed-4a04-8015-872a6cf9e433",
   "metadata": {},
   "outputs": [
    {
     "data": {
      "text/plain": [
       "'python'"
      ]
     },
     "execution_count": 129,
     "metadata": {},
     "output_type": "execute_result"
    }
   ],
   "source": [
    "prefix='py'\n",
    "prefix +'thon'"
   ]
  },
  {
   "cell_type": "code",
   "execution_count": 130,
   "id": "c7e10d34-7278-4013-b89f-656a01fc50e5",
   "metadata": {},
   "outputs": [
    {
     "data": {
      "text/plain": [
       "'p'"
      ]
     },
     "execution_count": 130,
     "metadata": {},
     "output_type": "execute_result"
    }
   ],
   "source": [
    "word ='python'\n",
    "word[0]         #chracter in position 0"
   ]
  },
  {
   "cell_type": "code",
   "execution_count": 131,
   "id": "2ab24a1f-773b-4309-9deb-f1339def3fd7",
   "metadata": {},
   "outputs": [
    {
     "data": {
      "text/plain": [
       "'n'"
      ]
     },
     "execution_count": 131,
     "metadata": {},
     "output_type": "execute_result"
    }
   ],
   "source": [
    "word[5]         # character in position 5"
   ]
  },
  {
   "cell_type": "code",
   "execution_count": 132,
   "id": "796abc31-013e-4e2d-8a69-6482ced1e545",
   "metadata": {},
   "outputs": [
    {
     "data": {
      "text/plain": [
       "'n'"
      ]
     },
     "execution_count": 132,
     "metadata": {},
     "output_type": "execute_result"
    }
   ],
   "source": [
    "word[-1]      #last chracter"
   ]
  },
  {
   "cell_type": "code",
   "execution_count": 133,
   "id": "b8cc25fc-9889-4cb4-a890-9e83638a7a4f",
   "metadata": {},
   "outputs": [
    {
     "data": {
      "text/plain": [
       "'o'"
      ]
     },
     "execution_count": 133,
     "metadata": {},
     "output_type": "execute_result"
    }
   ],
   "source": [
    "word[-2]    #second last character"
   ]
  },
  {
   "cell_type": "code",
   "execution_count": 134,
   "id": "dc47a560-74d7-4ae6-9956-bb0456cf8621",
   "metadata": {},
   "outputs": [
    {
     "data": {
      "text/plain": [
       "'p'"
      ]
     },
     "execution_count": 134,
     "metadata": {},
     "output_type": "execute_result"
    }
   ],
   "source": [
    "word[-6]"
   ]
  },
  {
   "cell_type": "code",
   "execution_count": 135,
   "id": "da3fb1eb-6df6-46d6-b520-615345cf427f",
   "metadata": {},
   "outputs": [
    {
     "data": {
      "text/plain": [
       "'py'"
      ]
     },
     "execution_count": 135,
     "metadata": {},
     "output_type": "execute_result"
    }
   ],
   "source": [
    "word[:2]     #character from the beginning to position 2(excluded)"
   ]
  },
  {
   "cell_type": "code",
   "execution_count": 136,
   "id": "ed1d8a00-8088-401c-bedd-dd5e63888b9f",
   "metadata": {},
   "outputs": [
    {
     "data": {
      "text/plain": [
       "'on'"
      ]
     },
     "execution_count": 136,
     "metadata": {},
     "output_type": "execute_result"
    }
   ],
   "source": [
    "word[4:]   #chracters from position 4(included) to the end"
   ]
  },
  {
   "cell_type": "code",
   "execution_count": 137,
   "id": "e8b4d2fb-7427-4ee1-8a76-fddf8ed32caa",
   "metadata": {},
   "outputs": [
    {
     "data": {
      "text/plain": [
       "'on'"
      ]
     },
     "execution_count": 137,
     "metadata": {},
     "output_type": "execute_result"
    }
   ],
   "source": [
    "word[-2:]   #character from the second_last(included) to the end"
   ]
  },
  {
   "cell_type": "code",
   "execution_count": 138,
   "id": "7dd805f7-de09-42f7-bcfa-39e5d0bfdbf5",
   "metadata": {},
   "outputs": [
    {
     "data": {
      "text/plain": [
       "'python'"
      ]
     },
     "execution_count": 138,
     "metadata": {},
     "output_type": "execute_result"
    }
   ],
   "source": [
    "word[:2]+word[2:]"
   ]
  },
  {
   "cell_type": "code",
   "execution_count": 139,
   "id": "cd8eb9b9-5225-4d6e-9ebe-01c6c2ae4209",
   "metadata": {},
   "outputs": [
    {
     "data": {
      "text/plain": [
       "'python'"
      ]
     },
     "execution_count": 139,
     "metadata": {},
     "output_type": "execute_result"
    }
   ],
   "source": [
    "word[:4]+word[4:]"
   ]
  },
  {
   "cell_type": "code",
   "execution_count": 140,
   "id": "e5e5cde2-4683-4e96-a76f-ed271c8c9e23",
   "metadata": {},
   "outputs": [
    {
     "data": {
      "image/png": "[encoded data removed]",
      "text/plain": [
       "<IPython.core.display.Image object>"
      ]
     },
     "execution_count": 140,
     "metadata": {},
     "output_type": "execute_result"
    }
   ],
   "source": [
    "from IPython.display import Image\n",
    "\n",
    "# Provide the local path to the image\n",
    "Image(filename='Screenshot 2025-06-24 125114.png')\n"
   ]
  },
  {
   "cell_type": "code",
   "execution_count": 141,
   "id": "6099678a-9278-45c0-9597-0d107fb2a9b5",
   "metadata": {},
   "outputs": [
    {
     "ename": "IndexError",
     "evalue": "string index out of range",
     "output_type": "error",
     "traceback": [
      "\u001b[31m---------------------------------------------------------------------------\u001b[39m",
      "\u001b[31mIndexError\u001b[39m                                Traceback (most recent call last)",
      "\u001b[36mCell\u001b[39m\u001b[36m \u001b[39m\u001b[32mIn[141]\u001b[39m\u001b[32m, line 1\u001b[39m\n\u001b[32m----> \u001b[39m\u001b[32m1\u001b[39m \u001b[43mword\u001b[49m\u001b[43m[\u001b[49m\u001b[32;43m42\u001b[39;49m\u001b[43m]\u001b[49m\n",
      "\u001b[31mIndexError\u001b[39m: string index out of range"
     ]
    }
   ],
   "source": [
    "word[42]"
   ]
  },
  {
   "cell_type": "code",
   "execution_count": 142,
   "id": "572ab6b2-10db-41a8-bcd0-af3352d0482f",
   "metadata": {},
   "outputs": [
    {
     "data": {
      "text/plain": [
       "'on'"
      ]
     },
     "execution_count": 142,
     "metadata": {},
     "output_type": "execute_result"
    }
   ],
   "source": [
    "word[4:42]"
   ]
  },
  {
   "cell_type": "code",
   "execution_count": 143,
   "id": "c70acd66-7a2f-4d0f-b6f8-225576cdb3c8",
   "metadata": {},
   "outputs": [
    {
     "data": {
      "text/plain": [
       "''"
      ]
     },
     "execution_count": 143,
     "metadata": {},
     "output_type": "execute_result"
    }
   ],
   "source": [
    "word[42:]"
   ]
  },
  {
   "cell_type": "code",
   "execution_count": 144,
   "id": "e07510d1-0357-4d2d-949c-4eea877c4017",
   "metadata": {},
   "outputs": [
    {
     "ename": "TypeError",
     "evalue": "'str' object does not support item assignment",
     "output_type": "error",
     "traceback": [
      "\u001b[31m---------------------------------------------------------------------------\u001b[39m",
      "\u001b[31mTypeError\u001b[39m                                 Traceback (most recent call last)",
      "\u001b[36mCell\u001b[39m\u001b[36m \u001b[39m\u001b[32mIn[144]\u001b[39m\u001b[32m, line 1\u001b[39m\n\u001b[32m----> \u001b[39m\u001b[32m1\u001b[39m \u001b[43mword\u001b[49m\u001b[43m[\u001b[49m\u001b[32;43m0\u001b[39;49m\u001b[43m]\u001b[49m=\u001b[33m'\u001b[39m\u001b[33mj\u001b[39m\u001b[33m'\u001b[39m\n",
      "\u001b[31mTypeError\u001b[39m: 'str' object does not support item assignment"
     ]
    }
   ],
   "source": [
    "\n",
    "word[0]='j'"
   ]
  },
  {
   "cell_type": "code",
   "execution_count": 145,
   "id": "12ace7c2-4f21-4fe7-8cf3-ac7cd3806fdd",
   "metadata": {},
   "outputs": [
    {
     "data": {
      "text/plain": [
       "'jython'"
      ]
     },
     "execution_count": 145,
     "metadata": {},
     "output_type": "execute_result"
    }
   ],
   "source": [
    "'j'+word[1:]"
   ]
  },
  {
   "cell_type": "code",
   "execution_count": 146,
   "id": "b8224f21-4210-426b-b209-13b7b5631689",
   "metadata": {},
   "outputs": [
    {
     "data": {
      "text/plain": [
       "'pypy'"
      ]
     },
     "execution_count": 146,
     "metadata": {},
     "output_type": "execute_result"
    }
   ],
   "source": [
    "word[:2]+'py'"
   ]
  },
  {
   "cell_type": "code",
   "execution_count": 147,
   "id": "de00b0e6-f0fe-44a4-a709-35aa79e823ee",
   "metadata": {},
   "outputs": [
    {
     "data": {
      "text/plain": [
       "32"
      ]
     },
     "execution_count": 147,
     "metadata": {},
     "output_type": "execute_result"
    }
   ],
   "source": [
    "s='supercalifraglisticeexpilictions'\n",
    "len(s)"
   ]
  },
  {
   "cell_type": "markdown",
   "id": "93e18090-076b-4a0e-9be3-b82f0f05a07d",
   "metadata": {},
   "source": [
    "# Lists"
   ]
  },
  {
   "cell_type": "code",
   "execution_count": 148,
   "id": "09b7516b-1dc2-450a-8543-ba862fb7bde6",
   "metadata": {},
   "outputs": [
    {
     "data": {
      "text/plain": [
       "[1, 4, 9, 16, 25]"
      ]
     },
     "execution_count": 148,
     "metadata": {},
     "output_type": "execute_result"
    }
   ],
   "source": [
    "squares=[1,4,9,16,25]\n",
    "squares"
   ]
  },
  {
   "cell_type": "code",
   "execution_count": 149,
   "id": "cafca635-9de3-452a-9248-b91219081e11",
   "metadata": {},
   "outputs": [
    {
     "data": {
      "text/plain": [
       "1"
      ]
     },
     "execution_count": 149,
     "metadata": {},
     "output_type": "execute_result"
    }
   ],
   "source": [
    "squares[0]      #indexing returns the item"
   ]
  },
  {
   "cell_type": "code",
   "execution_count": 150,
   "id": "36adca6b-bd7a-4cfd-910f-b0c26d5008f4",
   "metadata": {},
   "outputs": [
    {
     "data": {
      "text/plain": [
       "25"
      ]
     },
     "execution_count": 150,
     "metadata": {},
     "output_type": "execute_result"
    }
   ],
   "source": [
    "squares[-1]"
   ]
  },
  {
   "cell_type": "code",
   "execution_count": 151,
   "id": "fa4ddca0-e48d-4d48-832b-a639a3f3049d",
   "metadata": {},
   "outputs": [
    {
     "data": {
      "text/plain": [
       "[9, 16, 25]"
      ]
     },
     "execution_count": 151,
     "metadata": {},
     "output_type": "execute_result"
    }
   ],
   "source": [
    "squares[-3:]      #slicing returns a new list"
   ]
  },
  {
   "cell_type": "code",
   "execution_count": 152,
   "id": "d653b38e-15cf-4cca-a6d0-da873aef6fa0",
   "metadata": {},
   "outputs": [
    {
     "data": {
      "text/plain": [
       "[1, 4, 9, 16, 25, 32, 43, 64, 91, 100]"
      ]
     },
     "execution_count": 152,
     "metadata": {},
     "output_type": "execute_result"
    }
   ],
   "source": [
    "squares+[32,43,64,91,100]"
   ]
  },
  {
   "cell_type": "code",
   "execution_count": 153,
   "id": "ebd533c0-6409-46f4-92f0-2bbd41c32d63",
   "metadata": {},
   "outputs": [
    {
     "data": {
      "text/plain": [
       "[1, 8, 27, 65, 125]"
      ]
     },
     "execution_count": 153,
     "metadata": {},
     "output_type": "execute_result"
    }
   ],
   "source": [
    "cubes=[1,8,27,65,125]\n",
    "cubes"
   ]
  },
  {
   "cell_type": "code",
   "execution_count": 154,
   "id": "c5dde8f9-b3cc-4631-b949-ad201384c4d0",
   "metadata": {},
   "outputs": [
    {
     "data": {
      "text/plain": [
       "[1, 8, 27, 65, 125, 216, 343]"
      ]
     },
     "execution_count": 154,
     "metadata": {},
     "output_type": "execute_result"
    }
   ],
   "source": [
    "cubes.append(216)  #add the cube of 6\n",
    "cubes.append(7**3)\n",
    "cubes"
   ]
  },
  {
   "cell_type": "code",
   "execution_count": 155,
   "id": "af58d17d-6591-45ba-8f48-5e0089353cca",
   "metadata": {},
   "outputs": [
    {
     "data": {
      "text/plain": [
       "True"
      ]
     },
     "execution_count": 155,
     "metadata": {},
     "output_type": "execute_result"
    }
   ],
   "source": [
    "rgb=[\"Red\",\"Green\",\"Blue\"]\n",
    "rgba=rgb\n",
    "id(rgb)==id(rgba)      #they refernce the same object"
   ]
  },
  {
   "cell_type": "code",
   "execution_count": 156,
   "id": "12ee93ba-b37e-4ee9-8c4d-10cadd48ccc0",
   "metadata": {},
   "outputs": [
    {
     "data": {
      "text/plain": [
       "['Red', 'Green', 'Blue', 'alph']"
      ]
     },
     "execution_count": 156,
     "metadata": {},
     "output_type": "execute_result"
    }
   ],
   "source": [
    "rgba.append(\"alph\")\n",
    "rgb"
   ]
  },
  {
   "cell_type": "code",
   "execution_count": 157,
   "id": "7ffa113f-5acb-4ffa-a703-fd1dc1bbf2df",
   "metadata": {},
   "outputs": [
    {
     "data": {
      "text/plain": [
       "['Red', 'Green', 'Blue', 'Alpha']"
      ]
     },
     "execution_count": 157,
     "metadata": {},
     "output_type": "execute_result"
    }
   ],
   "source": [
    "correct_rgba=rgba[:]\n",
    "correct_rgba[-1]=\"Alpha\"\n",
    "correct_rgba"
   ]
  },
  {
   "cell_type": "code",
   "execution_count": 158,
   "id": "b39cdaaa-a272-41f3-b0c4-27e545988f59",
   "metadata": {},
   "outputs": [
    {
     "data": {
      "text/plain": [
       "['Red', 'Green', 'Blue', 'alph']"
      ]
     },
     "execution_count": 158,
     "metadata": {},
     "output_type": "execute_result"
    }
   ],
   "source": [
    "rgba"
   ]
  },
  {
   "cell_type": "code",
   "execution_count": 159,
   "id": "5c378afe-b41c-4718-b32d-dd3b7e717afb",
   "metadata": {},
   "outputs": [
    {
     "data": {
      "text/plain": [
       "['a', 'b', 'c', 'd', 'e', 'f', 'g']"
      ]
     },
     "execution_count": 159,
     "metadata": {},
     "output_type": "execute_result"
    }
   ],
   "source": [
    "letters=['a','b','c','d','e','f','g']\n",
    "letters"
   ]
  },
  {
   "cell_type": "code",
   "execution_count": 160,
   "id": "c0b4915d-9b41-4ba9-95b7-158480bd8651",
   "metadata": {},
   "outputs": [
    {
     "data": {
      "text/plain": [
       "['c', 'd', 'e']"
      ]
     },
     "execution_count": 160,
     "metadata": {},
     "output_type": "execute_result"
    }
   ],
   "source": [
    "# replace some values\n",
    "letters[2:5]"
   ]
  },
  {
   "cell_type": "code",
   "execution_count": 161,
   "id": "33764364-dd9a-4af8-a663-42fb6b87c900",
   "metadata": {},
   "outputs": [
    {
     "data": {
      "text/plain": [
       "['a', 'b', 'c', 'd', 'e', 'f', 'g']"
      ]
     },
     "execution_count": 161,
     "metadata": {},
     "output_type": "execute_result"
    }
   ],
   "source": [
    "letters"
   ]
  },
  {
   "cell_type": "code",
   "execution_count": 162,
   "id": "3db13e44-9e2f-4375-9dd6-791e574b09d2",
   "metadata": {},
   "outputs": [
    {
     "data": {
      "text/plain": [
       "['a', 'b', 'f', 'g']"
      ]
     },
     "execution_count": 162,
     "metadata": {},
     "output_type": "execute_result"
    }
   ],
   "source": [
    "# now remove them\n",
    "letters[2:5]=[]\n",
    "letters"
   ]
  },
  {
   "cell_type": "code",
   "execution_count": 163,
   "id": "3e694ebc-0929-482a-bffe-3f6be65a5904",
   "metadata": {},
   "outputs": [],
   "source": [
    "# clear the list by replacing all the elements with an empty list "
   ]
  },
  {
   "cell_type": "code",
   "execution_count": 164,
   "id": "6262e58c-63b1-4fec-b70b-f3690a4f432e",
   "metadata": {},
   "outputs": [
    {
     "data": {
      "text/plain": [
       "[]"
      ]
     },
     "execution_count": 164,
     "metadata": {},
     "output_type": "execute_result"
    }
   ],
   "source": [
    "letters[:]=[]\n",
    "letters"
   ]
  },
  {
   "cell_type": "code",
   "execution_count": 165,
   "id": "8cd9c4cf-0a04-4200-9c46-350c2c6d90cd",
   "metadata": {},
   "outputs": [
    {
     "data": {
      "text/plain": [
       "['a', 'b', 'c', 'd', 'e']"
      ]
     },
     "execution_count": 165,
     "metadata": {},
     "output_type": "execute_result"
    }
   ],
   "source": [
    "letters=['a','b','c','d','e']\n",
    "letters"
   ]
  },
  {
   "cell_type": "code",
   "execution_count": 166,
   "id": "9e51dadc-7263-49a2-950a-03c4adbe168f",
   "metadata": {},
   "outputs": [
    {
     "data": {
      "text/plain": [
       "5"
      ]
     },
     "execution_count": 166,
     "metadata": {},
     "output_type": "execute_result"
    }
   ],
   "source": [
    "len(letters)"
   ]
  },
  {
   "cell_type": "code",
   "execution_count": 167,
   "id": "08efdf15-89c0-4e87-ac9b-5ae9db31ce3a",
   "metadata": {},
   "outputs": [
    {
     "data": {
      "text/plain": [
       "[['a', 'b', 'c'], [1, 2, 3]]"
      ]
     },
     "execution_count": 167,
     "metadata": {},
     "output_type": "execute_result"
    }
   ],
   "source": [
    "a=['a','b','c']\n",
    "n=[1,2,3]\n",
    "x=[a,n]\n",
    "x"
   ]
  },
  {
   "cell_type": "code",
   "execution_count": 168,
   "id": "91407bef-59d9-4a98-98be-b529a66aaa5e",
   "metadata": {},
   "outputs": [
    {
     "data": {
      "text/plain": [
       "['a', 'b', 'c']"
      ]
     },
     "execution_count": 168,
     "metadata": {},
     "output_type": "execute_result"
    }
   ],
   "source": [
    "x[0]"
   ]
  },
  {
   "cell_type": "code",
   "execution_count": 169,
   "id": "9f394b48-7eaa-45c9-9ff0-3c03c4bd5ae1",
   "metadata": {},
   "outputs": [
    {
     "data": {
      "text/plain": [
       "'b'"
      ]
     },
     "execution_count": 169,
     "metadata": {},
     "output_type": "execute_result"
    }
   ],
   "source": [
    "x[0][1]"
   ]
  },
  {
   "cell_type": "code",
   "execution_count": 170,
   "id": "817fbc67-c1fb-4e95-844f-124441fa1924",
   "metadata": {},
   "outputs": [
    {
     "name": "stdout",
     "output_type": "stream",
     "text": [
      "0\n",
      "1\n",
      "1\n",
      "2\n",
      "3\n",
      "5\n",
      "8\n"
     ]
    }
   ],
   "source": [
    "# fibonacci series:\n",
    "# the sum of two elements defines the next\n",
    "a,b=0,1\n",
    "while a<10:\n",
    "    print(a)\n",
    "    a,b=b,a+b\n",
    "    \n",
    "    "
   ]
  },
  {
   "cell_type": "code",
   "execution_count": 171,
   "id": "e56064b1-dc1e-4af0-94c6-81ab48dbc061",
   "metadata": {},
   "outputs": [
    {
     "name": "stdout",
     "output_type": "stream",
     "text": [
      "the value of i is 65536\n"
     ]
    }
   ],
   "source": [
    "i=256*256\n",
    "print('the value of i is',i)"
   ]
  },
  {
   "cell_type": "code",
   "execution_count": 172,
   "id": "389de7e5-c4a7-4133-b7ee-701cd2878d65",
   "metadata": {},
   "outputs": [
    {
     "name": "stdout",
     "output_type": "stream",
     "text": [
      "0,1,1,2,3,5,8,13,21,34,55,89,144,233,377,610,987,"
     ]
    }
   ],
   "source": [
    "a,b=0,1\n",
    "while a<1000:\n",
    "    print(a,end=',')\n",
    "    a,b=b,a+b"
   ]
  },
  {
   "cell_type": "markdown",
   "id": "6f9e7a40-dbf6-4eb5-b4e7-03de4480a84f",
   "metadata": {},
   "source": [
    "#print is use for answer"
   ]
  },
  {
   "cell_type": "code",
   "execution_count": 173,
   "id": "417a4f2a-004d-4fe8-831f-1d08290566c4",
   "metadata": {},
   "outputs": [
    {
     "data": {
      "text/plain": [
       "20"
      ]
     },
     "execution_count": 173,
     "metadata": {},
     "output_type": "execute_result"
    }
   ],
   "source": [
    "a=10\n",
    "b=20\n",
    "a\n",
    "b"
   ]
  },
  {
   "cell_type": "code",
   "execution_count": 174,
   "id": "35470cfa-d412-4fe0-929c-e9b9d3f7add2",
   "metadata": {},
   "outputs": [
    {
     "name": "stdout",
     "output_type": "stream",
     "text": [
      "10\n",
      "20\n"
     ]
    }
   ],
   "source": [
    "a=10\n",
    "b=20\n",
    "print(a)\n",
    "print(b)"
   ]
  },
  {
   "cell_type": "code",
   "execution_count": 175,
   "id": "f845beda-1a2f-4d9f-81d3-4ec4d9c03015",
   "metadata": {},
   "outputs": [
    {
     "name": "stdout",
     "output_type": "stream",
     "text": [
      "10\n",
      "10 20\n",
      "python\n",
      "10 20 python\n"
     ]
    }
   ],
   "source": [
    "print(10)\n",
    "print(10,20)\n",
    "print('python')\n",
    "print(10,20,'python')"
   ]
  },
  {
   "cell_type": "code",
   "execution_count": 176,
   "id": "93f81515-4a8b-4258-9e4b-ed63eccc0731",
   "metadata": {},
   "outputs": [
    {
     "name": "stdout",
     "output_type": "stream",
     "text": [
      "The addition of 20 and 30 is= 50\n"
     ]
    }
   ],
   "source": [
    "num1=20\n",
    "num2=30\n",
    "add=num1+num2\n",
    "print('The addition of',num1,'and',num2,'is=',add)"
   ]
  },
  {
   "cell_type": "code",
   "execution_count": 177,
   "id": "c940b88e-b6da-45b1-bf6c-52495ed7a5b9",
   "metadata": {},
   "outputs": [
    {
     "name": "stdout",
     "output_type": "stream",
     "text": [
      "my name is python and i am 20 years old from hyd\n"
     ]
    }
   ],
   "source": [
    "name='python'\n",
    "age=20\n",
    "city='hyd'\n",
    "#hello my name is python and i am 10year old from hyderbad\n",
    "print('my name is',name,'and i am',age,'years old from',city)\n"
   ]
  },
  {
   "cell_type": "markdown",
   "id": "f2da3157-f329-4180-ab24-5399f3f764c4",
   "metadata": {},
   "source": [
    "# print formaat method"
   ]
  },
  {
   "cell_type": "code",
   "execution_count": 178,
   "id": "4674bc28-ae56-4e1b-a1b1-4f01c91abf5c",
   "metadata": {},
   "outputs": [
    {
     "name": "stdout",
     "output_type": "stream",
     "text": [
      "The addition of 20 and 20 is =40\n"
     ]
    }
   ],
   "source": [
    "num1=20\n",
    "num2=20\n",
    "add=num1+num2\n",
    "print('The addition of {} and {} is ={}'.format(num1,num2,add))"
   ]
  },
  {
   "cell_type": "code",
   "execution_count": 179,
   "id": "1bd833ea-ab94-4b9d-b3e9-de914a5d455f",
   "metadata": {},
   "outputs": [
    {
     "name": "stdout",
     "output_type": "stream",
     "text": [
      "hello my name is python,and i am 20 years old from hyd\n"
     ]
    }
   ],
   "source": [
    "name='python'\n",
    "age=20\n",
    "city='hyd'\n",
    "#hellow my name is python and i am 10 year old form hyderbad\n",
    "print('hello my name is {},and i am {} years old from {}'.format(name,age,city))"
   ]
  },
  {
   "cell_type": "code",
   "execution_count": 180,
   "id": "bf7b565d-76cf-44d2-ab04-0e73c7b41f23",
   "metadata": {},
   "outputs": [
    {
     "name": "stdout",
     "output_type": "stream",
     "text": [
      "The average of 100, 25, and333 is=152.66666666666666 or152.67\n"
     ]
    }
   ],
   "source": [
    "num1=100\n",
    "num2=25\n",
    "num3=333\n",
    "avg=(num1+num2+num3)/3  #or we can use avg=round(num1+num2+num3/3)\n",
    "avg1=round((num1+num2+num3)/3,2)  #The average of num1,num2,num3 is=avg\n",
    "print('The average of {}, {}, and{} is={} or{}'.format(num1,num2,num3,avg,avg1))  #here we can use round(avg,2) also"
   ]
  },
  {
   "cell_type": "code",
   "execution_count": 181,
   "id": "520ae349-c2f1-4a7c-bb41-52b1cde56f62",
   "metadata": {},
   "outputs": [
    {
     "data": {
      "text/plain": [
       "152.67"
      ]
     },
     "execution_count": 181,
     "metadata": {},
     "output_type": "execute_result"
    }
   ],
   "source": [
    "round(avg,2)   #round of till 2 digits after decimal"
   ]
  },
  {
   "cell_type": "markdown",
   "id": "91d5fb62-0736-492f-8a1e-3c28a6e2185b",
   "metadata": {},
   "source": [
    "# More short format method(f string method)"
   ]
  },
  {
   "cell_type": "code",
   "execution_count": 182,
   "id": "ea5fe4cd-4f6b-4269-a725-99b381a86c1b",
   "metadata": {},
   "outputs": [
    {
     "name": "stdout",
     "output_type": "stream",
     "text": [
      "The addition of 20and30 is =50\n"
     ]
    }
   ],
   "source": [
    "num1=20\n",
    "num2=30\n",
    "add=num2+num1\n",
    "print(f'The addition of {num1}and{num2} is ={add}')  # always prefer this"
   ]
  },
  {
   "cell_type": "code",
   "execution_count": 183,
   "id": "7c052195-0943-442b-92a2-c44772783c75",
   "metadata": {},
   "outputs": [
    {
     "name": "stdout",
     "output_type": "stream",
     "text": [
      "hello my name is python,and i am 20,year old from hyd\n"
     ]
    }
   ],
   "source": [
    "name='python'\n",
    "age=20\n",
    "city='hyd'\n",
    "#hello my name is python and i am 10 year old from hyderbad\n",
    "print(f'hello my name is {name},and i am {age},year old from {city}')"
   ]
  },
  {
   "cell_type": "code",
   "execution_count": 184,
   "id": "abf133a8-2811-40d8-8a76-78476dbce89e",
   "metadata": {},
   "outputs": [
    {
     "name": "stdout",
     "output_type": "stream",
     "text": [
      "The avrage of20,25,333 is (126.0, 2)\n"
     ]
    }
   ],
   "source": [
    "num1=20\n",
    "num2=25\n",
    "num3=333\n",
    "avg=round(num1+num2+num3)/3,2 # or e=we can use avg=round(num1+num3+num2)/3,2\n",
    "# The avrage of num1,num2,num3 is =avg\n",
    "print(f'The avrage of{num1},{num2},{num3} is {avg}')"
   ]
  },
  {
   "cell_type": "code",
   "execution_count": 185,
   "id": "4c00006f-9648-419a-bb49-71a30eff19fb",
   "metadata": {},
   "outputs": [
    {
     "name": "stdout",
     "output_type": "stream",
     "text": [
      "The addition of 10 and 20 is 30\n",
      "The addition of10 and 20 is=30\n",
      "The addition of 10and20 is=30\n"
     ]
    }
   ],
   "source": [
    "#Lete combine all\n",
    "num1=10\n",
    "num2=20\n",
    "add=num1+num2\n",
    "print('The addition of',num1,'and',num2,'is',add)\n",
    "print('The addition of{} and {} is={}'.format(num1,num2,add))\n",
    "print(f'The addition of {num1}and{num2} is={add}')"
   ]
  },
  {
   "cell_type": "markdown",
   "id": "60540d3c-cf41-4001-825a-c453232c3309",
   "metadata": {},
   "source": [
    "# End statement"
   ]
  },
  {
   "cell_type": "code",
   "execution_count": 186,
   "id": "98a6e095-6aa1-4661-99d2-1376a653097a",
   "metadata": {},
   "outputs": [
    {
     "name": "stdout",
     "output_type": "stream",
     "text": [
      "hello\n",
      "good night\n"
     ]
    }
   ],
   "source": [
    "print('hello')   #1st statement\n",
    "print('good night')  #2nd statement\n",
    "# i want print like:- hello good night"
   ]
  },
  {
   "cell_type": "code",
   "execution_count": 187,
   "id": "d2549de5-d281-4c96-bb1d-e3c9dd613a99",
   "metadata": {},
   "outputs": [
    {
     "name": "stdout",
     "output_type": "stream",
     "text": [
      "helloworld good day\n"
     ]
    }
   ],
   "source": [
    "print('hello', end ='')  #1st statement\n",
    "print('world good day')  #2nd statement"
   ]
  },
  {
   "cell_type": "markdown",
   "id": "72689ceb-7107-41a4-8136-ebaee314ac1d",
   "metadata": {},
   "source": [
    "# separator"
   ]
  },
  {
   "cell_type": "code",
   "execution_count": 188,
   "id": "e5b0cfd3-8a8b-429c-a5f3-1ae44c258eb6",
   "metadata": {},
   "outputs": [
    {
     "name": "stdout",
     "output_type": "stream",
     "text": [
      "hello--->hai--->how are you\n"
     ]
    }
   ],
   "source": [
    "print('hello','hai','how are you',sep='--->')"
   ]
  },
  {
   "cell_type": "code",
   "execution_count": 189,
   "id": "7792d93a-0649-4b6e-9502-5681e168a04f",
   "metadata": {},
   "outputs": [
    {
     "name": "stdout",
     "output_type": "stream",
     "text": [
      "hello&hai&how are you\n"
     ]
    }
   ],
   "source": [
    "print('hello','hai','how are you',sep='&')"
   ]
  },
  {
   "cell_type": "code",
   "execution_count": 190,
   "id": "3772bec5-dcde-477f-845c-dc83cb6e5d6c",
   "metadata": {},
   "outputs": [
    {
     "name": "stdout",
     "output_type": "stream",
     "text": [
      "hello@hai@how are you\n"
     ]
    }
   ],
   "source": [
    "print('hello','hai','how are you',sep='@')"
   ]
  },
  {
   "cell_type": "code",
   "execution_count": 191,
   "id": "82b303b2-5e75-4c9f-81b0-8670f930f8bc",
   "metadata": {},
   "outputs": [
    {
     "name": "stdout",
     "output_type": "stream",
     "text": [
      "hellohaihow are you\n"
     ]
    }
   ],
   "source": [
    "print('hello','hai','how are you', sep ='')"
   ]
  },
  {
   "cell_type": "code",
   "execution_count": 192,
   "id": "f4244108-60b7-4e0e-8e2d-9465f566f5f3",
   "metadata": {},
   "outputs": [
    {
     "name": "stdout",
     "output_type": "stream",
     "text": [
      "3 .\n"
     ]
    }
   ],
   "source": [
    "print(3,'.')   # . is far from 3 so here we will use sep method"
   ]
  },
  {
   "cell_type": "code",
   "execution_count": 193,
   "id": "92aebda4-ce3d-41cb-825b-8f953f10d95a",
   "metadata": {},
   "outputs": [
    {
     "name": "stdout",
     "output_type": "stream",
     "text": [
      "3.\n"
     ]
    }
   ],
   "source": [
    "print(3,'.',sep='')   #see now space settle id(also use to remove space b/w words)\n"
   ]
  },
  {
   "cell_type": "code",
   "execution_count": 194,
   "id": "61c702fe-8925-4f48-a749-4d54ce2a802d",
   "metadata": {},
   "outputs": [
    {
     "name": "stdout",
     "output_type": "stream",
     "text": [
      "1 23.\n"
     ]
    }
   ],
   "source": [
    "print(1,2,end ='')\n",
    "print(3, '.', sep='')\n",
    "# will print 1 2 3\n"
   ]
  },
  {
   "cell_type": "markdown",
   "id": "d9e26493-f7be-46bf-b8ce-bc5fd6eb9b14",
   "metadata": {},
   "source": [
    "# Complex data type"
   ]
  },
  {
   "cell_type": "code",
   "execution_count": 195,
   "id": "15f467c6-f8ca-41d5-8728-0aa7522826ba",
   "metadata": {},
   "outputs": [
    {
     "ename": "NameError",
     "evalue": "name 'real' is not defined",
     "output_type": "error",
     "traceback": [
      "\u001b[31m---------------------------------------------------------------------------\u001b[39m",
      "\u001b[31mNameError\u001b[39m                                 Traceback (most recent call last)",
      "\u001b[36mCell\u001b[39m\u001b[36m \u001b[39m\u001b[32mIn[195]\u001b[39m\u001b[32m, line 2\u001b[39m\n\u001b[32m      1\u001b[39m \u001b[38;5;66;03m#creating a complex mumber\u001b[39;00m\n\u001b[32m----> \u001b[39m\u001b[32m2\u001b[39m z=\u001b[43mreal\u001b[49m+imaginary*\u001b[32m1\u001b[39mj\n",
      "\u001b[31mNameError\u001b[39m: name 'real' is not defined"
     ]
    }
   ],
   "source": [
    "#creating a complex mumber\n",
    "z=real+imaginary*1j"
   ]
  },
  {
   "cell_type": "code",
   "execution_count": 196,
   "id": "48d86e2e-9934-408f-880d-f2df06a7b005",
   "metadata": {},
   "outputs": [
    {
     "name": "stdout",
     "output_type": "stream",
     "text": [
      "3.0\n",
      "4.0\n"
     ]
    }
   ],
   "source": [
    "z=3+4j\n",
    "print(z.real)        #Accessing the Real and Imaginary Parts\n",
    "print(z.imag)"
   ]
  },
  {
   "cell_type": "code",
   "execution_count": 197,
   "id": "fbdd80bc-2b34-497b-a565-f2723e0ff1d2",
   "metadata": {},
   "outputs": [
    {
     "name": "stdout",
     "output_type": "stream",
     "text": [
      "(4+6j)\n",
      "(2+2j)\n",
      "(-5+10j)\n",
      "(2.2-0.4j)\n"
     ]
    }
   ],
   "source": [
    "#operations with complex number\n",
    "a=3+4j\n",
    "b=1+2j\n",
    "print(a+b)  #Add\n",
    "print(a-b)  #Sub\n",
    "print(a*b)  #Mul\n",
    "print(a/b)  #Div"
   ]
  },
  {
   "cell_type": "code",
   "execution_count": 198,
   "id": "a31395fa-cabf-48ac-af25-62023f17bef8",
   "metadata": {},
   "outputs": [
    {
     "name": "stdout",
     "output_type": "stream",
     "text": [
      "5.0\n",
      "(3-4j)\n"
     ]
    }
   ],
   "source": [
    "#Using Built-in funxtions\n",
    "z=3+4j\n",
    "print(abs(z))              #magintude\n",
    "print(z.conjugate())       #Complex Conjugate"
   ]
  },
  {
   "cell_type": "code",
   "execution_count": 199,
   "id": "4a0dc041-fed0-471a-bca2-4e3bd7ab28f1",
   "metadata": {},
   "outputs": [
    {
     "name": "stdout",
     "output_type": "stream",
     "text": [
      "0.7853981633974483\n",
      "(1.4142135623730951, 0.7853981633974483)\n",
      "(1.09868411346781+0.45508986056222733j)\n"
     ]
    }
   ],
   "source": [
    "#Complex Number in the cmath Module\n",
    "import cmath\n",
    "z=1+1j\n",
    "print(cmath.phase(z))  #Getting the phase(angle) of the complex number\n",
    "print(cmath.polar(z))  #Getting the polar form of a complex number(magnitude,angle)\n",
    "print(cmath.sqrt(z))   #Getting the sqaure root of complex number"
   ]
  },
  {
   "cell_type": "markdown",
   "id": "a67a8b0a-7d1c-4a26-b4d4-f9f93982aa29",
   "metadata": {},
   "source": [
    "# Python Tutorial\n"
   ]
  },
  {
   "cell_type": "code",
   "execution_count": 200,
   "id": "b101c270-081a-4975-ae9e-310639e6dd44",
   "metadata": {},
   "outputs": [],
   "source": [
    "import sys\n",
    "import keyword\n",
    "import operator\n",
    "from datetime import datetime\n",
    "import os"
   ]
  },
  {
   "cell_type": "markdown",
   "id": "4f85c80b-973f-4b6a-a485-b5969cea5590",
   "metadata": {},
   "source": [
    "# Keywords"
   ]
  },
  {
   "cell_type": "code",
   "execution_count": 201,
   "id": "e028c447-0cef-48fe-b9b0-e7ca1a31de3d",
   "metadata": {},
   "outputs": [
    {
     "name": "stdout",
     "output_type": "stream",
     "text": [
      "['False', 'None', 'True', 'and', 'as', 'assert', 'async', 'await', 'break', 'class', 'continue', 'def', 'del', 'elif', 'else', 'except', 'finally', 'for', 'from', 'global', 'if', 'import', 'in', 'is', 'lambda', 'nonlocal', 'not', 'or', 'pass', 'raise', 'return', 'try', 'while', 'with', 'yield']\n"
     ]
    }
   ],
   "source": [
    "print(keyword.kwlist)       #List all Python Keywords"
   ]
  },
  {
   "cell_type": "code",
   "execution_count": 202,
   "id": "3e9bbb81-bd5c-432a-a8fc-edefc92eb583",
   "metadata": {},
   "outputs": [
    {
     "data": {
      "text/plain": [
       "35"
      ]
     },
     "execution_count": 202,
     "metadata": {},
     "output_type": "execute_result"
    }
   ],
   "source": [
    "len(keyword.kwlist)       #Python contains 35vkeywords"
   ]
  },
  {
   "cell_type": "markdown",
   "id": "115f4b76-0879-4b7b-a3d5-e344997e89a8",
   "metadata": {},
   "source": [
    "# Identifier"
   ]
  },
  {
   "cell_type": "code",
   "execution_count": 203,
   "id": "66c1263b-698a-4405-b524-6df22a6d5000",
   "metadata": {},
   "outputs": [
    {
     "ename": "SyntaxError",
     "evalue": "invalid decimal literal (705706640.py, line 1)",
     "output_type": "error",
     "traceback": [
      "  \u001b[36mCell\u001b[39m\u001b[36m \u001b[39m\u001b[32mIn[203]\u001b[39m\u001b[32m, line 1\u001b[39m\n\u001b[31m    \u001b[39m\u001b[31m1var=10    #Identifier can't start with a digit\u001b[39m\n    ^\n\u001b[31mSyntaxError\u001b[39m\u001b[31m:\u001b[39m invalid decimal literal\n"
     ]
    }
   ],
   "source": [
    "1var=10    #Identifier can't start with a digit"
   ]
  },
  {
   "cell_type": "code",
   "execution_count": 204,
   "id": "51de7b69-31da-44bc-afc9-a7be0ba54410",
   "metadata": {},
   "outputs": [
    {
     "ename": "NameError",
     "evalue": "name 'val2' is not defined",
     "output_type": "error",
     "traceback": [
      "\u001b[31m---------------------------------------------------------------------------\u001b[39m",
      "\u001b[31mNameError\u001b[39m                                 Traceback (most recent call last)",
      "\u001b[36mCell\u001b[39m\u001b[36m \u001b[39m\u001b[32mIn[204]\u001b[39m\u001b[32m, line 1\u001b[39m\n\u001b[32m----> \u001b[39m\u001b[32m1\u001b[39m \u001b[43mval2\u001b[49m@=\u001b[32m35\u001b[39m   \u001b[38;5;66;03m#Identifier can't use special character\u001b[39;00m\n",
      "\u001b[31mNameError\u001b[39m: name 'val2' is not defined"
     ]
    }
   ],
   "source": [
    "val2@=35   #Identifier can't use special character"
   ]
  },
  {
   "cell_type": "code",
   "execution_count": 205,
   "id": "3712b51f-61b8-4917-aeb2-d28a00405a8b",
   "metadata": {},
   "outputs": [
    {
     "ename": "SyntaxError",
     "evalue": "invalid syntax (2905768524.py, line 1)",
     "output_type": "error",
     "traceback": [
      "  \u001b[36mCell\u001b[39m\u001b[36m \u001b[39m\u001b[32mIn[205]\u001b[39m\u001b[32m, line 1\u001b[39m\n\u001b[31m    \u001b[39m\u001b[31mimport=125   #Keywords can't be used identifier\u001b[39m\n          ^\n\u001b[31mSyntaxError\u001b[39m\u001b[31m:\u001b[39m invalid syntax\n"
     ]
    }
   ],
   "source": [
    "import=125   #Keywords can't be used identifier"
   ]
  },
  {
   "cell_type": "code",
   "execution_count": 206,
   "id": "224b9fea-c01f-4f0d-ace0-3947925165c2",
   "metadata": {},
   "outputs": [],
   "source": [
    "\"\"\"\n",
    "Correct way of defining an identifier \n",
    "(Identifiers can be a combination of letters in lowercase (a to z) or uppercase \n",
    "\"\"\" \n",
    "val2=10"
   ]
  },
  {
   "cell_type": "code",
   "execution_count": 207,
   "id": "fddeebb1-1483-4773-b97e-190f317723d2",
   "metadata": {},
   "outputs": [],
   "source": [
    "val_=99"
   ]
  },
  {
   "cell_type": "markdown",
   "id": "7b2b4f28-6266-4a2b-b088-8c6b459f3dfc",
   "metadata": {},
   "source": [
    "# Comments in Python"
   ]
  },
  {
   "cell_type": "code",
   "execution_count": 208,
   "id": "2bf86cbc-6755-407a-b8d4-775ad3e65941",
   "metadata": {},
   "outputs": [],
   "source": [
    "#Single line comment\n",
    "val1=10"
   ]
  },
  {
   "cell_type": "code",
   "execution_count": 209,
   "id": "d86b6e53-a52c-40f2-9370-9cd87a14c9a5",
   "metadata": {},
   "outputs": [],
   "source": [
    "#Muliple\n",
    "#line\n",
    "#comment\n",
    "val1=10"
   ]
  },
  {
   "cell_type": "code",
   "execution_count": 210,
   "id": "1cc80093-3bd0-44d2-9eb7-d887c9708948",
   "metadata": {},
   "outputs": [],
   "source": [
    "\"\"\"\n",
    "multiple\n",
    "line\n",
    "comment\n",
    "\"\"\"\n",
    "val1=10"
   ]
  },
  {
   "cell_type": "markdown",
   "id": "086a6887-9352-4fd7-b70d-19c50b895bcd",
   "metadata": {},
   "source": [
    "# Statements"
   ]
  },
  {
   "cell_type": "code",
   "execution_count": 211,
   "id": "66e0249b-781c-4d1b-a4f3-5ec38ee8c7c2",
   "metadata": {},
   "outputs": [
    {
     "data": {
      "text/plain": [
       "(20, int, '0x7fff6c4b2c18')"
      ]
     },
     "execution_count": 211,
     "metadata": {},
     "output_type": "execute_result"
    }
   ],
   "source": [
    "p=20  #Creates an integer object with value 20 and assigns the variable p to p\n",
    "q=20  # Create new reference q which will point to value 20. p & q will be poi \n",
    "r=q   # variable r will also point to the same location where p & q are pointin \n",
    "p,type(q),hex(id(p))   # Variable P is pointing to memory location '0x7fff6d71a"
   ]
  },
  {
   "cell_type": "code",
   "execution_count": 212,
   "id": "f0746b68-1d90-439c-8180-43389f4762e4",
   "metadata": {},
   "outputs": [
    {
     "data": {
      "text/plain": [
       "(20, int, '0x7fff6c4b2c18')"
      ]
     },
     "execution_count": 212,
     "metadata": {},
     "output_type": "execute_result"
    }
   ],
   "source": [
    "q,type(q),hex(id(q))"
   ]
  },
  {
   "cell_type": "code",
   "execution_count": 213,
   "id": "9c654e7a-f44b-46f2-9984-6568eb95288d",
   "metadata": {},
   "outputs": [
    {
     "data": {
      "text/plain": [
       "(20, int, '0x7fff6c4b2c18')"
      ]
     },
     "execution_count": 213,
     "metadata": {},
     "output_type": "execute_result"
    }
   ],
   "source": [
    "r,type(r),hex(id(r))"
   ]
  },
  {
   "cell_type": "code",
   "execution_count": 214,
   "id": "984ed809-380c-4dc7-9679-2e77a6aadc8f",
   "metadata": {},
   "outputs": [
    {
     "data": {
      "image/png": "[encoded data removed]",
      "text/plain": [
       "<IPython.core.display.Image object>"
      ]
     },
     "execution_count": 214,
     "metadata": {},
     "output_type": "execute_result"
    }
   ],
   "source": [
    "from IPython.display import Image\n",
    "\n",
    "# Provide the local path to the image\n",
    "Image(filename='Screenshot 2025-06-25 073455.png')\n",
    "\n"
   ]
  },
  {
   "cell_type": "code",
   "execution_count": 215,
   "id": "ce462901-88b4-48a2-9bf7-d5fcca00f702",
   "metadata": {},
   "outputs": [
    {
     "data": {
      "text/plain": [
       "30"
      ]
     },
     "execution_count": 215,
     "metadata": {},
     "output_type": "execute_result"
    }
   ],
   "source": [
    "p=20\n",
    "p=p+10  #variable Overwriting\n",
    "p"
   ]
  },
  {
   "cell_type": "markdown",
   "id": "382cc2dd-1b35-4a6a-9838-3a917b150d79",
   "metadata": {},
   "source": [
    "# Variable Assignment"
   ]
  },
  {
   "cell_type": "code",
   "execution_count": 216,
   "id": "7702e5ee-029b-4a80-8f4b-ca494a75f912",
   "metadata": {},
   "outputs": [
    {
     "name": "stdout",
     "output_type": "stream",
     "text": [
      "10\n",
      "2.57\n",
      "python language\n"
     ]
    }
   ],
   "source": [
    "intvar=10  #Integer Variable\n",
    "floatvar=2.57  #float variable\n",
    "strvar=\"python language\"   #String Variable\n",
    "print(intvar)\n",
    "print(floatvar)\n",
    "print(strvar)"
   ]
  },
  {
   "cell_type": "markdown",
   "id": "864a82bf-9932-4ed1-ac88-312bd84bc8a4",
   "metadata": {},
   "source": [
    "# Multiple Assignements"
   ]
  },
  {
   "cell_type": "code",
   "execution_count": 217,
   "id": "25777c1b-e894-46d8-9f35-49c4fafb6e06",
   "metadata": {},
   "outputs": [
    {
     "name": "stdout",
     "output_type": "stream",
     "text": [
      "10\n",
      "2.57\n",
      "python language\n"
     ]
    }
   ],
   "source": [
    "intvar,floatvar,strvar=10,2.57,'python language'  #using commas to separation\n",
    "print(intvar)\n",
    "print(floatvar)\n",
    "print(strvar)"
   ]
  },
  {
   "cell_type": "code",
   "execution_count": 218,
   "id": "2d72c10c-6f9a-4a7d-9565-28d87895a96f",
   "metadata": {},
   "outputs": [
    {
     "name": "stdout",
     "output_type": "stream",
     "text": [
      "44 44 44 44\n"
     ]
    }
   ],
   "source": [
    "p1=p2=p3=p4=44  #All Variable pointing to same values\n",
    "print(p1,p2,p3,p4)"
   ]
  },
  {
   "cell_type": "markdown",
   "id": "2e08cb8e-82b2-4ad4-b506-24ee78c125e0",
   "metadata": {},
   "source": [
    "# Data Types"
   ]
  },
  {
   "cell_type": "markdown",
   "id": "63755149-38b3-4c0d-89a8-ffd808208496",
   "metadata": {},
   "source": [
    "# Numeric"
   ]
  },
  {
   "cell_type": "code",
   "execution_count": 219,
   "id": "3b22b7ee-e81d-4006-b0cb-7158244c93a6",
   "metadata": {},
   "outputs": [
    {
     "name": "stdout",
     "output_type": "stream",
     "text": [
      "10\n",
      "<class 'int'>\n",
      "28\n",
      "10 is Integer True\n"
     ]
    }
   ],
   "source": [
    "val1=10  #Integer data type\n",
    "print(val1)\n",
    "print(type(val1))  #type of object\n",
    "print(sys.getsizeof(val1))   #size of integer object in bytes\n",
    "print(val1,\"is Integer\",isinstance(val1,int))   #val1 is an instance of int"
   ]
  },
  {
   "cell_type": "code",
   "execution_count": 220,
   "id": "45ba6e48-d2c4-4610-b51c-fd988f43c8e2",
   "metadata": {},
   "outputs": [
    {
     "name": "stdout",
     "output_type": "stream",
     "text": [
      "92.37\n",
      "<class 'float'>\n",
      "24\n",
      "92.37 is float? True\n"
     ]
    }
   ],
   "source": [
    "val2=92.37 #Float data type\n",
    "print(val2)\n",
    "print(type(val2))\n",
    "print(sys.getsizeof(val2))\n",
    "print(val2,\"is float?\",isinstance(val2,float))"
   ]
  },
  {
   "cell_type": "code",
   "execution_count": 221,
   "id": "a0ed0784-b8e5-438b-ab08-0d4b077bd28b",
   "metadata": {},
   "outputs": [
    {
     "name": "stdout",
     "output_type": "stream",
     "text": [
      "(25+10j)\n",
      "<class 'complex'>\n",
      "32\n",
      "(25+10j)  is complex True\n"
     ]
    }
   ],
   "source": [
    "val3=25+10j  # Complex Data Type\n",
    "print(val3)\n",
    "print(type(val3))\n",
    "print(sys.getsizeof(val3))\n",
    "print(val3,\" is complex\", isinstance(val3,complex))"
   ]
  },
  {
   "cell_type": "code",
   "execution_count": 222,
   "id": "1feab51d-854a-4f36-8f0a-c14aa2728cae",
   "metadata": {},
   "outputs": [
    {
     "data": {
      "text/plain": [
       "28"
      ]
     },
     "execution_count": 222,
     "metadata": {},
     "output_type": "execute_result"
    }
   ],
   "source": [
    "sys.getsizeof(int())  #size of integer object in bytes\n"
   ]
  },
  {
   "cell_type": "code",
   "execution_count": 223,
   "id": "7443da76-d869-414d-9e5a-743ec5ad4c49",
   "metadata": {},
   "outputs": [
    {
     "data": {
      "text/plain": [
       "24"
      ]
     },
     "execution_count": 223,
     "metadata": {},
     "output_type": "execute_result"
    }
   ],
   "source": [
    "sys.getsizeof(float())"
   ]
  },
  {
   "cell_type": "code",
   "execution_count": 224,
   "id": "08d7558b-8a64-47b5-90c9-3f0f9a9b214a",
   "metadata": {},
   "outputs": [
    {
     "data": {
      "text/plain": [
       "32"
      ]
     },
     "execution_count": 224,
     "metadata": {},
     "output_type": "execute_result"
    }
   ],
   "source": [
    "sys.getsizeof(complex())"
   ]
  },
  {
   "cell_type": "markdown",
   "id": "e9b5b6c9-4a01-4458-801e-f8184b2fcf9d",
   "metadata": {},
   "source": [
    "# Boolean"
   ]
  },
  {
   "cell_type": "code",
   "execution_count": 225,
   "id": "28f9ffdb-9cd0-4b6b-96f3-560fb21ab491",
   "metadata": {},
   "outputs": [],
   "source": [
    "bool1=True"
   ]
  },
  {
   "cell_type": "code",
   "execution_count": 226,
   "id": "1f1a82f3-627a-4bac-913c-dc489a85679e",
   "metadata": {},
   "outputs": [],
   "source": [
    "bool2=False"
   ]
  },
  {
   "cell_type": "code",
   "execution_count": 227,
   "id": "8bca5259-e73e-4e3d-9d2c-c3be0253d52c",
   "metadata": {},
   "outputs": [
    {
     "name": "stdout",
     "output_type": "stream",
     "text": [
      "<class 'bool'>\n"
     ]
    }
   ],
   "source": [
    "print(type(bool1))"
   ]
  },
  {
   "cell_type": "code",
   "execution_count": 228,
   "id": "198f09ad-c05e-4f46-9dfa-a8ee3c399b2b",
   "metadata": {},
   "outputs": [
    {
     "name": "stdout",
     "output_type": "stream",
     "text": [
      "<class 'bool'>\n"
     ]
    }
   ],
   "source": [
    "print(type(bool2))"
   ]
  },
  {
   "cell_type": "code",
   "execution_count": 229,
   "id": "9d5cf67a-1cf3-462a-a7bd-796bb68f7b13",
   "metadata": {},
   "outputs": [
    {
     "data": {
      "text/plain": [
       "True"
      ]
     },
     "execution_count": 229,
     "metadata": {},
     "output_type": "execute_result"
    }
   ],
   "source": [
    "isinstance(bool1,bool)"
   ]
  },
  {
   "cell_type": "code",
   "execution_count": 230,
   "id": "cbff81cf-3b81-43f6-a87c-c6e87c3b624e",
   "metadata": {},
   "outputs": [
    {
     "data": {
      "text/plain": [
       "False"
      ]
     },
     "execution_count": 230,
     "metadata": {},
     "output_type": "execute_result"
    }
   ],
   "source": [
    "bool(0)"
   ]
  },
  {
   "cell_type": "code",
   "execution_count": 231,
   "id": "c1cef7fb-970b-4c21-8b8d-0dbf0519c744",
   "metadata": {},
   "outputs": [
    {
     "data": {
      "text/plain": [
       "True"
      ]
     },
     "execution_count": 231,
     "metadata": {},
     "output_type": "execute_result"
    }
   ],
   "source": [
    "bool(1)"
   ]
  },
  {
   "cell_type": "code",
   "execution_count": 232,
   "id": "c2e85e9d-1943-45e4-bd16-3a5301db248c",
   "metadata": {},
   "outputs": [
    {
     "data": {
      "text/plain": [
       "False"
      ]
     },
     "execution_count": 232,
     "metadata": {},
     "output_type": "execute_result"
    }
   ],
   "source": [
    "bool(None)"
   ]
  },
  {
   "cell_type": "code",
   "execution_count": 233,
   "id": "0f6eba96-7391-45c6-a6cd-ec33b8784d64",
   "metadata": {},
   "outputs": [
    {
     "data": {
      "text/plain": [
       "False"
      ]
     },
     "execution_count": 233,
     "metadata": {},
     "output_type": "execute_result"
    }
   ],
   "source": [
    "bool(False)"
   ]
  },
  {
   "cell_type": "markdown",
   "id": "628319b8-b45d-4985-8a17-f9e1cb185c88",
   "metadata": {},
   "source": [
    "# Strings"
   ]
  },
  {
   "cell_type": "code",
   "execution_count": 234,
   "id": "63b45ae7-3ee0-4b4b-8ac2-be24231573b0",
   "metadata": {},
   "outputs": [
    {
     "name": "stdout",
     "output_type": "stream",
     "text": [
      "hello python\n"
     ]
    }
   ],
   "source": [
    "#String Creation\n",
    "str1=\"hello python\"\n",
    "print(str1)"
   ]
  },
  {
   "cell_type": "code",
   "execution_count": 235,
   "id": "45698e22-7baf-4311-900a-18d07915be7f",
   "metadata": {},
   "outputs": [
    {
     "name": "stdout",
     "output_type": "stream",
     "text": [
      "hello world\n"
     ]
    }
   ],
   "source": [
    "mystr='hello world'  #Define string using single quotes\n",
    "print(mystr)"
   ]
  },
  {
   "cell_type": "code",
   "execution_count": 236,
   "id": "989b53ff-290c-487b-9ae2-b78c19fc40b2",
   "metadata": {},
   "outputs": [
    {
     "name": "stdout",
     "output_type": "stream",
     "text": [
      "helo python\n"
     ]
    }
   ],
   "source": [
    "mystr=\"helo python\"  #Define string using double quotes\n",
    "print(mystr)"
   ]
  },
  {
   "cell_type": "code",
   "execution_count": 237,
   "id": "bde95988-16e6-45a8-b02a-bfe84238e1c7",
   "metadata": {},
   "outputs": [
    {
     "name": "stdout",
     "output_type": "stream",
     "text": [
      "Hello          \n",
      "        World\n"
     ]
    }
   ],
   "source": [
    "mystr='''Hello          \n",
    "        World'''       #Define string using triple quotes\n",
    "\n",
    "print(mystr)"
   ]
  },
  {
   "cell_type": "code",
   "execution_count": 238,
   "id": "5b7903a4-f317-44a3-8d7d-2f182db653b7",
   "metadata": {},
   "outputs": [
    {
     "name": "stdout",
     "output_type": "stream",
     "text": [
      "Hello  \n",
      "       World\n"
     ]
    }
   ],
   "source": [
    "mystr=\"\"\"Hello  \n",
    "       World\"\"\"   #Define string using triple quotes\n",
    "print(mystr)"
   ]
  },
  {
   "cell_type": "code",
   "execution_count": 239,
   "id": "5d5b3988-f9ac-4d50-8b96-2487e8e30f42",
   "metadata": {},
   "outputs": [
    {
     "name": "stdout",
     "output_type": "stream",
     "text": [
      "happy monday everyone\n"
     ]
    }
   ],
   "source": [
    "mystr=('happy'\n",
    "        ' monday'\n",
    "        ' everyone')\n",
    "print(mystr)"
   ]
  },
  {
   "cell_type": "code",
   "execution_count": 240,
   "id": "6632bc60-3b1e-4052-9444-e1d70c09bc2d",
   "metadata": {},
   "outputs": [
    {
     "data": {
      "text/plain": [
       "' wohoo wohoo wohoo wohoo wohoo'"
      ]
     },
     "execution_count": 240,
     "metadata": {},
     "output_type": "execute_result"
    }
   ],
   "source": [
    "mystr2=' wohoo'\n",
    "mystr2=mystr2*5\n",
    "mystr2"
   ]
  },
  {
   "cell_type": "code",
   "execution_count": 241,
   "id": "6ebc0c7f-747a-452e-95de-5a7c593d6f5f",
   "metadata": {},
   "outputs": [
    {
     "data": {
      "text/plain": [
       "30"
      ]
     },
     "execution_count": 241,
     "metadata": {},
     "output_type": "execute_result"
    }
   ],
   "source": [
    "len(mystr2)   #length of string"
   ]
  },
  {
   "cell_type": "markdown",
   "id": "4cc36497-97b6-4a49-93e9-94d39b9f2ca6",
   "metadata": {},
   "source": [
    "# String Indexing"
   ]
  },
  {
   "cell_type": "code",
   "execution_count": null,
   "id": "c934be73-118a-4e94-a271-19e6c677dbaf",
   "metadata": {},
   "outputs": [],
   "source": []
  },
  {
   "cell_type": "code",
   "execution_count": 242,
   "id": "401a8452-327d-4a46-adb4-aa1e3e927a09",
   "metadata": {},
   "outputs": [
    {
     "data": {
      "image/png": "[encoded data removed]",
      "text/plain": [
       "<IPython.core.display.Image object>"
      ]
     },
     "execution_count": 242,
     "metadata": {},
     "output_type": "execute_result"
    }
   ],
   "source": [
    "from IPython.display import Image\n",
    "\n",
    "# Provide the local path to the image\n",
    "Image(filename='Screenshot 2025-06-25 114420.png')\n",
    "\n"
   ]
  },
  {
   "cell_type": "code",
   "execution_count": 243,
   "id": "02bfaafc-49f3-4237-93e5-042de8530180",
   "metadata": {},
   "outputs": [
    {
     "data": {
      "text/plain": [
       "'hello python'"
      ]
     },
     "execution_count": 243,
     "metadata": {},
     "output_type": "execute_result"
    }
   ],
   "source": [
    "str1     # First character in string \"str1\" "
   ]
  },
  {
   "cell_type": "code",
   "execution_count": 244,
   "id": "88f4fdc7-e8e7-4a5c-b002-cf25283ebe78",
   "metadata": {},
   "outputs": [
    {
     "data": {
      "text/plain": [
       "'h'"
      ]
     },
     "execution_count": 244,
     "metadata": {},
     "output_type": "execute_result"
    }
   ],
   "source": [
    "str1[0]     "
   ]
  },
  {
   "cell_type": "code",
   "execution_count": 245,
   "id": "cbfacdeb-09a3-484c-a172-06ac4327ff35",
   "metadata": {},
   "outputs": [
    {
     "data": {
      "text/plain": [
       "'n'"
      ]
     },
     "execution_count": 245,
     "metadata": {},
     "output_type": "execute_result"
    }
   ],
   "source": [
    "str1[len(str1)-1]     #  Last character in string using len function "
   ]
  },
  {
   "cell_type": "code",
   "execution_count": 246,
   "id": "4a9982a4-31bb-4ffb-8deb-a35dd0d8c95f",
   "metadata": {},
   "outputs": [
    {
     "data": {
      "text/plain": [
       "'n'"
      ]
     },
     "execution_count": 246,
     "metadata": {},
     "output_type": "execute_result"
    }
   ],
   "source": [
    "str1[-1]         # Last character in string "
   ]
  },
  {
   "cell_type": "code",
   "execution_count": 247,
   "id": "c9988ba7-8e30-4331-a8f7-0310e91946d1",
   "metadata": {},
   "outputs": [
    {
     "data": {
      "text/plain": [
       "'p'"
      ]
     },
     "execution_count": 247,
     "metadata": {},
     "output_type": "execute_result"
    }
   ],
   "source": [
    "str1[6]    #Fetch 7th element of the string "
   ]
  },
  {
   "cell_type": "code",
   "execution_count": 248,
   "id": "d27de9bd-3d6a-4fd6-984d-6314a8b8abe2",
   "metadata": {},
   "outputs": [
    {
     "data": {
      "text/plain": [
       "' '"
      ]
     },
     "execution_count": 248,
     "metadata": {},
     "output_type": "execute_result"
    }
   ],
   "source": [
    "str1[5]"
   ]
  },
  {
   "cell_type": "markdown",
   "id": "d6ef6cb8-22fe-498a-8de4-aa2b278d768e",
   "metadata": {},
   "source": [
    "# String Slicing"
   ]
  },
  {
   "cell_type": "code",
   "execution_count": 249,
   "id": "a56ebb76-43ae-4543-b0a4-cd2abf0552a8",
   "metadata": {},
   "outputs": [
    {
     "data": {
      "text/plain": [
       "'hello'"
      ]
     },
     "execution_count": 249,
     "metadata": {},
     "output_type": "execute_result"
    }
   ],
   "source": [
    "str1[0:5]      # String slicing - Fetch all characters from 0 to 5 index location exc"
   ]
  },
  {
   "cell_type": "code",
   "execution_count": 250,
   "id": "cd5f5044-7ae1-4c23-bab7-9be484c7285e",
   "metadata": {},
   "outputs": [
    {
     "data": {
      "text/plain": [
       "'python'"
      ]
     },
     "execution_count": 250,
     "metadata": {},
     "output_type": "execute_result"
    }
   ],
   "source": [
    "str1[6:12]   # String slicing - Retreive all characters between 6 - 12 index loc e"
   ]
  },
  {
   "cell_type": "code",
   "execution_count": 251,
   "id": "ada8662f-4c0b-45d4-b142-af2143c4ff7c",
   "metadata": {},
   "outputs": [
    {
     "data": {
      "text/plain": [
       "'thon'"
      ]
     },
     "execution_count": 251,
     "metadata": {},
     "output_type": "execute_result"
    }
   ],
   "source": [
    "str1[-4:]        # Retreive last four characters of the string "
   ]
  },
  {
   "cell_type": "code",
   "execution_count": 252,
   "id": "e70d9b0a-a5e7-473f-92c5-823221ddd1e1",
   "metadata": {},
   "outputs": [
    {
     "data": {
      "text/plain": [
       "'python'"
      ]
     },
     "execution_count": 252,
     "metadata": {},
     "output_type": "execute_result"
    }
   ],
   "source": [
    "str1[-6:]      # Retreive last six characters of the string "
   ]
  },
  {
   "cell_type": "code",
   "execution_count": 253,
   "id": "bbf1405a-bf6a-4123-9d39-9de04675f79a",
   "metadata": {},
   "outputs": [
    {
     "data": {
      "text/plain": [
       "'hell'"
      ]
     },
     "execution_count": 253,
     "metadata": {},
     "output_type": "execute_result"
    }
   ],
   "source": [
    "str1[:4]    # Retreive first four characters of the string "
   ]
  },
  {
   "cell_type": "code",
   "execution_count": 254,
   "id": "ed69fe2b-faa5-42f5-9cdc-d6f03d3603f8",
   "metadata": {},
   "outputs": [
    {
     "data": {
      "text/plain": [
       "'hello '"
      ]
     },
     "execution_count": 254,
     "metadata": {},
     "output_type": "execute_result"
    }
   ],
   "source": [
    "str1[:6]   # Retreive first six characters of the string "
   ]
  },
  {
   "cell_type": "code",
   "execution_count": 255,
   "id": "ce81b993-e936-4eec-a34c-4304b833803b",
   "metadata": {},
   "outputs": [],
   "source": [
    "# Update & Delete String"
   ]
  },
  {
   "cell_type": "code",
   "execution_count": 256,
   "id": "84ae0d41-94e4-40a7-a1e8-e011ce431a67",
   "metadata": {},
   "outputs": [
    {
     "data": {
      "text/plain": [
       "'hello python'"
      ]
     },
     "execution_count": 256,
     "metadata": {},
     "output_type": "execute_result"
    }
   ],
   "source": [
    "str1"
   ]
  },
  {
   "cell_type": "code",
   "execution_count": 257,
   "id": "ff4f9526-4bab-47da-8a9f-79a53565ab80",
   "metadata": {},
   "outputs": [
    {
     "data": {
      "text/plain": [
       "'hello'"
      ]
     },
     "execution_count": 257,
     "metadata": {},
     "output_type": "execute_result"
    }
   ],
   "source": [
    "#Strings are immutable which means elements of a string cannot be changed once t\n",
    "str1[0:5]     "
   ]
  },
  {
   "cell_type": "code",
   "execution_count": 258,
   "id": "b59caa54-f266-4260-92a4-89598c016c1d",
   "metadata": {},
   "outputs": [
    {
     "ename": "NameError",
     "evalue": "name 'str1' is not defined",
     "output_type": "error",
     "traceback": [
      "\u001b[31m---------------------------------------------------------------------------\u001b[39m",
      "\u001b[31mNameError\u001b[39m                                 Traceback (most recent call last)",
      "\u001b[36mCell\u001b[39m\u001b[36m \u001b[39m\u001b[32mIn[258]\u001b[39m\u001b[32m, line 2\u001b[39m\n\u001b[32m      1\u001b[39m \u001b[38;5;28;01mdel\u001b[39;00m str1     \u001b[38;5;66;03m# Delete a string \u001b[39;00m\n\u001b[32m----> \u001b[39m\u001b[32m2\u001b[39m \u001b[38;5;28mprint\u001b[39m(\u001b[43mstr1\u001b[49m)\n",
      "\u001b[31mNameError\u001b[39m: name 'str1' is not defined"
     ]
    }
   ],
   "source": [
    "del str1     # Delete a string \n",
    "print(str1)"
   ]
  },
  {
   "cell_type": "code",
   "execution_count": 259,
   "id": "03d500b8-6bc9-4c22-afe8-9e3439f4ab92",
   "metadata": {},
   "outputs": [
    {
     "name": "stdout",
     "output_type": "stream",
     "text": [
      "hello prlhad\n"
     ]
    }
   ],
   "source": [
    "# String Concatenation\n",
    "s1= \"hello\"\n",
    "s2= \" prlhad\"\n",
    "s3=s1+s2\n",
    "print(s3)\n"
   ]
  },
  {
   "cell_type": "code",
   "execution_count": 260,
   "id": "3bd7c482-1138-46f0-b592-f870caf257b7",
   "metadata": {},
   "outputs": [
    {
     "data": {
      "text/plain": [
       "'abc def ghi'"
      ]
     },
     "execution_count": 260,
     "metadata": {},
     "output_type": "execute_result"
    }
   ],
   "source": [
    "txt= \"abc def ghi\"\n",
    "txt.lstrip()"
   ]
  },
  {
   "cell_type": "markdown",
   "id": "ce2f0e3b-dd41-4603-b996-474d431d5973",
   "metadata": {},
   "source": [
    "txt= \"abc def ghi\"\n",
    "txt.strip()"
   ]
  },
  {
   "cell_type": "markdown",
   "id": "958ef26c-7ff7-42f0-8a9b-4db026fc7440",
   "metadata": {},
   "source": [
    "# Using Escape Chracater"
   ]
  },
  {
   "cell_type": "code",
   "execution_count": 261,
   "id": "a84a2fa8-cae9-48a5-b8d2-076b6db3352c",
   "metadata": {},
   "outputs": [
    {
     "ename": "SyntaxError",
     "evalue": "unterminated triple-quoted string literal (detected at line 2) (556745875.py, line 2)",
     "output_type": "error",
     "traceback": [
      "  \u001b[36mCell\u001b[39m\u001b[36m \u001b[39m\u001b[32mIn[261]\u001b[39m\u001b[32m, line 2\u001b[39m\n\u001b[31m    \u001b[39m\u001b[31mmystr=\"My favourite TV Series is\" Game of Thrones\"\"\"\u001b[39m\n                                                     ^\n\u001b[31mSyntaxError\u001b[39m\u001b[31m:\u001b[39m unterminated triple-quoted string literal (detected at line 2)\n"
     ]
    }
   ],
   "source": [
    "#Using double quotes in the string is not allowed.\n",
    "mystr=\"My favourite TV Series is\" Game of Thrones\"\"\""
   ]
  },
  {
   "cell_type": "code",
   "execution_count": 262,
   "id": "d10eaf78-46cd-4bf5-a33b-094ba260d114",
   "metadata": {},
   "outputs": [
    {
     "name": "stdout",
     "output_type": "stream",
     "text": [
      "My favourite series is\"Game of Thrones\"\n"
     ]
    }
   ],
   "source": [
    "#Using escape character to allow illegal chracters\n",
    "mystr=\"My favourite series is\\\"Game of Thrones\\\"\"\n",
    "print(mystr)"
   ]
  },
  {
   "cell_type": "markdown",
   "id": "d54103db-8c3e-42c5-9828-bee1c515c4b4",
   "metadata": {},
   "source": [
    "# List"
   ]
  },
  {
   "cell_type": "code",
   "execution_count": 263,
   "id": "44b5fe04-9255-4ad1-b9cf-2acd4575ba44",
   "metadata": {},
   "outputs": [],
   "source": [
    "list1=[]      #Empty List\n"
   ]
  },
  {
   "cell_type": "code",
   "execution_count": 264,
   "id": "f0656398-3ebd-4753-8ddd-ad6ef73bacd7",
   "metadata": {},
   "outputs": [
    {
     "name": "stdout",
     "output_type": "stream",
     "text": [
      "<class 'list'>\n"
     ]
    }
   ],
   "source": [
    "print(type(list1))"
   ]
  },
  {
   "cell_type": "code",
   "execution_count": 5,
   "id": "a742b86e-58e3-4b48-b3fa-c229e6efdda0",
   "metadata": {},
   "outputs": [],
   "source": [
    "list2=[10,20,30]    #List of integers numbers\n",
    "list3=[10.77,30.66,60.69] #List of float numbers\n",
    "list4=['one','two','three'] #List of strings\n",
    "list5=['Asif',25,[50,100],[150,90]]  #Nested lists\n",
    "list6=[100,'pralhad',17.67]  #List of mixed data types\n",
    "list7=['pral',43,[90,39],[150,25],{'john','david'}]  #List of mixed datatypes\n"
   ]
  },
  {
   "cell_type": "code",
   "execution_count": 6,
   "id": "d1a8b9d5-b01e-4688-8c65-99ed3eadcbd5",
   "metadata": {},
   "outputs": [
    {
     "data": {
      "text/plain": [
       "3"
      ]
     },
     "execution_count": 6,
     "metadata": {},
     "output_type": "execute_result"
    }
   ],
   "source": [
    "len(list6)      #length of list"
   ]
  },
  {
   "cell_type": "code",
   "execution_count": 7,
   "id": "206a1a2f-1263-441c-b6fe-31456edafdef",
   "metadata": {},
   "outputs": [
    {
     "data": {
      "image/png": "[encoded data removed]",
      "text/plain": [
       "<IPython.core.display.Image object>"
      ]
     },
     "execution_count": 7,
     "metadata": {},
     "output_type": "execute_result"
    }
   ],
   "source": [
    "from IPython.display import Image\n",
    "\n",
    "# Provide the local path to the image\n",
    "Image(filename='Screenshot 2025-06-25 122627.png')\n",
    "\n"
   ]
  },
  {
   "cell_type": "code",
   "execution_count": 8,
   "id": "30b7d849-e99d-4e09-b094-73b6f743ebef",
   "metadata": {},
   "outputs": [
    {
     "data": {
      "text/plain": [
       "10"
      ]
     },
     "execution_count": 8,
     "metadata": {},
     "output_type": "execute_result"
    }
   ],
   "source": [
    "list2[0]   #Retreive first element of the list"
   ]
  },
  {
   "cell_type": "code",
   "execution_count": 9,
   "id": "8f9b6b5e-c173-4147-8e01-364c97865429",
   "metadata": {},
   "outputs": [
    {
     "data": {
      "text/plain": [
       "'one'"
      ]
     },
     "execution_count": 9,
     "metadata": {},
     "output_type": "execute_result"
    }
   ],
   "source": [
    "list4[0]   #Retreive first element of the list"
   ]
  },
  {
   "cell_type": "code",
   "execution_count": 10,
   "id": "df570883-d708-4fb9-9245-40c1b9aa132f",
   "metadata": {},
   "outputs": [
    {
     "data": {
      "text/plain": [
       "'o'"
      ]
     },
     "execution_count": 10,
     "metadata": {},
     "output_type": "execute_result"
    }
   ],
   "source": [
    "list4[0][0]  #Nested indexing - Access the first character of the first list ele"
   ]
  },
  {
   "cell_type": "code",
   "execution_count": 11,
   "id": "a14612d2-35e6-4982-93b8-f0583115802e",
   "metadata": {},
   "outputs": [
    {
     "data": {
      "text/plain": [
       "'three'"
      ]
     },
     "execution_count": 11,
     "metadata": {},
     "output_type": "execute_result"
    }
   ],
   "source": [
    "list4[-1]  #last item of the list"
   ]
  },
  {
   "cell_type": "code",
   "execution_count": 12,
   "id": "1efd3a66-20a9-4bbe-962e-e44a02071b7b",
   "metadata": {},
   "outputs": [
    {
     "data": {
      "text/plain": [
       "[150, 90]"
      ]
     },
     "execution_count": 12,
     "metadata": {},
     "output_type": "execute_result"
    }
   ],
   "source": [
    "list5[-1]     #last item of the list"
   ]
  },
  {
   "cell_type": "markdown",
   "id": "2c0f7a4c-60fa-4c5a-b03f-e270e6efb2c5",
   "metadata": {},
   "source": [
    "# List Slicing"
   ]
  },
  {
   "cell_type": "code",
   "execution_count": 13,
   "id": "d15e9a7f-bfca-49be-8b84-efb342e55da7",
   "metadata": {},
   "outputs": [],
   "source": [
    "mylist=['one','two','three','four','five','six','seven','eight']"
   ]
  },
  {
   "cell_type": "code",
   "execution_count": 14,
   "id": "dbd29f6e-289e-45b1-a205-4bfbccdf099a",
   "metadata": {},
   "outputs": [
    {
     "data": {
      "text/plain": [
       "['one', 'two', 'three']"
      ]
     },
     "execution_count": 14,
     "metadata": {},
     "output_type": "execute_result"
    }
   ],
   "source": [
    "mylist[0:3]  #Return all items from 0th to 3rd index location excluding the item"
   ]
  },
  {
   "cell_type": "code",
   "execution_count": 15,
   "id": "de037797-7372-4cbd-9f26-1e9b1c648a9e",
   "metadata": {},
   "outputs": [
    {
     "data": {
      "text/plain": [
       "['three', 'four', 'five']"
      ]
     },
     "execution_count": 15,
     "metadata": {},
     "output_type": "execute_result"
    }
   ],
   "source": [
    "mylist[2:5] #Return all items from 2nd and 5th index location excluding the item"
   ]
  },
  {
   "cell_type": "code",
   "execution_count": 16,
   "id": "aea67525-a02a-4e59-99aa-a9a4f0495a5d",
   "metadata": {},
   "outputs": [
    {
     "data": {
      "text/plain": [
       "['one', 'two', 'three']"
      ]
     },
     "execution_count": 16,
     "metadata": {},
     "output_type": "execute_result"
    }
   ],
   "source": [
    "mylist[:3] #Return first three items"
   ]
  },
  {
   "cell_type": "code",
   "execution_count": 17,
   "id": "1c744f4d-5ee0-49df-8ed6-d71be635ad5e",
   "metadata": {},
   "outputs": [
    {
     "data": {
      "text/plain": [
       "['one', 'two']"
      ]
     },
     "execution_count": 17,
     "metadata": {},
     "output_type": "execute_result"
    }
   ],
   "source": [
    "mylist[:2]  #Return first two items"
   ]
  },
  {
   "cell_type": "code",
   "execution_count": 18,
   "id": "2244b337-fb10-451e-b3d3-4861f1cc51ae",
   "metadata": {},
   "outputs": [
    {
     "data": {
      "text/plain": [
       "['six', 'seven', 'eight']"
      ]
     },
     "execution_count": 18,
     "metadata": {},
     "output_type": "execute_result"
    }
   ],
   "source": [
    "mylist[-3:]  #Return last three items"
   ]
  },
  {
   "cell_type": "code",
   "execution_count": 19,
   "id": "e74ad8ab-fb1f-4b59-bc26-de6c78c25119",
   "metadata": {},
   "outputs": [
    {
     "data": {
      "text/plain": [
       "['seven', 'eight']"
      ]
     },
     "execution_count": 19,
     "metadata": {},
     "output_type": "execute_result"
    }
   ],
   "source": [
    "mylist[-2:]  #Return last two items"
   ]
  },
  {
   "cell_type": "code",
   "execution_count": 20,
   "id": "e2bdcc49-cd33-4396-a3f1-2d095ccf65c4",
   "metadata": {},
   "outputs": [
    {
     "data": {
      "text/plain": [
       "'eight'"
      ]
     },
     "execution_count": 20,
     "metadata": {},
     "output_type": "execute_result"
    }
   ],
   "source": [
    "mylist[-1]   #Return last item of the list"
   ]
  },
  {
   "cell_type": "code",
   "execution_count": 21,
   "id": "8395270a-78b4-4b34-88a7-7d69f9da5293",
   "metadata": {},
   "outputs": [
    {
     "data": {
      "text/plain": [
       "['one', 'two', 'three', 'four', 'five', 'six', 'seven', 'eight']"
      ]
     },
     "execution_count": 21,
     "metadata": {},
     "output_type": "execute_result"
    }
   ],
   "source": [
    "mylist[:]  #Return whole list"
   ]
  },
  {
   "cell_type": "markdown",
   "id": "a278af3e-03fe-4c9c-8504-5ddeee74fe4a",
   "metadata": {},
   "source": [
    "# Add,Remove & change items"
   ]
  },
  {
   "cell_type": "code",
   "execution_count": 22,
   "id": "dc6ee702-d6eb-4f73-9d53-0adca4471f0f",
   "metadata": {},
   "outputs": [
    {
     "data": {
      "text/plain": [
       "['one', 'two', 'three', 'four', 'five', 'six', 'seven', 'eight']"
      ]
     },
     "execution_count": 22,
     "metadata": {},
     "output_type": "execute_result"
    }
   ],
   "source": [
    "mylist"
   ]
  },
  {
   "cell_type": "code",
   "execution_count": 23,
   "id": "4b1baae0-cb6b-4e39-aa0d-f8ef64da0b6d",
   "metadata": {},
   "outputs": [
    {
     "data": {
      "text/plain": [
       "['one', 'two', 'three', 'four', 'five', 'six', 'seven', 'eight', 'nine']"
      ]
     },
     "execution_count": 23,
     "metadata": {},
     "output_type": "execute_result"
    }
   ],
   "source": [
    "mylist.append('nine')  #add an itemto the end of the list\n",
    "mylist"
   ]
  },
  {
   "cell_type": "code",
   "execution_count": 24,
   "id": "4392db16-d94f-49ca-ab23-dd8939de4f5c",
   "metadata": {},
   "outputs": [
    {
     "data": {
      "text/plain": [
       "['one', 'two', 'three', 'four', 'five', 'six', 'seven', 'eight', 'nine', 'ten']"
      ]
     },
     "execution_count": 24,
     "metadata": {},
     "output_type": "execute_result"
    }
   ],
   "source": [
    "mylist.insert(9,'ten')   #add item at index location 9\n",
    "mylist"
   ]
  },
  {
   "cell_type": "code",
   "execution_count": 25,
   "id": "0e98569c-8259-4709-b094-f62c80958b17",
   "metadata": {},
   "outputs": [
    {
     "data": {
      "text/plain": [
       "['one',\n",
       " 'one',\n",
       " 'two',\n",
       " 'three',\n",
       " 'four',\n",
       " 'five',\n",
       " 'six',\n",
       " 'seven',\n",
       " 'eight',\n",
       " 'nine',\n",
       " 'ten']"
      ]
     },
     "execution_count": 25,
     "metadata": {},
     "output_type": "execute_result"
    }
   ],
   "source": [
    "mylist.insert(1,'one')  #add item at index location 1\n",
    "mylist"
   ]
  },
  {
   "cell_type": "code",
   "execution_count": 26,
   "id": "4cd256df-e81a-4282-8a2b-adbd2309512a",
   "metadata": {},
   "outputs": [
    {
     "data": {
      "text/plain": [
       "['one', 'two', 'three', 'four', 'five', 'six', 'seven', 'eight', 'nine', 'ten']"
      ]
     },
     "execution_count": 26,
     "metadata": {},
     "output_type": "execute_result"
    }
   ],
   "source": [
    "mylist.remove('one')   #Remove item \"one\"\n",
    "mylist"
   ]
  },
  {
   "cell_type": "code",
   "execution_count": 27,
   "id": "cb89f186-af55-4910-8271-be19847210ec",
   "metadata": {},
   "outputs": [
    {
     "data": {
      "text/plain": [
       "['one', 'two', 'three', 'four', 'five', 'six', 'seven', 'eight', 'nine']"
      ]
     },
     "execution_count": 27,
     "metadata": {},
     "output_type": "execute_result"
    }
   ],
   "source": [
    "mylist.pop()   #Remove last item of the list\n",
    "mylist"
   ]
  },
  {
   "cell_type": "code",
   "execution_count": 28,
   "id": "7511a4df-fa58-40e9-9c7e-98001826a9f7",
   "metadata": {},
   "outputs": [
    {
     "data": {
      "text/plain": [
       "['one', 'two', 'three', 'four', 'six', 'seven', 'eight', 'nine']"
      ]
     },
     "execution_count": 28,
     "metadata": {},
     "output_type": "execute_result"
    }
   ],
   "source": [
    "mylist.pop(4)   #Remove item at index location 4\n",
    "mylist"
   ]
  },
  {
   "cell_type": "markdown",
   "id": "1e098a45-8b52-478e-9ec0-c3aafd3ab786",
   "metadata": {},
   "source": []
  },
  {
   "cell_type": "code",
   "execution_count": 29,
   "id": "55371689-ee4b-457c-a27c-c56612a1b395",
   "metadata": {},
   "outputs": [
    {
     "data": {
      "text/plain": [
       "[1, 2, 3, 'four', 'six', 'seven', 'eight', 'nine']"
      ]
     },
     "execution_count": 29,
     "metadata": {},
     "output_type": "execute_result"
    }
   ],
   "source": [
    "# Change value of the string\n",
    "mylist[0]=1\n",
    "mylist[1]=2\n",
    "mylist[2]=3\n",
    "mylist"
   ]
  },
  {
   "cell_type": "code",
   "execution_count": 30,
   "id": "d453582d-c853-4d8f-8266-5e71e166fa1b",
   "metadata": {},
   "outputs": [
    {
     "data": {
      "text/plain": [
       "[]"
      ]
     },
     "execution_count": 30,
     "metadata": {},
     "output_type": "execute_result"
    }
   ],
   "source": [
    "mylist.clear()   #Empty List / Delete all items in the list\n",
    "mylist"
   ]
  },
  {
   "cell_type": "code",
   "execution_count": 31,
   "id": "7f5bd716-ffcd-4e48-9a03-6e36c709ecac",
   "metadata": {},
   "outputs": [
    {
     "ename": "NameError",
     "evalue": "name 'mylist' is not defined",
     "output_type": "error",
     "traceback": [
      "\u001b[31m---------------------------------------------------------------------------\u001b[39m",
      "\u001b[31mNameError\u001b[39m                                 Traceback (most recent call last)",
      "\u001b[36mCell\u001b[39m\u001b[36m \u001b[39m\u001b[32mIn[31]\u001b[39m\u001b[32m, line 2\u001b[39m\n\u001b[32m      1\u001b[39m \u001b[38;5;28;01mdel\u001b[39;00m mylist \u001b[38;5;66;03m#Delete the whole List\u001b[39;00m\n\u001b[32m----> \u001b[39m\u001b[32m2\u001b[39m \u001b[43mmylist\u001b[49m\n",
      "\u001b[31mNameError\u001b[39m: name 'mylist' is not defined"
     ]
    }
   ],
   "source": [
    "del mylist #Delete the whole List\n",
    "mylist"
   ]
  },
  {
   "cell_type": "markdown",
   "id": "f6ac01ad-26da-43dd-8827-a5a88df72dbc",
   "metadata": {},
   "source": [
    "# Copy List"
   ]
  },
  {
   "cell_type": "code",
   "execution_count": 6,
   "id": "3760b081-9cc0-4c9c-972b-ce94ec3d7c8c",
   "metadata": {},
   "outputs": [],
   "source": [
    "mylist=['one','two','three','four','five','six','seven','eight','nine','ten']"
   ]
  },
  {
   "cell_type": "code",
   "execution_count": 7,
   "id": "e48f067e-8dc0-4b1a-b9fd-d39ac7b81770",
   "metadata": {},
   "outputs": [],
   "source": [
    "mylist1=mylist   #Create a new reference \"mylist1\""
   ]
  },
  {
   "cell_type": "code",
   "execution_count": 8,
   "id": "c38521ed-178e-4138-9430-93550ea6f7fb",
   "metadata": {},
   "outputs": [
    {
     "data": {
      "text/plain": [
       "(1848042560704, 1848042560704)"
      ]
     },
     "execution_count": 8,
     "metadata": {},
     "output_type": "execute_result"
    }
   ],
   "source": [
    "id(mylist),id(mylist1) #The address of both mylist & mylist1 will be the same"
   ]
  },
  {
   "cell_type": "code",
   "execution_count": 9,
   "id": "6dee2cb0-8358-40a7-8251-653081d2c28e",
   "metadata": {},
   "outputs": [],
   "source": [
    "mylist2=mylist.copy()  #crate a copy of the list"
   ]
  },
  {
   "cell_type": "code",
   "execution_count": 10,
   "id": "7caa39e2-c121-4b59-abb5-924632bf7329",
   "metadata": {},
   "outputs": [
    {
     "data": {
      "text/plain": [
       "1848042617152"
      ]
     },
     "execution_count": 10,
     "metadata": {},
     "output_type": "execute_result"
    }
   ],
   "source": [
    "id(mylist2)  #The address of mylist2 will be different from mylist because mylist"
   ]
  },
  {
   "cell_type": "code",
   "execution_count": 11,
   "id": "559721dd-fe68-4411-9af5-b55a77ef3ede",
   "metadata": {},
   "outputs": [
    {
     "data": {
      "text/plain": [
       "['one', 'two', 'three', 'four', 'five', 'six', 'seven', 'eight', 'nine', 'ten']"
      ]
     },
     "execution_count": 11,
     "metadata": {},
     "output_type": "execute_result"
    }
   ],
   "source": [
    "mylist"
   ]
  },
  {
   "cell_type": "code",
   "execution_count": 12,
   "id": "1a09cdb5-9fb7-4310-ae54-85b5b5f66785",
   "metadata": {},
   "outputs": [
    {
     "data": {
      "text/plain": [
       "['one', 'two', 'three', 'four', 'five', 'six', 'seven', 'eight', 'nine', 'ten']"
      ]
     },
     "execution_count": 12,
     "metadata": {},
     "output_type": "execute_result"
    }
   ],
   "source": [
    "mylist1  #mylist1 will be also impacted as it is pointing to the same list"
   ]
  },
  {
   "cell_type": "code",
   "execution_count": 13,
   "id": "a45efffd-5add-45fa-8619-5ec2a5858ad4",
   "metadata": {},
   "outputs": [
    {
     "data": {
      "text/plain": [
       "['one', 'two', 'three', 'four', 'five', 'six', 'seven', 'eight', 'nine', 'ten']"
      ]
     },
     "execution_count": 13,
     "metadata": {},
     "output_type": "execute_result"
    }
   ],
   "source": [
    "mylist2 #copy of list won't be impacted due to changes made on the original"
   ]
  },
  {
   "cell_type": "markdown",
   "id": "0de2c710-8947-45df-bb29-18607d7d0e36",
   "metadata": {},
   "source": [
    "# Join Lists"
   ]
  },
  {
   "cell_type": "code",
   "execution_count": 14,
   "id": "eb723414-cc75-46de-8e65-1302caa90f4a",
   "metadata": {},
   "outputs": [
    {
     "data": {
      "text/plain": [
       "['one', 'two', 'three', 'four', 'five', 'six', 'seven', 'eight']"
      ]
     },
     "execution_count": 14,
     "metadata": {},
     "output_type": "execute_result"
    }
   ],
   "source": [
    "list1=['one','two','three','four']\n",
    "list2=['five','six','seven','eight']\n",
    "list3=list1+list2 #join two lists by '+'operator\n",
    "list3"
   ]
  },
  {
   "cell_type": "code",
   "execution_count": 15,
   "id": "7aeb6734-7852-4390-9e02-1c913f00318e",
   "metadata": {},
   "outputs": [
    {
     "data": {
      "text/plain": [
       "['one', 'two', 'three', 'four', 'five', 'six', 'seven', 'eight']"
      ]
     },
     "execution_count": 15,
     "metadata": {},
     "output_type": "execute_result"
    }
   ],
   "source": [
    "list1.extend(list2)   #Append List2 with list1\n",
    "list1"
   ]
  },
  {
   "cell_type": "markdown",
   "id": "5cf66ea2-bff5-43de-b039-ce57fcd0fa11",
   "metadata": {},
   "source": [
    "# List Membership"
   ]
  },
  {
   "cell_type": "code",
   "execution_count": 16,
   "id": "7da903a1-1d3c-47a8-b1a7-4597e703ded2",
   "metadata": {},
   "outputs": [
    {
     "data": {
      "text/plain": [
       "['one', 'two', 'three', 'four', 'five', 'six', 'seven', 'eight']"
      ]
     },
     "execution_count": 16,
     "metadata": {},
     "output_type": "execute_result"
    }
   ],
   "source": [
    "list1"
   ]
  },
  {
   "cell_type": "code",
   "execution_count": 17,
   "id": "ec1c3646-6b72-4eff-9bde-78fe8bed198f",
   "metadata": {},
   "outputs": [
    {
     "data": {
      "text/plain": [
       "True"
      ]
     },
     "execution_count": 17,
     "metadata": {},
     "output_type": "execute_result"
    }
   ],
   "source": [
    "'one' in list1 #check if 'one' exist in the list\n"
   ]
  },
  {
   "cell_type": "code",
   "execution_count": 18,
   "id": "e4944314-17e6-4060-bf53-8516ef67d294",
   "metadata": {},
   "outputs": [
    {
     "data": {
      "text/plain": [
       "False"
      ]
     },
     "execution_count": 18,
     "metadata": {},
     "output_type": "execute_result"
    }
   ],
   "source": [
    "'ten'in list1 #check if 'ten' exist in the list"
   ]
  },
  {
   "cell_type": "code",
   "execution_count": 19,
   "id": "cb4aaeae-f53e-4214-a4fc-e67f862d6b7c",
   "metadata": {},
   "outputs": [
    {
     "name": "stdout",
     "output_type": "stream",
     "text": [
      "Three is present in the list\n"
     ]
    }
   ],
   "source": [
    "if 'three'in list1: #check if 'three' exist in the list\n",
    "    print('Three is present in the list')\n",
    "else:\n",
    "    print('Three is not present in the list')"
   ]
  },
  {
   "cell_type": "code",
   "execution_count": 20,
   "id": "166049c4-e17c-4c64-a0a2-424fdc89103d",
   "metadata": {},
   "outputs": [
    {
     "name": "stdout",
     "output_type": "stream",
     "text": [
      "elevan is not present in the list\n"
     ]
    }
   ],
   "source": [
    "if 'elevan'in list1:\n",
    "    print('elevan is present in the list')\n",
    "else:\n",
    "    print('elevan is not present in the list')"
   ]
  },
  {
   "cell_type": "markdown",
   "id": "037994cc-dade-45ae-8eba-dfdb02e1038a",
   "metadata": {},
   "source": [
    "# Reverse & Sort List"
   ]
  },
  {
   "cell_type": "code",
   "execution_count": 21,
   "id": "5a9bf014-04b1-45ad-b5fb-a5bd390a77d1",
   "metadata": {},
   "outputs": [
    {
     "data": {
      "text/plain": [
       "['one', 'two', 'three', 'four', 'five', 'six', 'seven', 'eight']"
      ]
     },
     "execution_count": 21,
     "metadata": {},
     "output_type": "execute_result"
    }
   ],
   "source": [
    "list1\n"
   ]
  },
  {
   "cell_type": "code",
   "execution_count": 22,
   "id": "af60778d-64c5-4304-b954-ec3bba721531",
   "metadata": {},
   "outputs": [
    {
     "data": {
      "text/plain": [
       "['eight', 'seven', 'six', 'five', 'four', 'three', 'two', 'one']"
      ]
     },
     "execution_count": 22,
     "metadata": {},
     "output_type": "execute_result"
    }
   ],
   "source": [
    "list1.reverse()  #Reverse the list\n",
    "list1"
   ]
  },
  {
   "cell_type": "code",
   "execution_count": 23,
   "id": "64f2ebae-372c-4734-bbd6-0a7ee9df0912",
   "metadata": {},
   "outputs": [
    {
     "data": {
      "text/plain": [
       "['one', 'two', 'three', 'four', 'five', 'six', 'seven', 'eight']"
      ]
     },
     "execution_count": 23,
     "metadata": {},
     "output_type": "execute_result"
    }
   ],
   "source": [
    "list1=list1[::-1]\n",
    "list1"
   ]
  },
  {
   "cell_type": "code",
   "execution_count": 24,
   "id": "526b7b40-c4bb-409c-87ad-88c908239d4d",
   "metadata": {},
   "outputs": [
    {
     "data": {
      "text/plain": [
       "[2, 5, 9, 12, 34, 88, 99]"
      ]
     },
     "execution_count": 24,
     "metadata": {},
     "output_type": "execute_result"
    }
   ],
   "source": [
    "mylist3=[9,5,2,99,12,88,34]\n",
    "mylist3.sort()  #Sort List in aascending order\n",
    "mylist3"
   ]
  },
  {
   "cell_type": "code",
   "execution_count": 28,
   "id": "7eb1f0a0-5110-44af-8008-ae1118ed34df",
   "metadata": {},
   "outputs": [
    {
     "data": {
      "text/plain": [
       "[9, 5, 2, 99, 12, 88, 34]"
      ]
     },
     "execution_count": 28,
     "metadata": {},
     "output_type": "execute_result"
    }
   ],
   "source": [
    "mylist3=[9,5,2,99,12,88,34]\n",
    "mylist.sort(reverse=True)  #Returns a new sorted list and doesn't change original\n",
    "mylist3"
   ]
  },
  {
   "cell_type": "code",
   "execution_count": 30,
   "id": "81e11527-e9d6-4711-bd8e-be4e659db66e",
   "metadata": {},
   "outputs": [
    {
     "data": {
      "text/plain": [
       "[11, 21, 33, 65, 88, 98]"
      ]
     },
     "execution_count": 30,
     "metadata": {},
     "output_type": "execute_result"
    }
   ],
   "source": [
    "mylist4=[88,65,33,21,11,98]\n",
    "sorted(mylist4)   #Returns a new sorted list and does't change original\n"
   ]
  },
  {
   "cell_type": "code",
   "execution_count": 31,
   "id": "c60b8b9d-542e-4e1f-ae55-c5d4d196f2c3",
   "metadata": {},
   "outputs": [
    {
     "data": {
      "text/plain": [
       "[88, 65, 33, 21, 11, 98]"
      ]
     },
     "execution_count": 31,
     "metadata": {},
     "output_type": "execute_result"
    }
   ],
   "source": [
    "mylist4"
   ]
  },
  {
   "cell_type": "markdown",
   "id": "2a5eecde-9339-4724-a0b2-27ddf98c07b4",
   "metadata": {},
   "source": [
    "# Loop through a list"
   ]
  },
  {
   "cell_type": "code",
   "execution_count": 32,
   "id": "c4ff5c36-7cda-405d-b359-6e5753f6e5fc",
   "metadata": {},
   "outputs": [
    {
     "data": {
      "text/plain": [
       "['one', 'two', 'three', 'four', 'five', 'six', 'seven', 'eight']"
      ]
     },
     "execution_count": 32,
     "metadata": {},
     "output_type": "execute_result"
    }
   ],
   "source": [
    "list1"
   ]
  },
  {
   "cell_type": "code",
   "execution_count": 34,
   "id": "6da85d07-62ed-4d9a-ad37-4f33cd7999cc",
   "metadata": {},
   "outputs": [
    {
     "name": "stdout",
     "output_type": "stream",
     "text": [
      "one\n",
      "two\n",
      "three\n",
      "four\n",
      "five\n",
      "six\n",
      "seven\n",
      "eight\n"
     ]
    }
   ],
   "source": [
    "for i in list1:\n",
    "    print(i)"
   ]
  },
  {
   "cell_type": "code",
   "execution_count": 35,
   "id": "5add6353-3505-490e-807f-cf0ed6ea4b71",
   "metadata": {},
   "outputs": [
    {
     "name": "stdout",
     "output_type": "stream",
     "text": [
      "(0, 'one')\n",
      "(1, 'two')\n",
      "(2, 'three')\n",
      "(3, 'four')\n",
      "(4, 'five')\n",
      "(5, 'six')\n",
      "(6, 'seven')\n",
      "(7, 'eight')\n"
     ]
    }
   ],
   "source": [
    "for i in enumerate(list1):\n",
    "    print(i)"
   ]
  },
  {
   "cell_type": "markdown",
   "id": "7232eb2f-e9c2-408a-a89b-62331d6f4e80",
   "metadata": {},
   "source": [
    "# Count"
   ]
  },
  {
   "cell_type": "code",
   "execution_count": 36,
   "id": "5d4bf406-201b-488a-951b-47bd013f70a8",
   "metadata": {},
   "outputs": [],
   "source": [
    "list10=['one','two','three','four','one','one','three']\n"
   ]
  },
  {
   "cell_type": "code",
   "execution_count": 39,
   "id": "469a39ee-27fd-4434-86ee-38e7cf37d15b",
   "metadata": {},
   "outputs": [
    {
     "data": {
      "text/plain": [
       "3"
      ]
     },
     "execution_count": 39,
     "metadata": {},
     "output_type": "execute_result"
    }
   ],
   "source": [
    "list10.count('one')  #Number of times item 'one' accured in the list."
   ]
  },
  {
   "cell_type": "code",
   "execution_count": 40,
   "id": "21148d3d-0541-4bd8-a807-2882ce0cb299",
   "metadata": {},
   "outputs": [
    {
     "data": {
      "text/plain": [
       "1"
      ]
     },
     "execution_count": 40,
     "metadata": {},
     "output_type": "execute_result"
    }
   ],
   "source": [
    "list10.count('two')     # Occurence of item 'two' in the list"
   ]
  },
  {
   "cell_type": "code",
   "execution_count": 41,
   "id": "9534eb58-de89-4f8a-ba28-9550de96a53c",
   "metadata": {},
   "outputs": [
    {
     "data": {
      "text/plain": [
       "1"
      ]
     },
     "execution_count": 41,
     "metadata": {},
     "output_type": "execute_result"
    }
   ],
   "source": [
    "list10.count('four')   # Occurence of item 'four' in the list"
   ]
  },
  {
   "cell_type": "markdown",
   "id": "a1614a74-60ea-4c6a-9b0a-00ec10cfc428",
   "metadata": {},
   "source": [
    "# All/Any"
   ]
  },
  {
   "cell_type": "code",
   "execution_count": 42,
   "id": "f950cbf5-f7d1-43d9-a4b9-95859edb5428",
   "metadata": {},
   "outputs": [],
   "source": [
    "l1=[1,2,3,4,0]"
   ]
  },
  {
   "cell_type": "code",
   "execution_count": 44,
   "id": "13981933-958f-48f2-9763-2d7a9caf93e7",
   "metadata": {},
   "outputs": [
    {
     "data": {
      "text/plain": [
       "False"
      ]
     },
     "execution_count": 44,
     "metadata": {},
     "output_type": "execute_result"
    }
   ],
   "source": [
    "all(l1)  # Will Return false as one value is false (Value 0)"
   ]
  },
  {
   "cell_type": "code",
   "execution_count": 46,
   "id": "be69172f-cc97-40c0-9397-3bf9e0b6ce8c",
   "metadata": {},
   "outputs": [
    {
     "data": {
      "text/plain": [
       "True"
      ]
     },
     "execution_count": 46,
     "metadata": {},
     "output_type": "execute_result"
    }
   ],
   "source": [
    "any(l1)  # Will Return True as we have items in the list with True value "
   ]
  },
  {
   "cell_type": "code",
   "execution_count": 47,
   "id": "be0ae23d-0b50-4d65-b4d1-845510fcc45e",
   "metadata": {},
   "outputs": [],
   "source": [
    "l2=[1,2,3,4,True,False]"
   ]
  },
  {
   "cell_type": "code",
   "execution_count": 48,
   "id": "062da401-2c16-4da3-9c05-51779568cfad",
   "metadata": {},
   "outputs": [
    {
     "data": {
      "text/plain": [
       "False"
      ]
     },
     "execution_count": 48,
     "metadata": {},
     "output_type": "execute_result"
    }
   ],
   "source": [
    "all(l2)     # Returns false as one value is false "
   ]
  },
  {
   "cell_type": "code",
   "execution_count": 50,
   "id": "562aeb13-c5bd-4f4d-a2b6-20b05e197b46",
   "metadata": {},
   "outputs": [
    {
     "data": {
      "text/plain": [
       "True"
      ]
     },
     "execution_count": 50,
     "metadata": {},
     "output_type": "execute_result"
    }
   ],
   "source": [
    "any(l2)   # Will Return True as we have items in the list with True value "
   ]
  },
  {
   "cell_type": "code",
   "execution_count": 51,
   "id": "4aa35c70-3696-40b1-83be-65826b6c7826",
   "metadata": {},
   "outputs": [],
   "source": [
    "l3=[1,2,3,True]"
   ]
  },
  {
   "cell_type": "code",
   "execution_count": 52,
   "id": "4b10835e-966b-43f3-a468-9acdd936e79a",
   "metadata": {},
   "outputs": [
    {
     "data": {
      "text/plain": [
       "True"
      ]
     },
     "execution_count": 52,
     "metadata": {},
     "output_type": "execute_result"
    }
   ],
   "source": [
    "all(l3)       # Will return True as all items in the list are True "
   ]
  },
  {
   "cell_type": "code",
   "execution_count": 53,
   "id": "1cd21dda-eea7-4e43-bb60-d9d4e754d43c",
   "metadata": {},
   "outputs": [
    {
     "data": {
      "text/plain": [
       "True"
      ]
     },
     "execution_count": 53,
     "metadata": {},
     "output_type": "execute_result"
    }
   ],
   "source": [
    "any(l3)"
   ]
  },
  {
   "cell_type": "markdown",
   "id": "05b4ce39-3f9d-4a40-bd99-02f500809325",
   "metadata": {},
   "source": [
    "# Tuple Creation"
   ]
  },
  {
   "cell_type": "code",
   "execution_count": 55,
   "id": "f250433d-41b4-435d-8b23-a3cb08469e65",
   "metadata": {},
   "outputs": [],
   "source": [
    "tup1=()   #empty tuple"
   ]
  },
  {
   "cell_type": "code",
   "execution_count": 56,
   "id": "38ed9d4e-6998-4f88-9827-892700197b4c",
   "metadata": {},
   "outputs": [],
   "source": [
    "tup2=(10,20,30)  #tuple of integers numbers"
   ]
  },
  {
   "cell_type": "code",
   "execution_count": 57,
   "id": "3a9e101a-532d-49ea-a7fc-52c2b34bcc4a",
   "metadata": {},
   "outputs": [],
   "source": [
    "tup3=(10.77,53.09,60.89)  #tuple of float numbers"
   ]
  },
  {
   "cell_type": "code",
   "execution_count": 58,
   "id": "f6283aa3-d727-41aa-8251-4b52a123b48b",
   "metadata": {},
   "outputs": [],
   "source": [
    "tup4=('one','two','three','four') #tuple of strings"
   ]
  },
  {
   "cell_type": "code",
   "execution_count": 59,
   "id": "76b2af8f-0844-45bf-b2cd-0a376778748e",
   "metadata": {},
   "outputs": [],
   "source": [
    "tup5=('pralhad',12,(50,100),(150,90))  #Nested tuples"
   ]
  },
  {
   "cell_type": "code",
   "execution_count": 60,
   "id": "320a9474-04c5-4f9e-862d-7953e906cbf4",
   "metadata": {},
   "outputs": [],
   "source": [
    "tup6=(100,'pralhad',17.85)  #tuple has mixed data types"
   ]
  },
  {
   "cell_type": "code",
   "execution_count": 62,
   "id": "61365f84-c0cd-487f-a463-17f20ad4c7db",
   "metadata": {},
   "outputs": [],
   "source": [
    "tup7=('pralhad',25,[50,100],[150,90],{'john'},{'david'},(90,32,98))"
   ]
  },
  {
   "cell_type": "code",
   "execution_count": 63,
   "id": "8a1911f3-2d1e-4489-acd8-8c645a7cd52c",
   "metadata": {},
   "outputs": [
    {
     "data": {
      "text/plain": [
       "7"
      ]
     },
     "execution_count": 63,
     "metadata": {},
     "output_type": "execute_result"
    }
   ],
   "source": [
    "len(tup7)  #length of list"
   ]
  },
  {
   "cell_type": "markdown",
   "id": "52132a77-a814-47e5-9516-a1a8f927db4c",
   "metadata": {},
   "source": [
    "# Tuple Indexing"
   ]
  },
  {
   "cell_type": "code",
   "execution_count": 64,
   "id": "341c7b49-d9cd-4ec7-b814-41b7d44b22f3",
   "metadata": {},
   "outputs": [
    {
     "data": {
      "text/plain": [
       "10"
      ]
     },
     "execution_count": 64,
     "metadata": {},
     "output_type": "execute_result"
    }
   ],
   "source": [
    "tup2[0]   #Retrieve first element of the tuple"
   ]
  },
  {
   "cell_type": "code",
   "execution_count": 65,
   "id": "602d49cf-68eb-4e5c-8a11-113a8fce0ff0",
   "metadata": {},
   "outputs": [
    {
     "data": {
      "text/plain": [
       "'one'"
      ]
     },
     "execution_count": 65,
     "metadata": {},
     "output_type": "execute_result"
    }
   ],
   "source": [
    "tup4[0]   #Retrieve first element of the tuple"
   ]
  },
  {
   "cell_type": "code",
   "execution_count": 67,
   "id": "3b9b9417-0603-468c-ad03-f63e8e170b3f",
   "metadata": {},
   "outputs": [
    {
     "data": {
      "text/plain": [
       "'o'"
      ]
     },
     "execution_count": 67,
     "metadata": {},
     "output_type": "execute_result"
    }
   ],
   "source": [
    "tup4[0][0]  #Nested inexing -Access the first character of the first tuple element"
   ]
  },
  {
   "cell_type": "code",
   "execution_count": 68,
   "id": "734ec982-f67c-43d0-8af3-8cdf5e2471f3",
   "metadata": {},
   "outputs": [
    {
     "data": {
      "text/plain": [
       "'four'"
      ]
     },
     "execution_count": 68,
     "metadata": {},
     "output_type": "execute_result"
    }
   ],
   "source": [
    "tup4[-1]   #last item of the tuple"
   ]
  },
  {
   "cell_type": "code",
   "execution_count": 69,
   "id": "16d2dda2-fb9c-45bd-9752-61b515296084",
   "metadata": {},
   "outputs": [
    {
     "data": {
      "text/plain": [
       "(150, 90)"
      ]
     },
     "execution_count": 69,
     "metadata": {},
     "output_type": "execute_result"
    }
   ],
   "source": [
    "tup5[-1]   #last item of the tuple"
   ]
  },
  {
   "cell_type": "markdown",
   "id": "b646599b-0369-4962-8c87-737b40261d90",
   "metadata": {},
   "source": [
    "# Tuple Slicing"
   ]
  },
  {
   "cell_type": "code",
   "execution_count": 91,
   "id": "c8cb8a28-e2d8-4758-b5ec-04669a24a390",
   "metadata": {},
   "outputs": [],
   "source": [
    "mytuple=('one','two','three','four','five','six','seven','eight')"
   ]
  },
  {
   "cell_type": "code",
   "execution_count": 92,
   "id": "c3521845-20bd-4eda-90e9-451fa245aaf6",
   "metadata": {},
   "outputs": [
    {
     "data": {
      "text/plain": [
       "('one', 'two', 'three')"
      ]
     },
     "execution_count": 92,
     "metadata": {},
     "output_type": "execute_result"
    }
   ],
   "source": [
    "mytuple[0:3]  #Return all items from oth to 3rd index location excluding the item"
   ]
  },
  {
   "cell_type": "code",
   "execution_count": 93,
   "id": "6dab5bc9-f449-48e5-940e-fab4b987fc4c",
   "metadata": {},
   "outputs": [
    {
     "data": {
      "text/plain": [
       "('three', 'four', 'five')"
      ]
     },
     "execution_count": 93,
     "metadata": {},
     "output_type": "execute_result"
    }
   ],
   "source": [
    "mytuple[2:5]  #List all items from 2nd to 5th index location excluding the item"
   ]
  },
  {
   "cell_type": "code",
   "execution_count": 94,
   "id": "113fc739-2eb2-4ecd-a24d-c6a07357b492",
   "metadata": {},
   "outputs": [
    {
     "data": {
      "text/plain": [
       "('one', 'two', 'three')"
      ]
     },
     "execution_count": 94,
     "metadata": {},
     "output_type": "execute_result"
    }
   ],
   "source": [
    "mytuple[:3]  #Return first three items"
   ]
  },
  {
   "cell_type": "code",
   "execution_count": 95,
   "id": "70929f02-f8fc-40bb-b1d9-8fe07ff90080",
   "metadata": {},
   "outputs": [
    {
     "data": {
      "text/plain": [
       "('one', 'two')"
      ]
     },
     "execution_count": 95,
     "metadata": {},
     "output_type": "execute_result"
    }
   ],
   "source": [
    "mytuple[:2]     #Return first two items"
   ]
  },
  {
   "cell_type": "code",
   "execution_count": 96,
   "id": "9220e924-cea9-4505-8722-10fe1071d5c5",
   "metadata": {},
   "outputs": [
    {
     "data": {
      "text/plain": [
       "('six', 'seven', 'eight')"
      ]
     },
     "execution_count": 96,
     "metadata": {},
     "output_type": "execute_result"
    }
   ],
   "source": [
    "mytuple[-3:]   #Return last three items"
   ]
  },
  {
   "cell_type": "code",
   "execution_count": 97,
   "id": "890cb39e-e5b9-4158-985b-c55e805e45bc",
   "metadata": {},
   "outputs": [
    {
     "data": {
      "text/plain": [
       "('seven', 'eight')"
      ]
     },
     "execution_count": 97,
     "metadata": {},
     "output_type": "execute_result"
    }
   ],
   "source": [
    "mytuple[-2:]   #Return last two items"
   ]
  },
  {
   "cell_type": "code",
   "execution_count": 98,
   "id": "db809e3a-f242-4cfe-9d67-593c1eddc11c",
   "metadata": {},
   "outputs": [
    {
     "data": {
      "text/plain": [
       "'eight'"
      ]
     },
     "execution_count": 98,
     "metadata": {},
     "output_type": "execute_result"
    }
   ],
   "source": [
    "mytuple[-1]    #Return last item of the tuple"
   ]
  },
  {
   "cell_type": "code",
   "execution_count": 99,
   "id": "144b5dc1-4a77-404b-b89b-e9db99d9b375",
   "metadata": {},
   "outputs": [
    {
     "data": {
      "text/plain": [
       "('one', 'two', 'three', 'four', 'five', 'six', 'seven', 'eight')"
      ]
     },
     "execution_count": 99,
     "metadata": {},
     "output_type": "execute_result"
    }
   ],
   "source": [
    "mytuple[:]   #Return whole tuple"
   ]
  },
  {
   "cell_type": "markdown",
   "id": "c0fd29b9-362c-4e6c-b2f4-ceb72214b21c",
   "metadata": {},
   "source": [
    "# Remove & Change Items"
   ]
  },
  {
   "cell_type": "code",
   "execution_count": 100,
   "id": "c27287c5-439a-43fe-a9c4-9893037c2c7d",
   "metadata": {},
   "outputs": [
    {
     "data": {
      "text/plain": [
       "('one', 'two', 'three', 'four', 'five', 'six', 'seven', 'eight')"
      ]
     },
     "execution_count": 100,
     "metadata": {},
     "output_type": "execute_result"
    }
   ],
   "source": [
    "mytuple"
   ]
  },
  {
   "cell_type": "code",
   "execution_count": 101,
   "id": "6332194d-d645-4425-be34-a85c136e778b",
   "metadata": {},
   "outputs": [
    {
     "ename": "TypeError",
     "evalue": "'tuple' object doesn't support item deletion",
     "output_type": "error",
     "traceback": [
      "\u001b[31m---------------------------------------------------------------------------\u001b[39m",
      "\u001b[31mTypeError\u001b[39m                                 Traceback (most recent call last)",
      "\u001b[36mCell\u001b[39m\u001b[36m \u001b[39m\u001b[32mIn[101]\u001b[39m\u001b[32m, line 1\u001b[39m\n\u001b[32m----> \u001b[39m\u001b[32m1\u001b[39m \u001b[38;5;28;01mdel\u001b[39;00m \u001b[43mmytuple\u001b[49m\u001b[43m[\u001b[49m\u001b[32;43m0\u001b[39;49m\u001b[43m]\u001b[49m  \u001b[38;5;66;03m#Tuples are immutable which means we can't DELETE tuple items\u001b[39;00m\n",
      "\u001b[31mTypeError\u001b[39m: 'tuple' object doesn't support item deletion"
     ]
    }
   ],
   "source": [
    "del mytuple[0]  #Tuples are immutable which means we can't DELETE tuple items"
   ]
  },
  {
   "cell_type": "code",
   "execution_count": 102,
   "id": "385046d5-6e94-4147-a022-c6b1a70135b1",
   "metadata": {},
   "outputs": [
    {
     "ename": "TypeError",
     "evalue": "'tuple' object does not support item assignment",
     "output_type": "error",
     "traceback": [
      "\u001b[31m---------------------------------------------------------------------------\u001b[39m",
      "\u001b[31mTypeError\u001b[39m                                 Traceback (most recent call last)",
      "\u001b[36mCell\u001b[39m\u001b[36m \u001b[39m\u001b[32mIn[102]\u001b[39m\u001b[32m, line 1\u001b[39m\n\u001b[32m----> \u001b[39m\u001b[32m1\u001b[39m \u001b[43mmytuple\u001b[49m\u001b[43m[\u001b[49m\u001b[32;43m0\u001b[39;49m\u001b[43m]\u001b[49m=\u001b[32m1\u001b[39m  \u001b[38;5;66;03m#Tuples are immutable which means we can't CHANGE tuple items\u001b[39;00m\n",
      "\u001b[31mTypeError\u001b[39m: 'tuple' object does not support item assignment"
     ]
    }
   ],
   "source": [
    "mytuple[0]=1  #Tuples are immutable which means we can't CHANGE tuple items"
   ]
  },
  {
   "cell_type": "code",
   "execution_count": 103,
   "id": "4364fbcc-e79f-435a-bc86-4e38c60d8c4b",
   "metadata": {},
   "outputs": [],
   "source": [
    "del mytuple  #Deleting entire tuple object is possible"
   ]
  },
  {
   "cell_type": "markdown",
   "id": "546b7fb4-b542-4c89-a947-aea0aa2b5213",
   "metadata": {},
   "source": [
    "# Loop through a touple"
   ]
  },
  {
   "cell_type": "code",
   "execution_count": 105,
   "id": "e72ac2d7-3f2f-4efc-852a-af7dd0dfec2b",
   "metadata": {},
   "outputs": [],
   "source": [
    "mytuple=('one','two','three','four','five','six','seven','eight')"
   ]
  },
  {
   "cell_type": "code",
   "execution_count": 106,
   "id": "1719dd36-a5c2-4c96-bf02-94a32bdb023e",
   "metadata": {},
   "outputs": [
    {
     "data": {
      "text/plain": [
       "('one', 'two', 'three', 'four', 'five', 'six', 'seven', 'eight')"
      ]
     },
     "execution_count": 106,
     "metadata": {},
     "output_type": "execute_result"
    }
   ],
   "source": [
    "mytuple"
   ]
  },
  {
   "cell_type": "code",
   "execution_count": 107,
   "id": "f1f6d011-eedf-4000-898b-5b0cd86720bb",
   "metadata": {},
   "outputs": [
    {
     "name": "stdout",
     "output_type": "stream",
     "text": [
      "one\n",
      "two\n",
      "three\n",
      "four\n",
      "five\n",
      "six\n",
      "seven\n",
      "eight\n"
     ]
    }
   ],
   "source": [
    "for i in mytuple:\n",
    "    print(i)"
   ]
  },
  {
   "cell_type": "code",
   "execution_count": 108,
   "id": "238774bc-bc07-49c4-9d18-420bba398666",
   "metadata": {},
   "outputs": [
    {
     "name": "stdout",
     "output_type": "stream",
     "text": [
      "(0, 'one')\n",
      "(1, 'two')\n",
      "(2, 'three')\n",
      "(3, 'four')\n",
      "(4, 'five')\n",
      "(5, 'six')\n",
      "(6, 'seven')\n",
      "(7, 'eight')\n"
     ]
    }
   ],
   "source": [
    "for i in enumerate(mytuple):\n",
    "    print(i)"
   ]
  },
  {
   "cell_type": "markdown",
   "id": "bae2b0f1-8417-45f5-b8c1-3bd447080683",
   "metadata": {},
   "source": [
    "# Tuple Membership"
   ]
  },
  {
   "cell_type": "code",
   "execution_count": 110,
   "id": "d30af128-ea1f-4c9b-a7d3-6cf654b9022e",
   "metadata": {},
   "outputs": [
    {
     "data": {
      "text/plain": [
       "('one', 'two', 'three', 'four', 'five', 'six', 'seven', 'eight')"
      ]
     },
     "execution_count": 110,
     "metadata": {},
     "output_type": "execute_result"
    }
   ],
   "source": [
    "mytuple"
   ]
  },
  {
   "cell_type": "code",
   "execution_count": 111,
   "id": "3b761fcd-94e1-4e95-8bfd-dd975d45dbe0",
   "metadata": {},
   "outputs": [
    {
     "data": {
      "text/plain": [
       "True"
      ]
     },
     "execution_count": 111,
     "metadata": {},
     "output_type": "execute_result"
    }
   ],
   "source": [
    "'one'in mytuple  #Check if 'one' exist in the list"
   ]
  },
  {
   "cell_type": "code",
   "execution_count": 113,
   "id": "6adb9699-c6b5-4e1b-98b7-63e264aaf5d8",
   "metadata": {},
   "outputs": [
    {
     "data": {
      "text/plain": [
       "False"
      ]
     },
     "execution_count": 113,
     "metadata": {},
     "output_type": "execute_result"
    }
   ],
   "source": [
    "'ten'in mytuple  #Check if 'ten' exist in the list"
   ]
  },
  {
   "cell_type": "code",
   "execution_count": 114,
   "id": "9f33497a-e574-4d36-b143-ad3bb2f88c97",
   "metadata": {},
   "outputs": [
    {
     "name": "stdout",
     "output_type": "stream",
     "text": [
      "Three is present in the tuple\n"
     ]
    }
   ],
   "source": [
    "if 'three' in mytuple: #Check if 'three' exist in the list\n",
    "    print('Three is present in the tuple')\n",
    "else:\n",
    "    print('Three is not present in the tuple')"
   ]
  },
  {
   "cell_type": "code",
   "execution_count": 115,
   "id": "5bf07119-4dec-433a-bd7d-cb9a8326ba2b",
   "metadata": {},
   "outputs": [
    {
     "name": "stdout",
     "output_type": "stream",
     "text": [
      "elevan is not present in the tuple\n"
     ]
    }
   ],
   "source": [
    "if 'elevan' in mytuple:  #Checl if 'elevan' exist int the list\n",
    "    print('elevan is present in the tuple')\n",
    "else:\n",
    "    print('elevan is not present in the tuple')"
   ]
  },
  {
   "cell_type": "markdown",
   "id": "64b9fd54-0dfd-412d-95b0-08c8839c0054",
   "metadata": {},
   "source": [
    "# Index Position"
   ]
  },
  {
   "cell_type": "code",
   "execution_count": 116,
   "id": "a18bad97-4ca3-473f-bdbc-af969ce8ec78",
   "metadata": {},
   "outputs": [
    {
     "data": {
      "text/plain": [
       "('one', 'two', 'three', 'four', 'five', 'six', 'seven', 'eight')"
      ]
     },
     "execution_count": 116,
     "metadata": {},
     "output_type": "execute_result"
    }
   ],
   "source": [
    "mytuple"
   ]
  },
  {
   "cell_type": "code",
   "execution_count": 117,
   "id": "b0a03c82-b979-44fd-a38e-4b74c55e24b8",
   "metadata": {},
   "outputs": [
    {
     "data": {
      "text/plain": [
       "0"
      ]
     },
     "execution_count": 117,
     "metadata": {},
     "output_type": "execute_result"
    }
   ],
   "source": [
    "mytuple.index('one')  #Index of first element equal to 'one'"
   ]
  },
  {
   "cell_type": "code",
   "execution_count": 119,
   "id": "59c72c9a-613a-45e3-9cbf-83af6ad8a0fe",
   "metadata": {},
   "outputs": [
    {
     "data": {
      "text/plain": [
       "4"
      ]
     },
     "execution_count": 119,
     "metadata": {},
     "output_type": "execute_result"
    }
   ],
   "source": [
    "mytuple.index('five')      #Index of first element equal to 'five'"
   ]
  },
  {
   "cell_type": "code",
   "execution_count": 121,
   "id": "f36f1405-efea-4fb0-bbe0-a4f55b2d80e3",
   "metadata": {},
   "outputs": [],
   "source": [
    "mytuple1=mytuple"
   ]
  },
  {
   "cell_type": "code",
   "execution_count": 122,
   "id": "fffaf3b7-3cc8-4ede-8495-2500b7e19ba1",
   "metadata": {},
   "outputs": [
    {
     "data": {
      "text/plain": [
       "('one', 'two', 'three', 'four', 'five', 'six', 'seven', 'eight')"
      ]
     },
     "execution_count": 122,
     "metadata": {},
     "output_type": "execute_result"
    }
   ],
   "source": [
    "mytuple1"
   ]
  },
  {
   "cell_type": "code",
   "execution_count": 123,
   "id": "dc7adf62-ad91-4a26-ba7e-26cbc183f62e",
   "metadata": {},
   "outputs": [
    {
     "data": {
      "text/plain": [
       "0"
      ]
     },
     "execution_count": 123,
     "metadata": {},
     "output_type": "execute_result"
    }
   ],
   "source": [
    "mytuple1.index('one')  #Index of first element equal to 'one'"
   ]
  },
  {
   "cell_type": "markdown",
   "id": "fd37d666-ac50-4d59-8838-de2538bcb8a8",
   "metadata": {},
   "source": [
    "# Sorting\n"
   ]
  },
  {
   "cell_type": "code",
   "execution_count": 125,
   "id": "8e191c94-6e0d-4a72-ac09-ec499ec8101b",
   "metadata": {},
   "outputs": [],
   "source": [
    "mytuple2=(43,67,99,12,6,90,67)"
   ]
  },
  {
   "cell_type": "code",
   "execution_count": 126,
   "id": "26a290c3-6a4d-41a9-80d5-0f079771eea6",
   "metadata": {},
   "outputs": [
    {
     "data": {
      "text/plain": [
       "[6, 12, 43, 67, 67, 90, 99]"
      ]
     },
     "execution_count": 126,
     "metadata": {},
     "output_type": "execute_result"
    }
   ],
   "source": [
    "sorted(mytuple2)  #Returns a new sorted list and doesn't change original tuple"
   ]
  },
  {
   "cell_type": "code",
   "execution_count": 127,
   "id": "c7f8b6f7-d607-469b-8473-d6a1aa04a43a",
   "metadata": {},
   "outputs": [
    {
     "data": {
      "text/plain": [
       "[99, 90, 67, 67, 43, 12, 6]"
      ]
     },
     "execution_count": 127,
     "metadata": {},
     "output_type": "execute_result"
    }
   ],
   "source": [
    "sorted(mytuple2,reverse=True)  #sort in descending order"
   ]
  },
  {
   "cell_type": "code",
   "execution_count": null,
   "id": "0327e71d-23d7-4e0b-910e-40faf7b81d46",
   "metadata": {},
   "outputs": [],
   "source": []
  }
 ],
 "metadata": {
  "kernelspec": {
   "display_name": "Python 3 (ipykernel)",
   "language": "python",
   "name": "python3"
  },
  "language_info": {
   "codemirror_mode": {
    "name": "ipython",
    "version": 3
   },
   "file_extension": ".py",
   "mimetype": "text/x-python",
   "name": "python",
   "nbconvert_exporter": "python",
   "pygments_lexer": "ipython3",
   "version": "3.12.8"
  },
  "widgets": {
   "application/vnd.jupyter.widget-state+json": {
    "state": {},
    "version_major": 2,
    "version_minor": 0
   }
  }
 },
 "nbformat": 4,
 "nbformat_minor": 5
}
