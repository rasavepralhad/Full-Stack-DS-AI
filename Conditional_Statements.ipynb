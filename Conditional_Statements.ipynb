{
 "cells": [
  {
   "cell_type": "code",
   "execution_count": 1,
   "id": "e868d243",
   "metadata": {},
   "outputs": [
    {
     "name": "stdout",
     "output_type": "stream",
     "text": [
      "Eligible for vote\n"
     ]
    }
   ],
   "source": [
    "age=20\n",
    "if age>=18:\n",
    "    print('Eligible for vote')"
   ]
  },
  {
   "cell_type": "code",
   "execution_count": 2,
   "id": "3041782b",
   "metadata": {},
   "outputs": [],
   "source": [
    "age=19\n",
    "if age>19:\n",
    "    print('Eligible for voting')"
   ]
  },
  {
   "cell_type": "code",
   "execution_count": 3,
   "id": "a05dd1c5",
   "metadata": {},
   "outputs": [
    {
     "name": "stdout",
     "output_type": "stream",
     "text": [
      "Travel for free\n"
     ]
    }
   ],
   "source": [
    "age=10\n",
    "if age<=12:\n",
    "    print('Travel for free')\n",
    "else:\n",
    "    print('Pay for Ticket')"
   ]
  },
  {
   "cell_type": "code",
   "execution_count": 4,
   "id": "bdf40cdf",
   "metadata": {},
   "outputs": [
    {
     "name": "stdout",
     "output_type": "stream",
     "text": [
      "fail\n"
     ]
    }
   ],
   "source": [
    "marks=45\n",
    "rs='pass' \n",
    "if marks >=40:\n",
    "    print('fail')\n",
    "else:\n",
    "    print(f\"Result:{Res}\")"
   ]
  },
  {
   "cell_type": "code",
   "execution_count": 5,
   "id": "ee0b64d1",
   "metadata": {},
   "outputs": [
    {
     "name": "stdout",
     "output_type": "stream",
     "text": [
      "Young Adult.\n"
     ]
    }
   ],
   "source": [
    "age=25\n",
    "if age<=12:\n",
    "    print(\"Child.\")\n",
    "elif age<=19:\n",
    "    print(\"Teenager.\")\n",
    "elif age<=35:\n",
    "    print(\"Young Adult.\")\n",
    "else:\n",
    "    print(\"Adult\")"
   ]
  },
  {
   "cell_type": "code",
   "execution_count": 6,
   "id": "8beb8251",
   "metadata": {},
   "outputs": [
    {
     "name": "stdout",
     "output_type": "stream",
     "text": [
      "30% senoir discount!\n"
     ]
    }
   ],
   "source": [
    "age=70\n",
    "is_number=True\n",
    "if age>=60:\n",
    "    if is_number: \n",
    "        print(\"30% senoir discount!\")\n",
    "    else:\n",
    "        print(\"20% senior discount!\") \n",
    "else:\n",
    "    print(\"Not eligible for a senior discount.\")  "
   ]
  },
  {
   "cell_type": "code",
   "execution_count": 7,
   "id": "151c9825",
   "metadata": {},
   "outputs": [
    {
     "name": "stdout",
     "output_type": "stream",
     "text": [
      "Adult\n"
     ]
    }
   ],
   "source": [
    "# Assign a value based on a condition\n",
    "age = 20\n",
    "s = \"Adult\" if age >= 18 else \"Minor\"\n",
    "\n",
    "print(s)"
   ]
  },
  {
   "cell_type": "code",
   "execution_count": 8,
   "id": "f1709a0c",
   "metadata": {},
   "outputs": [
    {
     "name": "stdout",
     "output_type": "stream",
     "text": [
      "Two or Three\n"
     ]
    }
   ],
   "source": [
    "number = 2\n",
    "\n",
    "match number:\n",
    "    case 1:\n",
    "        print(\"One\")\n",
    "    case 2 | 3:\n",
    "        print(\"Two or Three\")\n",
    "    case _:\n",
    "        print(\"Other number\")"
   ]
  },
  {
   "cell_type": "markdown",
   "id": "9a156600",
   "metadata": {},
   "source": [
    "# If Else Statements\n"
   ]
  },
  {
   "cell_type": "code",
   "execution_count": 9,
   "id": "f7000f72",
   "metadata": {},
   "outputs": [
    {
     "name": "stdout",
     "output_type": "stream",
     "text": [
      "i is not greater than 15\n"
     ]
    }
   ],
   "source": [
    "i=10\n",
    "# Checking if i is greater than 15\n",
    "if(i>15):\n",
    "    print(\"i is greater than 15\")\n",
    "else:\n",
    "    print(\"i is not greater than 15\")"
   ]
  },
  {
   "cell_type": "code",
   "execution_count": 10,
   "id": "81eb9351",
   "metadata": {},
   "outputs": [
    {
     "name": "stdout",
     "output_type": "stream",
     "text": [
      "i is positive\n"
     ]
    }
   ],
   "source": [
    "# Simple if-else\n",
    "i=20\n",
    "# checking if i is greater than 0\n",
    "if(i>0):\n",
    "    print(\"i is positive\")\n",
    "else:\n",
    "    print(\"i is negative\")"
   ]
  },
  {
   "cell_type": "code",
   "execution_count": 11,
   "id": "fced1df5",
   "metadata": {},
   "outputs": [
    {
     "name": "stdout",
     "output_type": "stream",
     "text": [
      "Negative\n"
     ]
    }
   ],
   "source": [
    "# If Else in one Line\n",
    "a=-2\n",
    "# Ternary conditional to check if number is positive or negative\n",
    "res=\"Positive\" if a>=10 else \"Negative\"\n",
    "print(res)"
   ]
  },
  {
   "cell_type": "code",
   "execution_count": 12,
   "id": "12dd5572",
   "metadata": {},
   "outputs": [
    {
     "name": "stdout",
     "output_type": "stream",
     "text": [
      "Not eligible for job\n"
     ]
    }
   ],
   "source": [
    "# Logical Operators with If_else\n",
    "age=20\n",
    "exp=10\n",
    "# using '>' operator & \"and\" opeartor\n",
    "if age>23 and exp>8:\n",
    "    print(\"Eligible for Job\")\n",
    "else:\n",
    "    print(\"Not eligible for job\")"
   ]
  },
  {
   "cell_type": "code",
   "execution_count": 13,
   "id": "3a388af4",
   "metadata": {},
   "outputs": [
    {
     "name": "stdout",
     "output_type": "stream",
     "text": [
      "i is not equal to 10\n"
     ]
    }
   ],
   "source": [
    "# Nested If Else Statementi=10\n",
    "if(i==10):\n",
    "    # First if statement\n",
    "    if(i<15):\n",
    "        print(\"i is smaller than 15\")\n",
    "    # Nested - if statement\n",
    "    # will only be executed if statement above\n",
    "    # it is true\n",
    "    if(i<12):\n",
    "        print(\"i is smaller than 12 too\")\n",
    "    else:\n",
    "        print(\"i is greater than 15\")\n",
    "else:\n",
    "    print(\"i is not equal to 10\")"
   ]
  },
  {
   "cell_type": "code",
   "execution_count": 14,
   "id": "6da86b16",
   "metadata": {},
   "outputs": [
    {
     "name": "stdout",
     "output_type": "stream",
     "text": [
      "i is not present\n"
     ]
    }
   ],
   "source": [
    "# If..elif..else statement\n",
    "\n",
    "i=25\n",
    "# checking if i is equal to 10\n",
    "if (i==10):\n",
    "    print(\"i is 10\")\n",
    "    # Checking if i is equal to 15\n",
    "elif(i==15):\n",
    "    print(\"i is 15\")\n",
    "elif(i==20):\n",
    "    print(\"i is 20\")\n",
    "    # if none of the above conditions are true\n",
    "else:\n",
    "    print(\"i is not present\")"
   ]
  },
  {
   "cell_type": "code",
   "execution_count": 15,
   "id": "d039c3aa",
   "metadata": {},
   "outputs": [
    {
     "name": "stdout",
     "output_type": "stream",
     "text": [
      "10 is greater than 5\n",
      "program is excuted\n"
     ]
    }
   ],
   "source": [
    " # if statement example\n",
    "if 10>5:\n",
    "     print(\"10 is greater than 5\")\n",
    "     \n",
    "print(\"program is excuted\")"
   ]
  },
  {
   "cell_type": "code",
   "execution_count": 16,
   "id": "30650668",
   "metadata": {},
   "outputs": [
    {
     "name": "stdout",
     "output_type": "stream",
     "text": [
      "no\n"
     ]
    }
   ],
   "source": [
    "# if..else statements example\n",
    "x=3\n",
    "if x==4:\n",
    "    print(\"yes\")\n",
    "else:\n",
    "    print(\"no\")"
   ]
  },
  {
   "cell_type": "code",
   "execution_count": 17,
   "id": "152a5623",
   "metadata": {},
   "outputs": [
    {
     "name": "stdout",
     "output_type": "stream",
     "text": [
      "letter is A\n"
     ]
    }
   ],
   "source": [
    "# if..else chaian statement\n",
    "letter = \"A\"\n",
    "if letter =='B':\n",
    "    print('letter is B')\n",
    "else:\n",
    "    \n",
    "    \n",
    "    if letter== 'c':\n",
    "        print('letter is c')\n",
    "    else:\n",
    "        \n",
    "        if letter==\"A\":\n",
    "            print(\"letter is A\")\n",
    "        else:\n",
    "            print(\"letter is not A\")"
   ]
  },
  {
   "cell_type": "code",
   "execution_count": 18,
   "id": "bcc14db5",
   "metadata": {},
   "outputs": [
    {
     "name": "stdout",
     "output_type": "stream",
     "text": [
      "Bigger than 5\n",
      "Betwen 5 and 15\n"
     ]
    }
   ],
   "source": [
    "# Nested if statement example\n",
    "a=10\n",
    "if a>5:\n",
    "    print(\"Bigger than 5\")\n",
    "    \n",
    "    if a<=15:\n",
    "        print(\"Betwen 5 and 15\")"
   ]
  },
  {
   "cell_type": "code",
   "execution_count": 19,
   "id": "fd94e51e",
   "metadata": {},
   "outputs": [
    {
     "name": "stdout",
     "output_type": "stream",
     "text": [
      "letter is A\n"
     ]
    }
   ],
   "source": [
    "# if-elif statement example\n",
    "letter=\"A\"\n",
    "if letter==\"B\":\n",
    "    print(\"letter is B\")\n",
    "elif letter==\"C\":\n",
    "    print(\"letter is c\")\n",
    "elif letter==\"A\":\n",
    "    print(\"letter is A\")\n",
    "else:\n",
    "    print(\"letter is not A,B and C \")"
   ]
  },
  {
   "cell_type": "code",
   "execution_count": 20,
   "id": "b6cd9ea5",
   "metadata": {},
   "outputs": [
    {
     "name": "stdout",
     "output_type": "stream",
     "text": [
      "x is greater than 5 and y is 5\n"
     ]
    }
   ],
   "source": [
    "x=10\n",
    "y=5\n",
    "if x>5:\n",
    "    if y>5:\n",
    "        print(\"x is greater than 5\")\n",
    "    elif y==5:\n",
    "        print(\"x is greater than 5 and y is 5\")\n",
    "    else:\n",
    "        print(\"x is greater than 5 and y is less tahn 5\")"
   ]
  },
  {
   "cell_type": "code",
   "execution_count": 21,
   "id": "167f6f8b",
   "metadata": {},
   "outputs": [
    {
     "name": "stdout",
     "output_type": "stream",
     "text": [
      "Ticket price is $12.\n"
     ]
    }
   ],
   "source": [
    "age = 30\n",
    "member = True\n",
    "\n",
    "if age > 18:\n",
    "    if member:\n",
    "        print(\"Ticket price is $12.\")\n",
    "    else:\n",
    "        print(\"Ticket price is $20.\")\n",
    "else:\n",
    "    if member:\n",
    "        print(\"Ticket price is $8.\")\n",
    "    else:\n",
    "        print(\"Ticket price is $10.\")"
   ]
  },
  {
   "cell_type": "code",
   "execution_count": 22,
   "id": "dedb53fa",
   "metadata": {},
   "outputs": [
    {
     "name": "stdout",
     "output_type": "stream",
     "text": [
      "zero\n"
     ]
    }
   ],
   "source": [
    "i=0;\n",
    "# if condition 1\n",
    "if i!=0:\n",
    "    # condition 1\n",
    "    if i>0:\n",
    "        print(\"positive \")\n",
    "    \n",
    "    # condition 2\n",
    "    if i<0:\n",
    "        print(\"Negative\")\n",
    "else:\n",
    "    print(\"zero\")"
   ]
  },
  {
   "cell_type": "code",
   "execution_count": 23,
   "id": "31ff6d3e",
   "metadata": {},
   "outputs": [
    {
     "name": "stdout",
     "output_type": "stream",
     "text": [
      "x is greater \n"
     ]
    }
   ],
   "source": [
    "x=10\n",
    "y=5\n",
    "res=\"x is greater \" if x>y else \"y is greater\"\n",
    "print(res)"
   ]
  },
  {
   "cell_type": "code",
   "execution_count": 24,
   "id": "c2139545",
   "metadata": {},
   "outputs": [
    {
     "name": "stdout",
     "output_type": "stream",
     "text": [
      "Negative\n"
     ]
    }
   ],
   "source": [
    "n=-5\n",
    "res=\"Positive\" if n>0 else \"Negative\" if n<0 else 'zero'\n",
    "print(res)"
   ]
  },
  {
   "cell_type": "code",
   "execution_count": 25,
   "id": "a488f179",
   "metadata": {},
   "outputs": [
    {
     "name": "stdout",
     "output_type": "stream",
     "text": [
      "greater than 10\n"
     ]
    }
   ],
   "source": [
    "x=15\n",
    "res=\"Greater than 20\" if x>20 else \"greater than 10\" if x>10 else \"10 or less\"\n",
    "print(res)"
   ]
  },
  {
   "cell_type": "code",
   "execution_count": 26,
   "id": "2a1c7fef",
   "metadata": {},
   "outputs": [
    {
     "name": "stdout",
     "output_type": "stream",
     "text": [
      "Sorry! You are not alloweed.bye!\n"
     ]
    }
   ],
   "source": [
    "age=18\n",
    "if((age>=18) and (age<=12)):\n",
    "    print(\"You are allowed.Welcome!\")\n",
    "else:\n",
    "    print(\"Sorry! You are not alloweed.bye!\")"
   ]
  },
  {
   "cell_type": "code",
   "execution_count": 27,
   "id": "eaa85786",
   "metadata": {},
   "outputs": [
    {
     "name": "stdout",
     "output_type": "stream",
     "text": [
      "You said no\n"
     ]
    }
   ],
   "source": [
    "var=\"N\"\n",
    "if(var=='Y' or var==\"y\"):\n",
    "    print(\"You Said Yes\")\n",
    "elif(var==\"N\" or var==\"n\"):\n",
    "    print(\"You said no\")\n",
    "else:\n",
    "    print(\"invalid input\")"
   ]
  },
  {
   "cell_type": "code",
   "execution_count": 28,
   "id": "9b2d5506",
   "metadata": {},
   "outputs": [
    {
     "name": "stdout",
     "output_type": "stream",
     "text": [
      "9 is the largest number\n"
     ]
    }
   ],
   "source": [
    "a=7\n",
    "b=9\n",
    "c=3\n",
    "\n",
    "if((a>b and a>c) and (a!=b and a!=c)):\n",
    "    print(a,\"is the largest number\")\n",
    "elif((b>a and b>c) and (b!=a and b!=c)):\n",
    "    print(b,\"is the largest number\")\n",
    "elif((c>a and c>b) and (c!=a and c!=b)):\n",
    "    print(c,\"is the largest number\")\n",
    "else:\n",
    "    print(\"entered numbers are equal\")"
   ]
  },
  {
   "cell_type": "code",
   "execution_count": 29,
   "id": "b1356b6b",
   "metadata": {},
   "outputs": [
    {
     "name": "stdout",
     "output_type": "stream",
     "text": [
      "working\n"
     ]
    }
   ],
   "source": [
    "a=1\n",
    "b=1\n",
    "c=1\n",
    "\n",
    "if(a==1 and b==1 and c==1):\n",
    "    print(\"working\")\n",
    "else:\n",
    "    print(\"stopped\")"
   ]
  },
  {
   "cell_type": "code",
   "execution_count": 30,
   "id": "55505e0e",
   "metadata": {},
   "outputs": [
    {
     "name": "stdout",
     "output_type": "stream",
     "text": [
      "Eligible\n"
     ]
    }
   ],
   "source": [
    "a = 20  # age\n",
    "b = True  # Citizen status\n",
    "if a >= 18 and b:\n",
    "    print(\"Eligible\")\n",
    "else:\n",
    "    print(\"Ineligible\")"
   ]
  },
  {
   "cell_type": "code",
   "execution_count": 31,
   "id": "99d9ca8a",
   "metadata": {},
   "outputs": [
    {
     "name": "stdout",
     "output_type": "stream",
     "text": [
      "Granted\n"
     ]
    }
   ],
   "source": [
    "a = 23 # age\n",
    "b = \"yes\" # permission\n",
    "\n",
    "if a >= 18 and b == \"yes\":\n",
    "    print(\"Granted\")\n",
    "else:\n",
    "    print(\"Denied\")"
   ]
  },
  {
   "cell_type": "code",
   "execution_count": 32,
   "id": "69346e8b",
   "metadata": {},
   "outputs": [
    {
     "name": "stdout",
     "output_type": "stream",
     "text": [
      "Valid\n"
     ]
    }
   ],
   "source": [
    "p = \"securePass123\" #password\n",
    "if len(p) >= 8 and any(char.isdigit() for char in p):\n",
    "    print(\"Valid\")\n",
    "else:\n",
    "    print(\"Invalid\")"
   ]
  },
  {
   "cell_type": "code",
   "execution_count": 33,
   "id": "8f40619d",
   "metadata": {},
   "outputs": [
    {
     "name": "stdout",
     "output_type": "stream",
     "text": [
      "Fight\n"
     ]
    }
   ],
   "source": [
    "a = 50  # health\n",
    "b = True  # has_weapon\n",
    "if a > 0 and b:\n",
    "    print(\"Fight\")\n",
    "else:\n",
    "    print(\"No Fight\")"
   ]
  },
  {
   "cell_type": "code",
   "execution_count": 34,
   "id": "990a6ffa",
   "metadata": {},
   "outputs": [
    {
     "name": "stdout",
     "output_type": "stream",
     "text": [
      "It's 10\n",
      "It's neither 10 nor 20\n"
     ]
    }
   ],
   "source": [
    "def check_number(x):\n",
    "    match x:\n",
    "        case 10:\n",
    "            print(\"It's 10\")\n",
    "        case 20:\n",
    "            print(\"It's 20\")\n",
    "        case _:\n",
    "            print(\"It's neither 10 nor 20\")\n",
    "\n",
    "check_number(10)\n",
    "check_number(30)"
   ]
  },
  {
   "cell_type": "code",
   "execution_count": 35,
   "id": "f4fdbaa5",
   "metadata": {},
   "outputs": [
    {
     "name": "stdout",
     "output_type": "stream",
     "text": [
      "Hello, A!\n",
      "Hello, B!\n"
     ]
    }
   ],
   "source": [
    "def greet(person):\n",
    "    match person:\n",
    "        case \"A\":\n",
    "            print(\"Hello, A!\")\n",
    "        case \"B\":\n",
    "            print(\"Hello, B!\")\n",
    "        case _:\n",
    "            print(\"Hello, stranger!\")\n",
    "\n",
    "greet(\"A\")\n",
    "greet(\"B\")"
   ]
  },
  {
   "cell_type": "code",
   "execution_count": 36,
   "id": "699fb449",
   "metadata": {},
   "outputs": [
    {
     "name": "stdout",
     "output_type": "stream",
     "text": [
      "Matched: 10\n",
      "Matched: 20\n",
      "No match found\n"
     ]
    }
   ],
   "source": [
    "def num_check(x):\n",
    "    match x:\n",
    "        case 10 | 20 | 30:  # Matches 10, 20, or 30\n",
    "            print(f\"Matched: {x}\")\n",
    "        case _:\n",
    "            print(\"No match found\")\n",
    "\n",
    "num_check(10)\n",
    "num_check(20)\n",
    "num_check(25)"
   ]
  },
  {
   "cell_type": "code",
   "execution_count": 37,
   "id": "b89a2e8e",
   "metadata": {},
   "outputs": [
    {
     "name": "stdout",
     "output_type": "stream",
     "text": [
      "Matched 10 and it's even!\n",
      "No match found\n"
     ]
    }
   ],
   "source": [
    "def num_check(x):\n",
    "    match x:\n",
    "        case 10 if x % 2 == 0:  # Match 10 only if it's even\n",
    "            print(\"Matched 10 and it's even!\")\n",
    "        case 10:\n",
    "            print(\"Matched 10, but it's not even.\")\n",
    "        case _:\n",
    "            print(\"No match found\")\n",
    "\n",
    "num_check(10)\n",
    "num_check(15)"
   ]
  },
  {
   "cell_type": "code",
   "execution_count": 38,
   "id": "95dc86e4",
   "metadata": {},
   "outputs": [
    {
     "name": "stdout",
     "output_type": "stream",
     "text": [
      "Two-element list: 1, 2\n",
      "Three-element list: 1, 2, 3\n",
      "Unknown data format\n"
     ]
    }
   ],
   "source": [
    "def process(data):\n",
    "    match data:\n",
    "        case [x, y]:  \n",
    "          \t# A list with two elements\n",
    "            print(f\"Two-element list: {x}, {y}\")\n",
    "        case [x, y, z]:  \n",
    "          \t# A list with three elements\n",
    "            print(f\"Three-element list: {x}, {y}, {z}\")\n",
    "        case _:\n",
    "            print(\"Unknown data format\")\n",
    "\n",
    "process([1, 2])\n",
    "process([1, 2, 3])\n",
    "process([1, 2, 3, 4])"
   ]
  },
  {
   "cell_type": "code",
   "execution_count": 39,
   "id": "a7690077",
   "metadata": {},
   "outputs": [
    {
     "name": "stdout",
     "output_type": "stream",
     "text": [
      "Name: Alice, Age: 25\n",
      "Name: Bob\n",
      "Unknown format\n"
     ]
    }
   ],
   "source": [
    "def person(person):\n",
    "    match person:\n",
    "      \n",
    "      \t# Dictionary with name and age keys\n",
    "        case {\"name\": name, \"age\": age}:  \n",
    "            print(f\"Name: {name}, Age: {age}\")\n",
    "            \n",
    "        # Dictionary with only name key    \n",
    "        case {\"name\": name}:  \n",
    "            print(f\"Name: {name}\")\n",
    "        case _:\n",
    "            print(\"Unknown format\")\n",
    "\n",
    "person({\"name\": \"Alice\", \"age\": 25})\n",
    "person({\"name\": \"Bob\"})\n",
    "person({\"city\": \"New York\"})"
   ]
  },
  {
   "cell_type": "code",
   "execution_count": 41,
   "id": "c9143c29",
   "metadata": {},
   "outputs": [],
   "source": [
    "class Shape:\n",
    "    pass\n",
    "\n",
    "class Circle(Shape):\n",
    "    __match_args__ = (\"radius\",)  # Enable pattern matching\n",
    "    def __init__(self, radius):\n",
    "        self.radius = radius\n",
    "\n",
    "class Rectangle(Shape):\n",
    "    __match_args__ = (\"width\", \"height\")  # Enable pattern matching\n",
    "    def __init__(self, width, height):\n",
    "        self.width = width\n",
    "        self.height = height\n"
   ]
  },
  {
   "cell_type": "code",
   "execution_count": 42,
   "id": "3d80c07d",
   "metadata": {},
   "outputs": [],
   "source": [
    "def check_shape(shape):\n",
    "    match shape:\n",
    "        case Circle(radius):\n",
    "            print(f\"Circle radius {radius}.\")\n",
    "        case Rectangle(width, height):\n",
    "            print(f\"Rectangle width {width} and height {height}.\")\n",
    "        case _:\n",
    "            print(\"This is an unknown shape.\")\n"
   ]
  },
  {
   "cell_type": "code",
   "execution_count": 43,
   "id": "d395f928",
   "metadata": {},
   "outputs": [],
   "source": [
    "from dataclasses import dataclass\n",
    "\n",
    "class Shape:\n",
    "    pass\n",
    "\n",
    "@dataclass\n",
    "class Circle(Shape):\n",
    "    radius: float\n",
    "\n",
    "@dataclass\n",
    "class Rectangle(Shape):\n",
    "    width: float\n",
    "    height: float\n"
   ]
  },
  {
   "cell_type": "code",
   "execution_count": 44,
   "id": "c2c2beac",
   "metadata": {},
   "outputs": [
    {
     "name": "stdout",
     "output_type": "stream",
     "text": [
      "Circle radius 10.\n",
      "Rectangle width 4 and height 6.\n"
     ]
    }
   ],
   "source": [
    "circle = Circle(10)\n",
    "rectangle = Rectangle(4, 6)\n",
    "\n",
    "check_shape(circle)       # Output: Circle radius 10.\n",
    "check_shape(rectangle)    # Output: Rectangle width 4 and height 6.\n"
   ]
  },
  {
   "cell_type": "code",
   "execution_count": 45,
   "id": "b5be0d2a",
   "metadata": {},
   "outputs": [
    {
     "name": "stdout",
     "output_type": "stream",
     "text": [
      "Odd\n"
     ]
    }
   ],
   "source": [
    "n = 5\n",
    "res = \"Even\" if n % 2 == 0 else \"Odd\"\n",
    "print(res)"
   ]
  },
  {
   "cell_type": "code",
   "execution_count": 46,
   "id": "b6c5253b",
   "metadata": {},
   "outputs": [
    {
     "name": "stdout",
     "output_type": "stream",
     "text": [
      "Negative\n"
     ]
    }
   ],
   "source": [
    "n = -5\n",
    "\n",
    "res = \"Positive\" if n > 0 else \"Negative\" if n < 0 else \"Zero\"\n",
    "print(res)"
   ]
  },
  {
   "cell_type": "code",
   "execution_count": 47,
   "id": "9c3ddad2",
   "metadata": {},
   "outputs": [
    {
     "name": "stdout",
     "output_type": "stream",
     "text": [
      "Odd\n"
     ]
    }
   ],
   "source": [
    "n = 7\n",
    "res = (\"Odd\", \"Even\")[n % 2 == 0]\n",
    "print(res)"
   ]
  },
  {
   "cell_type": "code",
   "execution_count": 48,
   "id": "1e99b5e6",
   "metadata": {},
   "outputs": [
    {
     "name": "stdout",
     "output_type": "stream",
     "text": [
      "20\n"
     ]
    }
   ],
   "source": [
    "a = 10\n",
    "b = 20\n",
    "max = {True: a, False: b}[a > b]\n",
    "print(max)"
   ]
  },
  {
   "cell_type": "code",
   "execution_count": 49,
   "id": "2a5b35ad",
   "metadata": {},
   "outputs": [
    {
     "name": "stdout",
     "output_type": "stream",
     "text": [
      "20\n"
     ]
    }
   ],
   "source": [
    "a = 10\n",
    "b = 20\n",
    "max = (lambda x, y: x if x > y else y)(a, b)\n",
    "print(max)"
   ]
  },
  {
   "cell_type": "code",
   "execution_count": 50,
   "id": "40e979c0",
   "metadata": {},
   "outputs": [
    {
     "name": "stdout",
     "output_type": "stream",
     "text": [
      "b is greater\n"
     ]
    }
   ],
   "source": [
    "a = 10\n",
    "b = 20\n",
    "\n",
    "print(\"a is greater\" if a > b else \"b is greater\")"
   ]
  },
  {
   "cell_type": "code",
   "execution_count": null,
   "id": "c973d243",
   "metadata": {},
   "outputs": [],
   "source": []
  }
 ],
 "metadata": {
  "kernelspec": {
   "display_name": "base",
   "language": "python",
   "name": "python3"
  },
  "language_info": {
   "codemirror_mode": {
    "name": "ipython",
    "version": 3
   },
   "file_extension": ".py",
   "mimetype": "text/x-python",
   "name": "python",
   "nbconvert_exporter": "python",
   "pygments_lexer": "ipython3",
   "version": "3.12.8"
  }
 },
 "nbformat": 4,
 "nbformat_minor": 5
}
