{
 "cells": [
  {
   "cell_type": "markdown",
   "id": "853270a6-8fd0-4521-94d2-05c3099247be",
   "metadata": {},
   "source": [
    "# Taking User Input"
   ]
  },
  {
   "cell_type": "code",
   "execution_count": 4,
   "id": "f4a987bc-2a4e-4b55-a65f-bd31bb92f715",
   "metadata": {},
   "outputs": [
    {
     "name": "stdin",
     "output_type": "stream",
     "text": [
      "Enter a Name: pralhad\n"
     ]
    },
    {
     "name": "stdout",
     "output_type": "stream",
     "text": [
      "pralhad\n"
     ]
    }
   ],
   "source": [
    "name=str(input(\"Enter a Name:\"))\n",
    "print(name)"
   ]
  },
  {
   "cell_type": "code",
   "execution_count": 2,
   "id": "b5d6292b-8fbe-4909-be3f-32d0704924b5",
   "metadata": {},
   "outputs": [
    {
     "name": "stdin",
     "output_type": "stream",
     "text": [
      "Enter a Name: pralhad\n"
     ]
    },
    {
     "name": "stdout",
     "output_type": "stream",
     "text": [
      "hello,Pralhad\n"
     ]
    }
   ],
   "source": [
    "n=input('Enter a Name:')\n",
    "print(\"hello,\"+name)"
   ]
  },
  {
   "cell_type": "markdown",
   "id": "c8082e1a-0a57-40ac-8395-3a88f2971667",
   "metadata": {},
   "source": [
    "# Type Casting Input"
   ]
  },
  {
   "cell_type": "code",
   "execution_count": 6,
   "id": "c355a3d3-7af9-4159-b267-a3e785580675",
   "metadata": {},
   "outputs": [
    {
     "name": "stdin",
     "output_type": "stream",
     "text": [
      "Enter Your Age: 21\n"
     ]
    },
    {
     "name": "stdout",
     "output_type": "stream",
     "text": [
      "You were Likey born in 2004\n"
     ]
    }
   ],
   "source": [
    "age_str=input(\"Enter Your Age:\")\n",
    "age_int=int(age_str)\n",
    "birth_year=2025-age_int\n",
    "print(\"You were Likey born in\",birth_year)"
   ]
  },
  {
   "cell_type": "markdown",
   "id": "b56fc296-e7d9-4032-8352-2203c7c66847",
   "metadata": {},
   "source": [
    "# The math Module  (import math)\n"
   ]
  },
  {
   "cell_type": "code",
   "execution_count": 7,
   "id": "fa0869d7-aa3e-421d-b80c-9c0c98b94a1d",
   "metadata": {},
   "outputs": [],
   "source": [
    "# The math module is a built-in module that provides access to many common mathematical functions and constants. To use it, you must first import it.\n",
    "import math\n"
   ]
  },
  {
   "cell_type": "markdown",
   "id": "c7c05058-6290-4920-8a5c-fa4679bc976a",
   "metadata": {},
   "source": [
    "# 1.Common Function"
   ]
  },
  {
   "cell_type": "code",
   "execution_count": 17,
   "id": "b3a4a50a-aaf8-4233-ae56-721788a4fc1a",
   "metadata": {},
   "outputs": [],
   "source": [
    "# ###\tmath.sqrt(x): Returns the square root of x.\n",
    "# •\tmath.pow(x, y): Returns x raised to the power of y.\n",
    "# •\tmath.ceil(x): Rounds a number up to the nearest integer.\n",
    "# •\tmath.floor(x): Rounds a number down to the nearest integer.\n",
    "# •\tmath.factorial(x): Returns the factorial of x.\n",
    "# •\tmath.sin(x), math.cos(x), math.tan(x): Return the sine, cosine, and tangent of x (assumes x is in radians).\n",
    "# •\tmath.degrees(x): Converts angle x from radians to degrees.\n",
    "# •\tmath.radians(x): Converts angle x from degrees to radians.\n",
    "\n"
   ]
  },
  {
   "cell_type": "markdown",
   "id": "fee23ddf-9c36-419a-8049-a2886f9d8d56",
   "metadata": {},
   "source": [
    "# 2.Constants"
   ]
  },
  {
   "cell_type": "code",
   "execution_count": 19,
   "id": "9dd597c8-b865-4b3b-b5e7-be1bf369aec5",
   "metadata": {},
   "outputs": [],
   "source": [
    "# •\tmath.pi: The mathematical constant Pi (approximately 3.14159).\n",
    "# •\tmath.e: The mathematical constant e (approximately 2.71828).\n"
   ]
  },
  {
   "cell_type": "code",
   "execution_count": 22,
   "id": "b707e45e-51d8-4652-b9de-f5fccfdd6363",
   "metadata": {},
   "outputs": [
    {
     "name": "stdout",
     "output_type": "stream",
     "text": [
      "The area of the circle is: 314.1592653589793\n",
      "The ceiling of 4.2 is: 5\n",
      "The floor of 4.2 is: 4\n"
     ]
    }
   ],
   "source": [
    "import math\n",
    "radius=10\n",
    "area=math.pi*math.pow(radius,2)\n",
    "print(\"The area of the circle is:\",area)\n",
    "print(\"The ceiling of 4.2 is:\",math.ceil(4.2))\n",
    "print(\"The floor of 4.2 is:\",math.floor(4.2))"
   ]
  },
  {
   "cell_type": "code",
   "execution_count": 24,
   "id": "6a0abba8-373f-4e90-914c-cf6b519bc1f8",
   "metadata": {},
   "outputs": [
    {
     "data": {
      "text/plain": [
       "5.0"
      ]
     },
     "execution_count": 24,
     "metadata": {},
     "output_type": "execute_result"
    }
   ],
   "source": [
    "math.sqrt(25)"
   ]
  },
  {
   "cell_type": "code",
   "execution_count": 25,
   "id": "a9bc067b-e8f6-43ae-8d59-d240ce444160",
   "metadata": {},
   "outputs": [
    {
     "data": {
      "text/plain": [
       "1e+20"
      ]
     },
     "execution_count": 25,
     "metadata": {},
     "output_type": "execute_result"
    }
   ],
   "source": [
    "math.pow(10,20)"
   ]
  },
  {
   "cell_type": "code",
   "execution_count": 26,
   "id": "41ee8773-850b-4897-9a99-d19922f78a88",
   "metadata": {},
   "outputs": [
    {
     "data": {
      "text/plain": [
       "5"
      ]
     },
     "execution_count": 26,
     "metadata": {},
     "output_type": "execute_result"
    }
   ],
   "source": [
    "math.ceil(4.4)"
   ]
  },
  {
   "cell_type": "code",
   "execution_count": 27,
   "id": "f1fd214a-983b-4a1e-9647-dec513a9dd2f",
   "metadata": {},
   "outputs": [
    {
     "data": {
      "text/plain": [
       "4"
      ]
     },
     "execution_count": 27,
     "metadata": {},
     "output_type": "execute_result"
    }
   ],
   "source": [
    "math.floor(4.3)"
   ]
  },
  {
   "cell_type": "code",
   "execution_count": 28,
   "id": "53fb823d-d58a-44ce-a018-327cdb08f2fd",
   "metadata": {},
   "outputs": [
    {
     "data": {
      "text/plain": [
       "119622220865480194561963161495657715064383733760000000000"
      ]
     },
     "execution_count": 28,
     "metadata": {},
     "output_type": "execute_result"
    }
   ],
   "source": [
    "math.factorial(45)"
   ]
  },
  {
   "cell_type": "code",
   "execution_count": 29,
   "id": "4623bfaa-5daa-4b57-abf6-691b388a2c75",
   "metadata": {},
   "outputs": [
    {
     "data": {
      "text/plain": [
       "0.6610060414837631"
      ]
     },
     "execution_count": 29,
     "metadata": {},
     "output_type": "execute_result"
    }
   ],
   "source": [
    "math.sin(25)\n",
    "math.cos(34)\n",
    "math.tan(32)"
   ]
  },
  {
   "cell_type": "code",
   "execution_count": 30,
   "id": "aceb0074-09a3-4048-8e3b-98f55cf56d5b",
   "metadata": {},
   "outputs": [
    {
     "data": {
      "text/plain": [
       "6875.493541569878"
      ]
     },
     "execution_count": 30,
     "metadata": {},
     "output_type": "execute_result"
    }
   ],
   "source": [
    "math.degrees(120)"
   ]
  },
  {
   "cell_type": "code",
   "execution_count": 31,
   "id": "b2b754c1-2c0e-4bc7-bb90-50795eac1cdf",
   "metadata": {},
   "outputs": [
    {
     "data": {
      "text/plain": [
       "3.141592653589793"
      ]
     },
     "execution_count": 31,
     "metadata": {},
     "output_type": "execute_result"
    }
   ],
   "source": [
    "math.radians(180)"
   ]
  },
  {
   "cell_type": "code",
   "execution_count": null,
   "id": "2210864b-262f-4148-9ecf-501cb01fdddd",
   "metadata": {},
   "outputs": [],
   "source": []
  }
 ],
 "metadata": {
  "kernelspec": {
   "display_name": "Python 3 (ipykernel)",
   "language": "python",
   "name": "python3"
  },
  "language_info": {
   "codemirror_mode": {
    "name": "ipython",
    "version": 3
   },
   "file_extension": ".py",
   "mimetype": "text/x-python",
   "name": "python",
   "nbconvert_exporter": "python",
   "pygments_lexer": "ipython3",
   "version": "3.12.8"
  },
  "widgets": {
   "application/vnd.jupyter.widget-state+json": {
    "state": {},
    "version_major": 2,
    "version_minor": 0
   }
  }
 },
 "nbformat": 4,
 "nbformat_minor": 5
}
