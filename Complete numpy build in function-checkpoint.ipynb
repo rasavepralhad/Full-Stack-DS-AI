{
 "cells": [
  {
   "cell_type": "markdown",
   "id": "5e2c0b44-82f6-4a03-9075-8a4e7a861de1",
   "metadata": {},
   "source": [
    "# Complete NUMPY DOCUMENTATION"
   ]
  },
  {
   "cell_type": "code",
   "execution_count": 19,
   "id": "7f2e7415-e841-48f0-af87-991d61092bc9",
   "metadata": {},
   "outputs": [
    {
     "data": {
      "image/png": "[encoded data removed]",
      "text/plain": [
       "<IPython.core.display.Image object>"
      ]
     },
     "execution_count": 19,
     "metadata": {},
     "output_type": "execute_result"
    }
   ],
   "source": [
    "from IPython.display import Image\n",
    "file=\"download.png\"\n",
    "Image(filename=file)   #use the import image command"
   ]
  },
  {
   "cell_type": "markdown",
   "id": "ff788eff-4dff-4889-a644-e5e146b7eb71",
   "metadata": {},
   "source": [
    "# 1.Array creation Function"
   ]
  },
  {
   "cell_type": "code",
   "execution_count": 21,
   "id": "1607dc16-e533-484a-9946-249d96ea9944",
   "metadata": {},
   "outputs": [],
   "source": [
    "import numpy as np"
   ]
  },
  {
   "cell_type": "code",
   "execution_count": 25,
   "id": "20ff41bb-6561-4089-8086-de26e5bc7ac0",
   "metadata": {},
   "outputs": [
    {
     "name": "stdout",
     "output_type": "stream",
     "text": [
      "Array a: [1 2 3]\n"
     ]
    }
   ],
   "source": [
    "a=np.array([1,2,3])  #Create ana array from a list\n",
    "print(\"Array a:\",a)"
   ]
  },
  {
   "cell_type": "code",
   "execution_count": 27,
   "id": "8acdbd66-f685-4e1c-8121-132bcafd95ca",
   "metadata": {},
   "outputs": [
    {
     "name": "stdout",
     "output_type": "stream",
     "text": [
      "Array b: [0 2 4 6 8]\n"
     ]
    }
   ],
   "source": [
    "b=np.arange(0,10,2)  #Creating an array with evenly spaced values\n",
    "print(\"Array b:\",b)  #Values from 0 to 10 with step 2 "
   ]
  },
  {
   "cell_type": "code",
   "execution_count": 28,
   "id": "4c8affe1-8c4d-42e6-87bb-d7b463d7c2d8",
   "metadata": {},
   "outputs": [
    {
     "name": "stdout",
     "output_type": "stream",
     "text": [
      "Array d:\n",
      " [[0. 0. 0.]\n",
      " [0. 0. 0.]]\n"
     ]
    }
   ],
   "source": [
    "#Create an array filled with zero\n",
    "d=np.zeros((2,3))   #2*3 array of zeros\n",
    "print(\"Array d:\\n\",d)"
   ]
  },
  {
   "cell_type": "code",
   "execution_count": 30,
   "id": "a65ec4ce-97f6-42b6-a515-eee2190d8853",
   "metadata": {},
   "outputs": [
    {
     "name": "stdout",
     "output_type": "stream",
     "text": [
      "Array e:\n",
      " [[1. 1.]\n",
      " [1. 1.]\n",
      " [1. 1.]]\n"
     ]
    }
   ],
   "source": [
    "#Create an array filled with ones\n",
    "e=np.ones((3,2))  #3*2 array of ones\n",
    "print(\"Array e:\\n\",e)"
   ]
  },
  {
   "cell_type": "code",
   "execution_count": 31,
   "id": "034c8947-8a58-4b97-8111-ba2c594d4f54",
   "metadata": {},
   "outputs": [
    {
     "name": "stdout",
     "output_type": "stream",
     "text": [
      "Identity matrix f:\n",
      " [[1. 0. 0. 0.]\n",
      " [0. 1. 0. 0.]\n",
      " [0. 0. 1. 0.]\n",
      " [0. 0. 0. 1.]]\n"
     ]
    }
   ],
   "source": [
    "f=np.eye(4)  #4*4 identity matrix\n",
    "print(\"Identity matrix f:\\n\",f)"
   ]
  },
  {
   "cell_type": "markdown",
   "id": "b1516390-f2ed-4b1a-8c99-6205e14f79b3",
   "metadata": {},
   "source": [
    " # 2.Array Manipulation Functions"
   ]
  },
  {
   "cell_type": "code",
   "execution_count": 37,
   "id": "54843bc3-fa08-4e25-99be-114992e32415",
   "metadata": {},
   "outputs": [
    {
     "name": "stdout",
     "output_type": "stream",
     "text": [
      "Reshaped array: [[1 2 3]]\n"
     ]
    }
   ],
   "source": [
    "#Reshape an array\n",
    "a1=np.array([1,2,3])\n",
    "reshaped=np.reshape(a1,(1,3))  #Reshape to 1*3\n",
    "print(\"Reshaped array:\",reshaped)"
   ]
  },
  {
   "cell_type": "code",
   "execution_count": 39,
   "id": "be12ed0e-70a3-445b-97fd-97f258a9ed4b",
   "metadata": {},
   "outputs": [
    {
     "name": "stdout",
     "output_type": "stream",
     "text": [
      "Flattend array: [1 2 3 4]\n"
     ]
    }
   ],
   "source": [
    "# Flatten an array\n",
    "f1=np.array([[1,2],[3,4]])\n",
    "flattend=np.ravel(f1)   #Flatten to 1d array\n",
    "print(\"Flattend array:\",flattend)"
   ]
  },
  {
   "cell_type": "code",
   "execution_count": 40,
   "id": "065e4fce-dca8-4db4-89ec-886427e17c1a",
   "metadata": {},
   "outputs": [
    {
     "name": "stdout",
     "output_type": "stream",
     "text": [
      "Transposed array:\n",
      " [[1 3]\n",
      " [2 4]]\n"
     ]
    }
   ],
   "source": [
    "# Transpose an array\n",
    "e1 = np.array([[1, 2], [3, 4]])\n",
    "transposed = np.transpose(e1)  # Transpose the array\n",
    "print(\"Transposed array:\\n\", transposed)"
   ]
  },
  {
   "cell_type": "code",
   "execution_count": 41,
   "id": "2c3d0489-bc30-45da-b482-db2feecbf397",
   "metadata": {},
   "outputs": [
    {
     "name": "stdout",
     "output_type": "stream",
     "text": [
      "Stacked arrays:\n",
      " [[1 2]\n",
      " [3 4]]\n"
     ]
    }
   ],
   "source": [
    "# Stack arrays vertically\n",
    "a2 = np.array([1, 2])\n",
    "b2 = np.array([3, 4])\n",
    "stacked = np.vstack([a2, b2])  # Stack a and b vertically\n",
    "print(\"Stacked arrays:\\n\", stacked)"
   ]
  },
  {
   "cell_type": "markdown",
   "id": "ec9fc112-3625-43d5-81b6-70f661cbbdba",
   "metadata": {},
   "source": [
    "# 3.Mathematical Function"
   ]
  },
  {
   "cell_type": "code",
   "execution_count": 43,
   "id": "5c9c6ba2-3c16-4153-b6f3-3dffec5a8d1d",
   "metadata": {},
   "outputs": [
    {
     "name": "stdout",
     "output_type": "stream",
     "text": [
      "Added 2 to g: [3 4 5 6]\n"
     ]
    }
   ],
   "source": [
    "# Add two arrays\n",
    "g = np.array([1, 2, 3, 4])\n",
    "added = np.add(g, 2)  # Add 2 to each element\n",
    "print(\"Added 2 to g:\", added)"
   ]
  },
  {
   "cell_type": "code",
   "execution_count": 44,
   "id": "646d4845-6c76-456c-9d49-5fa951b4b664",
   "metadata": {},
   "outputs": [
    {
     "name": "stdout",
     "output_type": "stream",
     "text": [
      "Squared g: [ 1  4  9 16]\n"
     ]
    }
   ],
   "source": [
    "# Square each element\n",
    "squared = np.power(g, 2)  # Square each element\n",
    "print(\"Squared g:\", squared)"
   ]
  },
  {
   "cell_type": "code",
   "execution_count": 45,
   "id": "da58c0d5-d07c-4948-ac29-1b3ca5dc0969",
   "metadata": {},
   "outputs": [
    {
     "name": "stdout",
     "output_type": "stream",
     "text": [
      "Square root of g: [1.         1.41421356 1.73205081 2.        ]\n"
     ]
    }
   ],
   "source": [
    "# Square root of each element\n",
    "sqrt_val = np.sqrt(g)  # Square root of each element\n",
    "print(\"Square root of g:\", sqrt_val)"
   ]
  },
  {
   "cell_type": "code",
   "execution_count": 46,
   "id": "15e520c9-2dde-4a9f-a1da-e51c9ee06804",
   "metadata": {},
   "outputs": [
    {
     "name": "stdout",
     "output_type": "stream",
     "text": [
      "[1 2 3]\n",
      "[1 2 3 4]\n"
     ]
    }
   ],
   "source": [
    "print(a1)\n",
    "print(g)"
   ]
  },
  {
   "cell_type": "code",
   "execution_count": 47,
   "id": "377ceda5-2ea7-4968-8373-258452b2b4db",
   "metadata": {},
   "outputs": [
    {
     "ename": "ValueError",
     "evalue": "shapes (3,) and (4,) not aligned: 3 (dim 0) != 4 (dim 0)",
     "output_type": "error",
     "traceback": [
      "\u001b[31m---------------------------------------------------------------------------\u001b[39m",
      "\u001b[31mValueError\u001b[39m                                Traceback (most recent call last)",
      "\u001b[36mCell\u001b[39m\u001b[36m \u001b[39m\u001b[32mIn[47]\u001b[39m\u001b[32m, line 3\u001b[39m\n\u001b[32m      1\u001b[39m \u001b[38;5;66;03m# Dot product of two arrays\u001b[39;00m\n\u001b[32m      2\u001b[39m a2 = np.array([\u001b[32m1\u001b[39m, \u001b[32m2\u001b[39m, \u001b[32m3\u001b[39m])\n\u001b[32m----> \u001b[39m\u001b[32m3\u001b[39m dot_product = \u001b[43mnp\u001b[49m\u001b[43m.\u001b[49m\u001b[43mdot\u001b[49m\u001b[43m(\u001b[49m\u001b[43ma2\u001b[49m\u001b[43m,\u001b[49m\u001b[43m \u001b[49m\u001b[43mg\u001b[49m\u001b[43m)\u001b[49m  \u001b[38;5;66;03m# Dot product of a and g\u001b[39;00m\n\u001b[32m      4\u001b[39m \u001b[38;5;28mprint\u001b[39m(\u001b[33m\"\u001b[39m\u001b[33mDot product of a and g:\u001b[39m\u001b[33m\"\u001b[39m, dot_product)\n",
      "\u001b[31mValueError\u001b[39m: shapes (3,) and (4,) not aligned: 3 (dim 0) != 4 (dim 0)"
     ]
    }
   ],
   "source": [
    "# Dot product of two arrays\n",
    "a2 = np.array([1, 2, 3])\n",
    "dot_product = np.dot(a2, g)  # Dot product of a and g\n",
    "print(\"Dot product of a and g:\", dot_product)"
   ]
  },
  {
   "cell_type": "code",
   "execution_count": 48,
   "id": "7366eb3e-86df-47b3-ac26-cc17fc9556c1",
   "metadata": {},
   "outputs": [
    {
     "name": "stdout",
     "output_type": "stream",
     "text": [
      "[1 2 3]\n",
      "[1 2 3]\n"
     ]
    }
   ],
   "source": [
    "print(a)\n",
    "print(a1)"
   ]
  },
  {
   "cell_type": "code",
   "execution_count": 49,
   "id": "5de2457b-8245-4f11-8a24-87cd2228040b",
   "metadata": {},
   "outputs": [
    {
     "name": "stdout",
     "output_type": "stream",
     "text": [
      "Dot product of a1 and a: 14\n"
     ]
    }
   ],
   "source": [
    "a3=np.array([1,2,3])\n",
    "dot_product=np.dot(a1,a)  #Dot product of a and g\n",
    "print(\"Dot product of a1 and a:\",dot_product)"
   ]
  },
  {
   "cell_type": "markdown",
   "id": "7abeff74-6b57-450e-ae13-c89540634026",
   "metadata": {},
   "source": [
    "# 4.Statistical Functions"
   ]
  },
  {
   "cell_type": "code",
   "execution_count": 50,
   "id": "1c08b3f7-e2f9-44af-bda1-afe32e7bcc31",
   "metadata": {},
   "outputs": [
    {
     "name": "stdout",
     "output_type": "stream",
     "text": [
      "Mean of s: 2.5\n"
     ]
    }
   ],
   "source": [
    "s=np.array([1,2,3,4])\n",
    "mean=np.mean(s)\n",
    "print(\"Mean of s:\",mean)"
   ]
  },
  {
   "cell_type": "code",
   "execution_count": 53,
   "id": "8a70a9d7-a6d2-4965-8df4-854aa4d39862",
   "metadata": {},
   "outputs": [
    {
     "name": "stdout",
     "output_type": "stream",
     "text": [
      "standard deviation of s: 1.118033988749895\n"
     ]
    }
   ],
   "source": [
    "std_dev=np.std(s)\n",
    "print(\"standard deviation of s:\",std_dev)"
   ]
  },
  {
   "cell_type": "code",
   "execution_count": 54,
   "id": "abb749ec-60cf-4772-aa65-30a78f131a55",
   "metadata": {},
   "outputs": [
    {
     "name": "stdout",
     "output_type": "stream",
     "text": [
      "Min of s: 1\n"
     ]
    }
   ],
   "source": [
    "minimum=np.min(s)\n",
    "print(\"Min of s:\",minimum)"
   ]
  },
  {
   "cell_type": "code",
   "execution_count": 55,
   "id": "25e4fd78-9766-4fd6-93f0-2c14a0f5a4b4",
   "metadata": {},
   "outputs": [
    {
     "name": "stdout",
     "output_type": "stream",
     "text": [
      "Max of s: 4\n"
     ]
    }
   ],
   "source": [
    "maximum=np.max(s)\n",
    "print(\"Max of s:\",maximum)"
   ]
  },
  {
   "cell_type": "markdown",
   "id": "f1011622-25d5-4127-ab42-795065d63f92",
   "metadata": {},
   "source": [
    "# 5.Linear Algebra Functions"
   ]
  },
  {
   "cell_type": "code",
   "execution_count": 58,
   "id": "cdc2a9c9-5fb4-48c2-9ecd-c371f7753106",
   "metadata": {},
   "outputs": [
    {
     "data": {
      "text/plain": [
       "array([[1, 2],\n",
       "       [3, 4]])"
      ]
     },
     "execution_count": 58,
     "metadata": {},
     "output_type": "execute_result"
    }
   ],
   "source": [
    "# Create a matrix\n",
    "matrix=np.array([[1,2],[3,4]])\n",
    "matrix"
   ]
  },
  {
   "cell_type": "markdown",
   "id": "2cb5fa82-a975-41a1-8868-8a968d05d7e8",
   "metadata": {},
   "source": [
    "# 6 Random Sampling Functions"
   ]
  },
  {
   "cell_type": "code",
   "execution_count": 61,
   "id": "87c8db50-4636-4e64-91ce-fcd80e02641a",
   "metadata": {},
   "outputs": [
    {
     "name": "stdout",
     "output_type": "stream",
     "text": [
      "Random values: [0.016846   0.86327564 0.55766074]\n"
     ]
    }
   ],
   "source": [
    "# Generate random values between o and 1\n",
    "random_vals=np.random.rand(3)   #Array of 3 random values between 0 and 3\n",
    "print(\"Random values:\",random_vals)"
   ]
  },
  {
   "cell_type": "code",
   "execution_count": 62,
   "id": "aae0aa00-21bc-4ee9-8ce5-46366b7830e5",
   "metadata": {},
   "outputs": [
    {
     "data": {
      "text/plain": [
       "0.5442342903505619"
      ]
     },
     "execution_count": 62,
     "metadata": {},
     "output_type": "execute_result"
    }
   ],
   "source": [
    "np.random.rand()"
   ]
  },
  {
   "cell_type": "code",
   "execution_count": 65,
   "id": "23f596df-8f25-4f66-98b7-bfedd839c1b5",
   "metadata": {},
   "outputs": [],
   "source": [
    "np.random.seed(0)   #Set seed for reproductibility"
   ]
  },
  {
   "cell_type": "code",
   "execution_count": 66,
   "id": "35b74c24-b6d4-4a79-9096-9a6053cbe13b",
   "metadata": {},
   "outputs": [
    {
     "name": "stdout",
     "output_type": "stream",
     "text": [
      "Random values: [0.5488135  0.71518937 0.60276338]\n"
     ]
    }
   ],
   "source": [
    "#Generate random values between o and 1\n",
    "random_vals=np.random.rand(3)  #Array of 3 random values betwen o and 1\n",
    "print(\"Random values:\",random_vals)"
   ]
  },
  {
   "cell_type": "code",
   "execution_count": 69,
   "id": "899bf242-7d02-48a0-86e8-e646baa29a5f",
   "metadata": {},
   "outputs": [
    {
     "name": "stdout",
     "output_type": "stream",
     "text": [
      "Random integers: [8 1 6 7 7]\n"
     ]
    }
   ],
   "source": [
    "# Generate random integers \n",
    "rand_ints=np.random.randint(0,10,size=5)  #Random int between o and 10\n",
    "print(\"Random integers:\",rand_ints)"
   ]
  },
  {
   "cell_type": "code",
   "execution_count": 71,
   "id": "89f5aedc-be2e-47aa-8a52-f4bd891a903f",
   "metadata": {},
   "outputs": [],
   "source": [
    "np.random.seed(0) #Set seed for reproducibility"
   ]
  },
  {
   "cell_type": "code",
   "execution_count": 74,
   "id": "8fa57456-b04f-4172-80ab-74f0a1163bed",
   "metadata": {},
   "outputs": [
    {
     "name": "stdout",
     "output_type": "stream",
     "text": [
      "Random integers: [5 0 3 3 7]\n"
     ]
    }
   ],
   "source": [
    "# Genrerate random integers\n",
    "rand_ints=np.random.randint(0,10,size=5)  #random integers between 0 and 10\n",
    "print(\"Random integers:\",rand_ints)"
   ]
  },
  {
   "cell_type": "markdown",
   "id": "80c403e6-968d-4a2f-a10d-301836fc17cd",
   "metadata": {},
   "source": [
    "# 7.Boolean & Logical functions"
   ]
  },
  {
   "cell_type": "code",
   "execution_count": 91,
   "id": "320a9b08-b34a-406e-be7e-6ce9f844bac7",
   "metadata": {},
   "outputs": [
    {
     "name": "stdout",
     "output_type": "stream",
     "text": [
      "All elements True: False\n"
     ]
    }
   ],
   "source": [
    "# Checl if all elements are true\n",
    "# All\n",
    "logical_test=np.array([True,False,True])\n",
    "all_true=np.all(logical_test)  #check if all are true\n",
    "print(\"All elements True:\",all_true)"
   ]
  },
  {
   "cell_type": "code",
   "execution_count": 92,
   "id": "36e72921-83b8-4ea5-a751-58b9edc15e71",
   "metadata": {},
   "outputs": [
    {
     "name": "stdout",
     "output_type": "stream",
     "text": [
      "All elements True: False\n"
     ]
    }
   ],
   "source": [
    "# check if all elements are true\n",
    "logical_test=np.array([True,False,True])\n",
    "all_true=np.all(logical_test)  #check if all are true\n",
    "print(\"All elements True:\",all_true)"
   ]
  },
  {
   "cell_type": "code",
   "execution_count": 93,
   "id": "65d8a358-103c-41c0-862c-532144a90669",
   "metadata": {},
   "outputs": [
    {
     "name": "stdout",
     "output_type": "stream",
     "text": [
      "All elements True: False\n"
     ]
    }
   ],
   "source": [
    "# check if all elements are true\n",
    "logical_test=np.array([True,False,True])\n",
    "all_true=np.all(logical_test)  #check if all are true\n",
    "print(\"All elements True:\",all_true)"
   ]
  },
  {
   "cell_type": "code",
   "execution_count": 94,
   "id": "e6d51184-d031-485e-bbee-1ed0afaae8ee",
   "metadata": {},
   "outputs": [
    {
     "name": "stdout",
     "output_type": "stream",
     "text": [
      "Any elements True: True\n"
     ]
    }
   ],
   "source": [
    "# Check if any elements are True\n",
    "# any\n",
    "any_true = np.any(logical_test)  # Check if any are True\n",
    "print(\"Any elements True:\", any_true)"
   ]
  },
  {
   "cell_type": "markdown",
   "id": "d355edf5-8b22-4f2f-9b3e-d854d4b2bc96",
   "metadata": {},
   "source": [
    "# 8.Set Operations "
   ]
  },
  {
   "cell_type": "code",
   "execution_count": 95,
   "id": "e221a7cf-6758-4d10-89a2-6e515a4b4083",
   "metadata": {},
   "outputs": [],
   "source": [
    "# Intersection of two arrays"
   ]
  },
  {
   "cell_type": "code",
   "execution_count": 96,
   "id": "d671e982-5b05-43b7-aa0c-c324922d3e1c",
   "metadata": {},
   "outputs": [
    {
     "ename": "AttributeError",
     "evalue": "module 'numpy' has no attribute 'interse1D'",
     "output_type": "error",
     "traceback": [
      "\u001b[31m---------------------------------------------------------------------------\u001b[39m",
      "\u001b[31mAttributeError\u001b[39m                            Traceback (most recent call last)",
      "\u001b[36mCell\u001b[39m\u001b[36m \u001b[39m\u001b[32mIn[96]\u001b[39m\u001b[32m, line 3\u001b[39m\n\u001b[32m      1\u001b[39m set_a=np.array([\u001b[32m1\u001b[39m,\u001b[32m2\u001b[39m,\u001b[32m3\u001b[39m,\u001b[32m4\u001b[39m])\n\u001b[32m      2\u001b[39m set_b=np.array([\u001b[32m3\u001b[39m,\u001b[32m4\u001b[39m,\u001b[32m5\u001b[39m,\u001b[32m6\u001b[39m])\n\u001b[32m----> \u001b[39m\u001b[32m3\u001b[39m \u001b[38;5;28mint\u001b[39m=\u001b[43mnp\u001b[49m\u001b[43m.\u001b[49m\u001b[43minterse1D\u001b[49m(set_a,set_b)\n\u001b[32m      4\u001b[39m \u001b[38;5;28mprint\u001b[39m(\u001b[33m\"\u001b[39m\u001b[33mIntersection of a and b:\u001b[39m\u001b[33m\"\u001b[39m,\u001b[38;5;28mint\u001b[39m)\n",
      "\u001b[36mFile \u001b[39m\u001b[32m~\\miniconda3\\Lib\\site-packages\\numpy\\__init__.py:808\u001b[39m, in \u001b[36m__getattr__\u001b[39m\u001b[34m(attr)\u001b[39m\n\u001b[32m    805\u001b[39m     \u001b[38;5;28;01mimport\u001b[39;00m\u001b[38;5;250m \u001b[39m\u001b[34;01mnumpy\u001b[39;00m\u001b[34;01m.\u001b[39;00m\u001b[34;01mchar\u001b[39;00m\u001b[38;5;250m \u001b[39m\u001b[38;5;28;01mas\u001b[39;00m\u001b[38;5;250m \u001b[39m\u001b[34;01mchar\u001b[39;00m\n\u001b[32m    806\u001b[39m     \u001b[38;5;28;01mreturn\u001b[39;00m char.chararray\n\u001b[32m--> \u001b[39m\u001b[32m808\u001b[39m \u001b[38;5;28;01mraise\u001b[39;00m \u001b[38;5;167;01mAttributeError\u001b[39;00m(\u001b[33mf\u001b[39m\u001b[33m\"\u001b[39m\u001b[33mmodule \u001b[39m\u001b[38;5;132;01m{\u001b[39;00m\u001b[34m__name__\u001b[39m\u001b[38;5;132;01m!r}\u001b[39;00m\u001b[33m has no attribute \u001b[39m\u001b[38;5;132;01m{\u001b[39;00mattr\u001b[38;5;132;01m!r}\u001b[39;00m\u001b[33m\"\u001b[39m)\n",
      "\u001b[31mAttributeError\u001b[39m: module 'numpy' has no attribute 'interse1D'"
     ]
    }
   ],
   "source": [
    "set_a=np.array([1,2,3,4])\n",
    "set_b=np.array([3,4,5,6])\n",
    "int=np.interse1D(set_a,set_b)\n",
    "print(\"Intersection of a and b:\",int)"
   ]
  },
  {
   "cell_type": "code",
   "execution_count": 97,
   "id": "d1e94997-5b13-47f0-8ed4-6a798eec9898",
   "metadata": {},
   "outputs": [
    {
     "name": "stdout",
     "output_type": "stream",
     "text": [
      "Intersection of a and b: [3 4]\n"
     ]
    }
   ],
   "source": [
    "import numpy as np\n",
    "\n",
    "# Intersection of two arrays\n",
    "set_a = np.array([1, 2, 3, 4])\n",
    "set_b = np.array([3, 4, 5, 6])\n",
    "intersection = np.intersect1d(set_a, set_b)\n",
    "\n",
    "print(\"Intersection of a and b:\", intersection)\n"
   ]
  },
  {
   "cell_type": "code",
   "execution_count": 90,
   "id": "e4901ab2-344c-4691-8aef-24a8ea209026",
   "metadata": {},
   "outputs": [
    {
     "name": "stdout",
     "output_type": "stream",
     "text": [
      "Union of a and b: [1 2 3 4 5 6]\n"
     ]
    }
   ],
   "source": [
    "# Union of two arrays\n",
    "union = np.union1d(set_a, set_b)\n",
    "print(\"Union of a and b:\", union)"
   ]
  },
  {
   "cell_type": "markdown",
   "id": "f644d8e7-dac2-451e-9c5b-38cf17797f5d",
   "metadata": {},
   "source": [
    "# 9.Array Attribute Function"
   ]
  },
  {
   "cell_type": "code",
   "execution_count": 101,
   "id": "cd6747a8-7f3b-4de5-a32b-6d08aaa221cf",
   "metadata": {},
   "outputs": [
    {
     "name": "stdout",
     "output_type": "stream",
     "text": [
      "Shape of a: (3,)\n",
      "Size of a: 3\n",
      "Dimension of number of a: 1\n",
      "Data type of a: int64\n"
     ]
    }
   ],
   "source": [
    "# Array attributes\n",
    "a=np.array([1,2,3])\n",
    "shape=a.shape  #shape of the array\n",
    "size=a.size  #size of the array\n",
    "dimension=a.ndim  #NUmber of dimensions\n",
    "dtype=a.dtype  #Data type of the array\n",
    "print(\"Shape of a:\",shape)\n",
    "print(\"Size of a:\",size)\n",
    "print(\"Dimension of number of a:\",dimension)\n",
    "print(\"Data type of a:\",dtype)"
   ]
  },
  {
   "cell_type": "markdown",
   "id": "91ab97b9-c8c8-4aa5-8c85-5c2fdd9c6ac1",
   "metadata": {},
   "source": [
    "# 10.Other Functions"
   ]
  },
  {
   "cell_type": "code",
   "execution_count": 102,
   "id": "79d00b97-9ce0-4366-b237-b85d91ed8e40",
   "metadata": {},
   "outputs": [
    {
     "name": "stdout",
     "output_type": "stream",
     "text": [
      "Copied array: [1 2 3]\n"
     ]
    }
   ],
   "source": [
    "# Create a copy of an array\n",
    "a = np.array([1, 2, 3])\n",
    "copied_array = np.copy(a)  # Create a copy of array a\n",
    "print(\"Copied array:\", copied_array)"
   ]
  },
  {
   "cell_type": "code",
   "execution_count": 104,
   "id": "7997cd15-7e10-45f8-814b-185dba789625",
   "metadata": {},
   "outputs": [
    {
     "name": "stdout",
     "output_type": "stream",
     "text": [
      "Size of a in bytes: 24\n"
     ]
    }
   ],
   "source": [
    "# Size in bytes of an array\n",
    "array_size_in_bytes = a.nbytes  # Size in bytes\n",
    "print(\"Size of a in bytes:\", array_size_in_bytes)"
   ]
  },
  {
   "cell_type": "code",
   "execution_count": 105,
   "id": "c6fbfb0b-981f-495f-92ad-b8de0d600912",
   "metadata": {},
   "outputs": [
    {
     "name": "stdout",
     "output_type": "stream",
     "text": [
      "Do a and copied_array share memory? False\n"
     ]
    }
   ],
   "source": [
    "# Check if two arrays share memory\n",
    "shared = np.shares_memory(a, copied_array)  # Check if arrays share memory\n",
    "print(\"Do a and copied_array share memory?\", shared)"
   ]
  },
  {
   "cell_type": "code",
   "execution_count": null,
   "id": "e868df81-2689-40b3-b208-ca0a67de24d5",
   "metadata": {},
   "outputs": [],
   "source": []
  }
 ],
 "metadata": {
  "kernelspec": {
   "display_name": "Python 3 (ipykernel)",
   "language": "python",
   "name": "python3"
  },
  "language_info": {
   "codemirror_mode": {
    "name": "ipython",
    "version": 3
   },
   "file_extension": ".py",
   "mimetype": "text/x-python",
   "name": "python",
   "nbconvert_exporter": "python",
   "pygments_lexer": "ipython3",
   "version": "3.12.8"
  },
  "widgets": {
   "application/vnd.jupyter.widget-state+json": {
    "state": {},
    "version_major": 2,
    "version_minor": 0
   }
  }
 },
 "nbformat": 4,
 "nbformat_minor": 5
}
