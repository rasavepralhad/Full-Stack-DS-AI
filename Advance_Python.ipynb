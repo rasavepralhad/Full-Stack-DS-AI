{
 "cells": [
  {
   "cell_type": "code",
   "execution_count": 1,
   "id": "30caaad7",
   "metadata": {},
   "outputs": [
    {
     "name": "stdout",
     "output_type": "stream",
     "text": [
      "Data Science\n"
     ]
    }
   ],
   "source": [
    "if True:\n",
    "    print('Data Science')"
   ]
  },
  {
   "cell_type": "code",
   "execution_count": 2,
   "id": "705112f2",
   "metadata": {},
   "outputs": [],
   "source": [
    "if False:\n",
    "    print('Dataa Science')"
   ]
  },
  {
   "cell_type": "code",
   "execution_count": 3,
   "id": "b9a7955b",
   "metadata": {},
   "outputs": [
    {
     "name": "stdout",
     "output_type": "stream",
     "text": [
      "Data Science\n",
      "fgfd\n"
     ]
    }
   ],
   "source": [
    "if True:\n",
    "    print('Data Science')\n",
    "print('fgfd')"
   ]
  },
  {
   "cell_type": "code",
   "execution_count": 4,
   "id": "82844ba4",
   "metadata": {},
   "outputs": [
    {
     "name": "stdout",
     "output_type": "stream",
     "text": [
      "Data Science\n",
      "bye for now\n"
     ]
    }
   ],
   "source": [
    "if True: # indentiation is always 4 spaces\n",
    "    print('Data Science')\n",
    "print('bye for now')"
   ]
  },
  {
   "cell_type": "code",
   "execution_count": 5,
   "id": "8fda1f61",
   "metadata": {},
   "outputs": [
    {
     "name": "stdout",
     "output_type": "stream",
     "text": [
      "bye for now\n"
     ]
    }
   ],
   "source": [
    "if False:\n",
    "    print('Data Science')\n",
    "print('bye for now')"
   ]
  },
  {
   "cell_type": "code",
   "execution_count": 6,
   "id": "695ef822",
   "metadata": {},
   "outputs": [],
   "source": [
    "# Lets do noe program as if divide by 2 then reminder is 0 then it is even number if reminder is not 0 then it is odd number"
   ]
  },
  {
   "cell_type": "code",
   "execution_count": 7,
   "id": "daade3f7",
   "metadata": {},
   "outputs": [
    {
     "name": "stdout",
     "output_type": "stream",
     "text": [
      "Even Number\n"
     ]
    }
   ],
   "source": [
    "# to print only even number\n",
    "x=4\n",
    "r=x%2\n",
    "if r==0:\n",
    "    print('Even Number')"
   ]
  },
  {
   "cell_type": "code",
   "execution_count": 8,
   "id": "80c25c60",
   "metadata": {},
   "outputs": [],
   "source": [
    "# to print only even number\n",
    "x=5\n",
    "r=x%2\n",
    "if r==0:\n",
    "    print('Even Number')"
   ]
  },
  {
   "cell_type": "code",
   "execution_count": 9,
   "id": "dc6b90c3",
   "metadata": {},
   "outputs": [],
   "source": [
    "# to print only even number\n",
    "x=5\n",
    "r=x%2\n",
    "if r==0:\n",
    "    print('Even Number')\n",
    "    print('odd number')"
   ]
  },
  {
   "cell_type": "code",
   "execution_count": 10,
   "id": "a98ba3e0",
   "metadata": {},
   "outputs": [
    {
     "name": "stdout",
     "output_type": "stream",
     "text": [
      "Even Number\n",
      "odd number\n"
     ]
    }
   ],
   "source": [
    "# to print only even number\n",
    "x=6\n",
    "r=x%2\n",
    "if r==0:\n",
    "    print('Even Number')\n",
    "print('odd number')"
   ]
  },
  {
   "cell_type": "code",
   "execution_count": 11,
   "id": "c8ecc3b2",
   "metadata": {},
   "outputs": [
    {
     "name": "stdout",
     "output_type": "stream",
     "text": [
      "even number\n"
     ]
    }
   ],
   "source": [
    "x=10\n",
    "r=x%2\n",
    "if r==0:\n",
    "    print('even number')\n",
    "if r==1:\n",
    "    print('odd number')"
   ]
  },
  {
   "cell_type": "code",
   "execution_count": 12,
   "id": "851cfea1",
   "metadata": {},
   "outputs": [
    {
     "name": "stdout",
     "output_type": "stream",
     "text": [
      "odd number\n"
     ]
    }
   ],
   "source": [
    "x=11\n",
    "r=x%2\n",
    "if r==0:\n",
    "    print('even number')\n",
    "if r==1:\n",
    "    print('odd number')"
   ]
  },
  {
   "cell_type": "code",
   "execution_count": 13,
   "id": "6487e29c",
   "metadata": {},
   "outputs": [
    {
     "name": "stdout",
     "output_type": "stream",
     "text": [
      "odd number\n"
     ]
    }
   ],
   "source": [
    "x=23\n",
    "r=x%2\n",
    "if r==0:\n",
    "    print('even number')\n",
    "if r==1:\n",
    "    print('odd number')"
   ]
  },
  {
   "cell_type": "code",
   "execution_count": 14,
   "id": "a7cb84ff-bfd6-4985-b5a8-b7565e5ba37c",
   "metadata": {},
   "outputs": [
    {
     "name": "stdout",
     "output_type": "stream",
     "text": [
      "odd number\n"
     ]
    }
   ],
   "source": [
    "x=17\n",
    "r=x%2\n",
    "if r==0:\n",
    "    print('even number')\n",
    "if r==1:\n",
    "    print('odd number')"
   ]
  },
  {
   "cell_type": "code",
   "execution_count": 15,
   "id": "db04fa17-a62d-4dab-befc-d4de7d7be1e2",
   "metadata": {},
   "outputs": [],
   "source": [
    "# if we observe the code its too many line cuz many of the coder always they wanted to reduce the code lenght which is very good practise. instead of 2 if we can use if-- else "
   ]
  },
  {
   "cell_type": "code",
   "execution_count": 16,
   "id": "beb23052-a845-4efd-9257-3766eb9a6e9e",
   "metadata": {},
   "outputs": [
    {
     "name": "stdout",
     "output_type": "stream",
     "text": [
      "odd number\n"
     ]
    }
   ],
   "source": [
    "x=5\n",
    "r=x%2\n",
    "if r==0:\n",
    "    print('even number')\n",
    "else:\n",
    "    print('odd number')"
   ]
  },
  {
   "cell_type": "code",
   "execution_count": 17,
   "id": "8105c9b8-1127-4e52-a00e-633ce7757a69",
   "metadata": {},
   "outputs": [
    {
     "name": "stdout",
     "output_type": "stream",
     "text": [
      "even number\n"
     ]
    }
   ],
   "source": [
    "x=4\n",
    "r=x%2\n",
    "if r==0:\n",
    "    print('even number')\n",
    "else:\n",
    "    print('odd number')"
   ]
  },
  {
   "cell_type": "code",
   "execution_count": 18,
   "id": "25fe66e3-3dde-4c43-af5b-551a162a387e",
   "metadata": {},
   "outputs": [],
   "source": [
    "# NESTED IF (if we have 2 condition so we need to implement with nested if)"
   ]
  },
  {
   "cell_type": "code",
   "execution_count": 19,
   "id": "b255347d-6ca5-47ea-84f3-bf53f45b8a96",
   "metadata": {},
   "outputs": [
    {
     "name": "stdout",
     "output_type": "stream",
     "text": [
      "odd number\n"
     ]
    }
   ],
   "source": [
    "x=3\n",
    "r=x%2\n",
    "if r==0:\n",
    "    print('even number')\n",
    "    if x>5:\n",
    "        print('greater number')\n",
    "else:\n",
    "    print('odd number')"
   ]
  },
  {
   "cell_type": "code",
   "execution_count": 20,
   "id": "cbbca2dc-4e29-4823-a197-c02a8924e43e",
   "metadata": {},
   "outputs": [
    {
     "name": "stdout",
     "output_type": "stream",
     "text": [
      "even number\n"
     ]
    }
   ],
   "source": [
    "x=4\n",
    "r=x%2\n",
    "if r==0:\n",
    "    print('even number')\n",
    "    if x>5:\n",
    "        print('greater number')\n",
    "else:\n",
    "    print('odd number')"
   ]
  },
  {
   "cell_type": "code",
   "execution_count": 21,
   "id": "1f985632-01cc-4ef5-8dcd-23c494a10efe",
   "metadata": {},
   "outputs": [
    {
     "name": "stdout",
     "output_type": "stream",
     "text": [
      "even number\n",
      "not greater\n"
     ]
    }
   ],
   "source": [
    "x=4\n",
    "r=x%2\n",
    "if r==0:\n",
    "    print('even number')\n",
    "    if x>5:\n",
    "        print('greater number')\n",
    "    else:\n",
    "        print('not greater')\n",
    "else:\n",
    "    print('odd number')"
   ]
  },
  {
   "cell_type": "code",
   "execution_count": 22,
   "id": "73651255-277b-42e1-9ff0-9c07eef2119d",
   "metadata": {},
   "outputs": [
    {
     "name": "stdout",
     "output_type": "stream",
     "text": [
      "even number\n",
      "greater number\n"
     ]
    }
   ],
   "source": [
    "x=6\n",
    "r=x%2\n",
    "if r==0:\n",
    "    print('even number')\n",
    "    if x>5:\n",
    "        print('greater number')\n",
    "else:\n",
    "    print('odd number')"
   ]
  },
  {
   "cell_type": "code",
   "execution_count": 23,
   "id": "79d7f9d9-f12e-44ee-a131-e085bda88c87",
   "metadata": {},
   "outputs": [],
   "source": [
    "# we do have concept of (IF_ELIF_ELSE) e.g I want to print(1-one,2-two,3-three,4-four,5-five)"
   ]
  },
  {
   "cell_type": "code",
   "execution_count": 24,
   "id": "1fc25d31-4d52-4605-a378-2c5cb3cfc1ec",
   "metadata": {},
   "outputs": [
    {
     "name": "stdout",
     "output_type": "stream",
     "text": [
      "Two\n"
     ]
    }
   ],
   "source": [
    "# when you use if it all condition but if we mention elif then it want check all condition\n",
    "# when we use if condition it will check all every black of code better debug in pycharm\n",
    "#  you can debug with value 1 & d for both if & elif\n",
    "x = 2\n",
    "\n",
    "if x == 1:\n",
    "    print('one')\n",
    "if x == 2:\n",
    "    print('Two')\n",
    "if x == 3:\n",
    "    print('Three')\n",
    "if x == 4:\n",
    "    print('four')"
   ]
  },
  {
   "cell_type": "code",
   "execution_count": 25,
   "id": "e6c135ad-7f16-48a6-8bba-306256eec3ca",
   "metadata": {},
   "outputs": [
    {
     "name": "stdout",
     "output_type": "stream",
     "text": [
      "four\n"
     ]
    }
   ],
   "source": [
    "# elif it want check till the block once you find the output it want go to next time\n",
    "# you can try with multiple parameter 1,2 & 3 VALUE X\n",
    "x=4\n",
    "if x==1:\n",
    "    print('one')\n",
    "elif x==2:\n",
    "    print('two')\n",
    "elif x==3:\n",
    "    print('three')\n",
    "elif x==4:\n",
    "    print('four')"
   ]
  },
  {
   "cell_type": "code",
   "execution_count": 26,
   "id": "14be01a7-dbd1-4dff-a3ed-e9e8981fb298",
   "metadata": {},
   "outputs": [],
   "source": [
    "x=7\n",
    "if x==1:\n",
    "    print('one')\n",
    "elif x==2:\n",
    "    print('two')\n",
    "elif x==3:\n",
    "    print('three')\n",
    "elif x==4:\n",
    "    print('four')"
   ]
  },
  {
   "cell_type": "code",
   "execution_count": 27,
   "id": "b5ea5efc-86bb-49e9-aafb-793b8bd68143",
   "metadata": {},
   "outputs": [
    {
     "name": "stdout",
     "output_type": "stream",
     "text": [
      "wrong output\n"
     ]
    }
   ],
   "source": [
    "x=7\n",
    "if x==1:\n",
    "    print('one')\n",
    "elif x==2:\n",
    "    print('two')\n",
    "elif x==3:\n",
    "    print('three')\n",
    "elif x==4:\n",
    "    print('four')\n",
    "else:\n",
    "    print('wrong output')"
   ]
  },
  {
   "cell_type": "code",
   "execution_count": 28,
   "id": "29d00f6c-d30d-47a4-8eb9-e6047f25bb1b",
   "metadata": {},
   "outputs": [
    {
     "name": "stdout",
     "output_type": "stream",
     "text": [
      "wrong output\n"
     ]
    }
   ],
   "source": [
    "x=11\n",
    "if x==1:\n",
    "    print('one')\n",
    "elif x==2:\n",
    "    print('two')\n",
    "elif x==3:\n",
    "    print('three')\n",
    "elif x==4:\n",
    "    print('four')\n",
    "else:\n",
    "    print('wrong output')"
   ]
  },
  {
   "cell_type": "code",
   "execution_count": 29,
   "id": "f546fc63-568e-4e3a-a870-6da062149dea",
   "metadata": {},
   "outputs": [],
   "source": [
    "# SHORT HAND IF\n",
    "a=30\n",
    "b=20\n",
    "if a<b:\n",
    "    print(\"b is greater than a\")"
   ]
  },
  {
   "cell_type": "code",
   "execution_count": 30,
   "id": "55871f6d-cf8a-435a-9614-f55b942b7c5a",
   "metadata": {},
   "outputs": [
    {
     "data": {
      "text/plain": [
       "'\\nLOOPS -- in programing world some time we keep on repeating , may be you want to repeat 5 statement so one way is copy & paste multiple times or other way is \\n\\nif you want to print the datascience 1000 times then what you will you cant copy for 1000 times , if you want to print 1000 times then you cant do manualy . that is the reason why we need to apply loop ->\\n2 type of loops --  While loop & For loop\\n'"
      ]
     },
     "execution_count": 30,
     "metadata": {},
     "output_type": "execute_result"
    }
   ],
   "source": [
    "'''\n",
    "LOOPS -- in programing world some time we keep on repeating , may be you want to repeat 5 statement so one way is copy & paste multiple times or other way is \n",
    "\n",
    "if you want to print the datascience 1000 times then what you will you cant copy for 1000 times , if you want to print 1000 times then you cant do manualy . that is the reason why we need to apply loop ->\n",
    "2 type of loops --  While loop & For loop\n",
    "'''"
   ]
  },
  {
   "cell_type": "code",
   "execution_count": 31,
   "id": "719a0b4d-a540-4bd8-a774-ecf59969f0b9",
   "metadata": {},
   "outputs": [
    {
     "name": "stdout",
     "output_type": "stream",
     "text": [
      "data science\n",
      "data science\n",
      "data science\n",
      "data science\n",
      "data science\n"
     ]
    }
   ],
   "source": [
    "print('data science')\n",
    "print('data science')\n",
    "print('data science')\n",
    "print('data science')\n",
    "print('data science')"
   ]
  },
  {
   "cell_type": "code",
   "execution_count": 32,
   "id": "317a1ee8-14cc-4ad2-91ff-cbb9ad2ad0f4",
   "metadata": {},
   "outputs": [
    {
     "name": "stdout",
     "output_type": "stream",
     "text": [
      "hello pralhad\n",
      "hello pralhad\n",
      "hello pralhad\n",
      "hello pralhad\n",
      "hello pralhad\n"
     ]
    }
   ],
   "source": [
    "i = 1        # initializing\n",
    "while i<=5:  # condition\n",
    "    print('hello pralhad')\n",
    "    i=i+1   #increment"
   ]
  },
  {
   "cell_type": "code",
   "execution_count": 33,
   "id": "eddbb6d2-daf6-4fbd-ba58-f488b1e078a8",
   "metadata": {},
   "outputs": [
    {
     "name": "stdout",
     "output_type": "stream",
     "text": [
      "data science\n",
      "data science\n",
      "data science\n",
      "data science\n",
      "data science\n"
     ]
    }
   ],
   "source": [
    "i = 5\n",
    "while i>=1:\n",
    "    print('data science')\n",
    "    i=i-1  #increment"
   ]
  },
  {
   "cell_type": "code",
   "execution_count": 34,
   "id": "35dc190e-5de9-4a66-8086-5b4f57eb0c01",
   "metadata": {},
   "outputs": [
    {
     "name": "stdout",
     "output_type": "stream",
     "text": [
      "data science 1\n",
      "data science 2\n",
      "data science 3\n",
      "data science 4\n",
      "data science 5\n"
     ]
    }
   ],
   "source": [
    "i=1\n",
    "while i<=5:\n",
    "    print('data science',i)\n",
    "    i=i+1"
   ]
  },
  {
   "cell_type": "code",
   "execution_count": 35,
   "id": "c6c24dba-b0ad-4647-8c48-602271c62cdc",
   "metadata": {},
   "outputs": [
    {
     "name": "stdout",
     "output_type": "stream",
     "text": [
      "data science 5\n",
      "data science 4\n",
      "data science 3\n",
      "data science 2\n",
      "data science 1\n"
     ]
    }
   ],
   "source": [
    "i=5\n",
    "while i>=1:\n",
    "    print('data science',i)\n",
    "    i=i-1"
   ]
  },
  {
   "cell_type": "code",
   "execution_count": 36,
   "id": "e04eab2e-2bbc-4a03-870d-fdf09951aea9",
   "metadata": {},
   "outputs": [
    {
     "data": {
      "text/plain": [
       "'\\ncan we use multiple while loop || nested while loop \\nto understand nested while indepth understand you can use pycharm debug with f8 option\\n'"
      ]
     },
     "execution_count": 36,
     "metadata": {},
     "output_type": "execute_result"
    }
   ],
   "source": [
    "'''\n",
    "can we use multiple while loop || nested while loop \n",
    "to understand nested while indepth understand you can use pycharm debug with f8 option\n",
    "'''"
   ]
  },
  {
   "cell_type": "code",
   "execution_count": 37,
   "id": "562b2e24-c4be-484f-9f06-b1530ed57431",
   "metadata": {},
   "outputs": [
    {
     "name": "stdout",
     "output_type": "stream",
     "text": [
      "data science\n",
      "technology\n",
      "technology\n",
      "technology\n",
      "technology\n",
      "\n",
      "data science\n",
      "technology\n",
      "technology\n",
      "technology\n",
      "technology\n",
      "\n",
      "data science\n",
      "technology\n",
      "technology\n",
      "technology\n",
      "technology\n",
      "\n",
      "data science\n",
      "technology\n",
      "technology\n",
      "technology\n",
      "technology\n",
      "\n",
      "data science\n",
      "technology\n",
      "technology\n",
      "technology\n",
      "technology\n",
      "\n"
     ]
    }
   ],
   "source": [
    "i=1\n",
    "while i<=5:\n",
    "    print('data science')  # when we mention end then new line will not create\n",
    "    j=1\n",
    "    while j<=4:\n",
    "        print('technology')\n",
    "        j=j+1\n",
    "    i=i+1\n",
    "    print()"
   ]
  },
  {
   "cell_type": "code",
   "execution_count": 38,
   "id": "1444f0b2-c124-48ea-899d-f71d0ed40f61",
   "metadata": {},
   "outputs": [
    {
     "name": "stdout",
     "output_type": "stream",
     "text": [
      "data sciencetechnologytechnologytechnologytechnology\n",
      "data sciencetechnologytechnologytechnologytechnology\n",
      "data sciencetechnologytechnologytechnologytechnology\n",
      "data sciencetechnologytechnologytechnologytechnology\n",
      "data sciencetechnologytechnologytechnologytechnology\n"
     ]
    }
   ],
   "source": [
    "i = 1\n",
    "while i<=5:\n",
    "    print('data science', end =\"\")  # when we mention end then new line will not create\n",
    "    j=1\n",
    "    while j<=4:\n",
    "        print('technology', end =\"\")\n",
    "        j = j+1\n",
    "    i = i+1\n",
    "    print()"
   ]
  },
  {
   "cell_type": "code",
   "execution_count": 39,
   "id": "0b506e1c-64c2-4680-8051-7b5bf295a146",
   "metadata": {},
   "outputs": [
    {
     "name": "stdout",
     "output_type": "stream",
     "text": [
      "012\n",
      "024\n"
     ]
    }
   ],
   "source": [
    "# Lets use while loop using some numbers\n",
    "i = 1\n",
    "while i <= 2:\n",
    "    j = 0\n",
    "    while j <= 2:\n",
    "        print(i*j, end = \"\")\n",
    "        j += 1\n",
    "    print()\n",
    "    i += 1"
   ]
  },
  {
   "cell_type": "code",
   "execution_count": 40,
   "id": "4172db6b-fbaa-42b4-8c47-95a97ea4d5ba",
   "metadata": {},
   "outputs": [
    {
     "name": "stdout",
     "output_type": "stream",
     "text": [
      "0123\n",
      "0246\n",
      "0369\n",
      "04812\n"
     ]
    }
   ],
   "source": [
    "# Lets use while loop using some numbers\n",
    "i = 1\n",
    "while i <= 4:\n",
    "    j = 0\n",
    "    while j <= 3:\n",
    "        print(i*j, end = \"\")\n",
    "        j += 1\n",
    "    print()\n",
    "    i += 1"
   ]
  },
  {
   "cell_type": "code",
   "execution_count": 41,
   "id": "17d79afa-704e-427d-920a-9642cc4ee474",
   "metadata": {},
   "outputs": [],
   "source": [
    "# FOR LOOP - normally while loop it work with iteration or certaion same condition but for loop it will work with sequnce (list,string,int)"
   ]
  },
  {
   "cell_type": "code",
   "execution_count": 42,
   "id": "68b79675-ba5e-43da-9269-33dcd2b8aca4",
   "metadata": {},
   "outputs": [],
   "source": [
    "name = 'nit'"
   ]
  },
  {
   "cell_type": "code",
   "execution_count": 43,
   "id": "d50219be-f59a-4b9e-9e3d-7a21e13924e2",
   "metadata": {},
   "outputs": [
    {
     "name": "stdout",
     "output_type": "stream",
     "text": [
      "n\n",
      "i\n",
      "t\n"
     ]
    }
   ],
   "source": [
    "for i in name:\n",
    "    print(i)"
   ]
  },
  {
   "cell_type": "code",
   "execution_count": 44,
   "id": "0df145e4-8dc8-4849-8c6a-d2a727eb4e9a",
   "metadata": {},
   "outputs": [
    {
     "name": "stdout",
     "output_type": "stream",
     "text": [
      "1\n",
      "2\n",
      "3.4\n",
      "hello\n"
     ]
    }
   ],
   "source": [
    "name1=[1,2,3.4,'hello']\n",
    "for i in name1:\n",
    "    print(i)"
   ]
  },
  {
   "cell_type": "code",
   "execution_count": 45,
   "id": "c3f2236b-e0a3-409b-ba3e-51875ab87f4c",
   "metadata": {},
   "outputs": [
    {
     "name": "stdout",
     "output_type": "stream",
     "text": [
      "2\n",
      "3\n",
      "6.5\n",
      "hi\n"
     ]
    }
   ],
   "source": [
    "for i in [2,3,6.5,'hi']:\n",
    "    print(i)"
   ]
  },
  {
   "cell_type": "code",
   "execution_count": 46,
   "id": "b5d48c16-c053-4e96-bc36-1fb1cade649d",
   "metadata": {},
   "outputs": [
    {
     "data": {
      "text/plain": [
       "range(0, 5)"
      ]
     },
     "execution_count": 46,
     "metadata": {},
     "output_type": "execute_result"
    }
   ],
   "source": [
    "range(5)"
   ]
  },
  {
   "cell_type": "code",
   "execution_count": 47,
   "id": "36dc63d3-1346-4f43-8d5b-74eb5eedad8e",
   "metadata": {},
   "outputs": [
    {
     "name": "stdout",
     "output_type": "stream",
     "text": [
      "0\n",
      "1\n",
      "2\n",
      "3\n",
      "4\n"
     ]
    }
   ],
   "source": [
    "for i in range(5):\n",
    "    print(i)"
   ]
  },
  {
   "cell_type": "code",
   "execution_count": 48,
   "id": "7156db7f-341c-40af-b4b5-7fdc67e4f364",
   "metadata": {},
   "outputs": [
    {
     "name": "stdout",
     "output_type": "stream",
     "text": [
      "2\n",
      "3\n",
      "4\n"
     ]
    }
   ],
   "source": [
    "for i in range(2,5):\n",
    "    print(i)"
   ]
  },
  {
   "cell_type": "code",
   "execution_count": 49,
   "id": "3e7d0b9c-dcfe-4468-b548-5c05678f8b97",
   "metadata": {},
   "outputs": [
    {
     "name": "stdout",
     "output_type": "stream",
     "text": [
      "1\n",
      "6\n",
      "11\n",
      "16\n",
      "21\n",
      "26\n",
      "31\n",
      "36\n",
      "41\n",
      "46\n"
     ]
    }
   ],
   "source": [
    "for i in range(1,50,5):\n",
    "    print(i)"
   ]
  },
  {
   "cell_type": "code",
   "execution_count": 50,
   "id": "a7adc78b-2123-4079-ba5f-b14a4b1e457e",
   "metadata": {},
   "outputs": [
    {
     "name": "stdout",
     "output_type": "stream",
     "text": [
      "1\n",
      "4\n",
      "7\n"
     ]
    }
   ],
   "source": [
    "for i in range(1,10,3):\n",
    "    print(i)"
   ]
  },
  {
   "cell_type": "code",
   "execution_count": 51,
   "id": "2bf07aed-8631-412f-9da8-8303a68a7f50",
   "metadata": {},
   "outputs": [
    {
     "name": "stdout",
     "output_type": "stream",
     "text": [
      "1\n",
      "2\n",
      "3\n",
      "4\n",
      "5\n",
      "6\n",
      "7\n",
      "8\n",
      "9\n",
      "10\n",
      "11\n",
      "12\n",
      "13\n",
      "14\n",
      "15\n",
      "16\n",
      "17\n",
      "18\n",
      "19\n",
      "20\n"
     ]
    }
   ],
   "source": [
    "# print the value which is divisible by 5\n",
    "for i in range(1,21):\n",
    "    print(i)"
   ]
  },
  {
   "cell_type": "code",
   "execution_count": 52,
   "id": "9d5572d9-e6df-4547-9782-49ef0d638fb0",
   "metadata": {},
   "outputs": [
    {
     "name": "stdout",
     "output_type": "stream",
     "text": [
      "5\n",
      "10\n",
      "15\n",
      "20\n",
      "25\n",
      "30\n",
      "35\n",
      "40\n",
      "45\n",
      "50\n"
     ]
    }
   ],
   "source": [
    "for i in range(1,51):\n",
    "    if i%5==0:\n",
    "        print(i)"
   ]
  },
  {
   "cell_type": "code",
   "execution_count": 53,
   "id": "5b262fd0-ec17-47fa-8fd9-443f9ce1adeb",
   "metadata": {},
   "outputs": [
    {
     "name": "stdout",
     "output_type": "stream",
     "text": [
      "1\n",
      "2\n",
      "3\n",
      "4\n",
      "6\n",
      "7\n",
      "8\n",
      "9\n",
      "11\n",
      "12\n",
      "13\n",
      "14\n",
      "16\n",
      "17\n",
      "18\n",
      "19\n",
      "21\n",
      "22\n",
      "23\n",
      "24\n",
      "26\n",
      "27\n",
      "28\n",
      "29\n",
      "31\n",
      "32\n",
      "33\n",
      "34\n",
      "36\n",
      "37\n",
      "38\n",
      "39\n",
      "41\n",
      "42\n",
      "43\n",
      "44\n",
      "46\n",
      "47\n",
      "48\n",
      "49\n"
     ]
    }
   ],
   "source": [
    "# print the value which is divisible by 5 i dont want that value\n",
    "for i in range(1,51):\n",
    "    if i%5!=0:\n",
    "        print(i)"
   ]
  },
  {
   "cell_type": "code",
   "execution_count": 54,
   "id": "6d7af87c-ec83-437a-8b46-3d7fe53e096d",
   "metadata": {},
   "outputs": [],
   "source": [
    "# LETS DISCUSS ABOUT 3 KEYWORDS -- BREAK || CONTINUE || PASS\n",
    "#BREAK STATEMNT - if you apply break statment in a loop then it will end the loop\n",
    "# Pass = skips block of code( function, class etc)\n",
    "# Continue= skips 1 step/iteration during loop \n",
    "# Break= jumps out of the function/loo"
   ]
  },
  {
   "cell_type": "code",
   "execution_count": 58,
   "id": "7bd4a202-4d4c-4dea-8bb3-789a473503a7",
   "metadata": {},
   "outputs": [
    {
     "name": "stdout",
     "output_type": "stream",
     "text": [
      "How many chocklets you want:? 5\n"
     ]
    },
    {
     "name": "stdout",
     "output_type": "stream",
     "text": [
      "chocklet\n",
      "chocklet\n",
      "chocklet\n",
      "chocklet\n",
      "chocklet\n"
     ]
    },
    {
     "name": "stdout",
     "output_type": "stream",
     "text": [
      "chocklet\n",
      "chocklet\n",
      "chocklet\n",
      "chocklet\n",
      "chocklet\n",
      "chocklet\n",
      "chocklet\n",
      "chocklet\n",
      "chocklet\n",
      "chocklet\n",
      "chocklet\n",
      "chocklet\n",
      "chocklet\n",
      "chocklet\n",
      "chocklet\n",
      "chocklet\n",
      "chocklet\n",
      "chocklet\n",
      "chocklet\n",
      "chocklet\n",
      "chocklet\n",
      "chocklet\n",
      "chocklet\n",
      "chocklet\n",
      "chocklet\n",
      "chocklet\n",
      "chocklet\n",
      "chocklet\n",
      "chocklet\n",
      "chocklet\n",
      "chocklet\n",
      "chocklet\n",
      "chocklet\n",
      "chocklet\n",
      "chocklet\n",
      "chocklet\n",
      "chocklet\n",
      "chocklet\n",
      "chocklet\n",
      "chocklet\n",
      "chocklet\n",
      "chocklet\n",
      "chocklet\n",
      "chocklet\n",
      "chocklet\n",
      "chocklet\n",
      "chocklet\n",
      "chocklet\n",
      "chocklet\n",
      "chocklet\n",
      "chocklet\n",
      "chocklet\n",
      "chocklet\n",
      "chocklet\n",
      "chocklet\n",
      "chocklet\n",
      "chocklet\n",
      "chocklet\n",
      "chocklet\n",
      "chocklet\n",
      "chocklet\n",
      "chocklet\n",
      "chocklet\n",
      "chocklet\n",
      "chocklet\n",
      "chocklet\n",
      "chocklet\n",
      "chocklet\n",
      "chocklet\n",
      "chocklet\n",
      "chocklet\n",
      "chocklet\n",
      "chocklet\n",
      "chocklet\n",
      "chocklet\n",
      "chocklet\n",
      "chocklet\n",
      "chocklet\n",
      "chocklet\n",
      "chocklet\n",
      "chocklet\n",
      "chocklet\n",
      "chocklet\n",
      "chocklet\n",
      "chocklet\n",
      "chocklet\n",
      "chocklet\n",
      "chocklet\n",
      "chocklet\n",
      "chocklet\n",
      "chocklet\n",
      "chocklet\n",
      "chocklet\n",
      "chocklet\n",
      "chocklet\n",
      "chocklet\n",
      "chocklet\n",
      "chocklet\n",
      "chocklet\n",
      "chocklet\n",
      "chocklet\n",
      "chocklet\n",
      "chocklet\n",
      "chocklet\n",
      "chocklet\n",
      "chocklet\n",
      "chocklet\n",
      "chocklet\n",
      "chocklet\n",
      "chocklet\n",
      "chocklet\n",
      "chocklet\n",
      "chocklet\n",
      "chocklet\n",
      "chocklet\n",
      "chocklet\n",
      "chocklet\n",
      "chocklet\n",
      "chocklet\n",
      "chocklet\n",
      "chocklet\n",
      "chocklet\n",
      "chocklet\n",
      "chocklet\n",
      "chocklet\n",
      "chocklet\n",
      "chocklet\n",
      "chocklet\n",
      "chocklet\n",
      "chocklet\n",
      "chocklet\n",
      "chocklet\n",
      "chocklet\n",
      "chocklet\n",
      "chocklet\n",
      "chocklet\n",
      "chocklet\n",
      "chocklet\n",
      "chocklet\n",
      "chocklet\n",
      "chocklet\n",
      "chocklet\n",
      "chocklet\n",
      "chocklet\n",
      "chocklet\n",
      "chocklet\n",
      "chocklet\n",
      "chocklet\n",
      "chocklet\n",
      "chocklet\n",
      "chocklet\n",
      "chocklet\n",
      "chocklet\n",
      "chocklet\n",
      "chocklet\n",
      "chocklet\n",
      "chocklet\n",
      "chocklet\n",
      "chocklet\n",
      "chocklet\n",
      "chocklet\n",
      "chocklet\n",
      "chocklet\n",
      "chocklet\n",
      "chocklet\n",
      "chocklet\n",
      "chocklet\n",
      "chocklet\n",
      "chocklet\n",
      "chocklet\n",
      "chocklet\n",
      "chocklet\n",
      "chocklet\n",
      "chocklet\n",
      "chocklet\n",
      "chocklet\n",
      "chocklet\n",
      "chocklet\n",
      "chocklet\n",
      "chocklet\n",
      "chocklet\n",
      "chocklet\n",
      "chocklet\n",
      "chocklet\n",
      "chocklet\n",
      "chocklet\n",
      "chocklet\n",
      "chocklet\n",
      "chocklet\n",
      "chocklet\n",
      "chocklet\n",
      "chocklet\n",
      "chocklet\n",
      "chocklet\n",
      "chocklet\n",
      "chocklet\n",
      "chocklet\n",
      "chocklet\n",
      "chocklet\n",
      "chocklet\n",
      "chocklet\n",
      "chocklet\n",
      "chocklet\n",
      "chocklet\n",
      "chocklet\n",
      "chocklet\n",
      "chocklet\n",
      "chocklet\n",
      "chocklet\n",
      "chocklet\n",
      "chocklet\n",
      "chocklet\n",
      "chocklet\n",
      "chocklet\n",
      "chocklet\n",
      "chocklet\n",
      "chocklet\n",
      "chocklet\n",
      "chocklet\n",
      "chocklet\n",
      "chocklet\n",
      "chocklet\n",
      "chocklet\n",
      "chocklet\n",
      "chocklet\n",
      "chocklet\n",
      "chocklet\n",
      "chocklet\n",
      "chocklet\n",
      "chocklet\n",
      "chocklet\n",
      "chocklet\n",
      "chocklet\n",
      "chocklet\n",
      "chocklet\n",
      "chocklet\n",
      "chocklet\n",
      "chocklet\n",
      "chocklet\n",
      "chocklet\n",
      "chocklet\n",
      "chocklet\n",
      "chocklet\n",
      "chocklet\n",
      "chocklet\n",
      "chocklet\n",
      "chocklet\n",
      "chocklet\n",
      "chocklet\n",
      "chocklet\n",
      "chocklet\n",
      "chocklet\n",
      "chocklet\n",
      "chocklet\n",
      "chocklet\n",
      "chocklet\n",
      "chocklet\n",
      "chocklet\n",
      "chocklet\n",
      "chocklet\n",
      "chocklet\n",
      "chocklet\n",
      "chocklet\n",
      "chocklet\n",
      "chocklet\n",
      "chocklet\n",
      "chocklet\n",
      "chocklet\n",
      "chocklet\n",
      "chocklet\n",
      "chocklet\n",
      "chocklet\n",
      "chocklet\n",
      "chocklet\n",
      "chocklet\n",
      "chocklet\n",
      "chocklet\n",
      "chocklet\n",
      "chocklet\n",
      "chocklet\n",
      "chocklet\n",
      "chocklet\n",
      "chocklet\n",
      "chocklet\n",
      "chocklet\n",
      "chocklet\n",
      "chocklet\n",
      "chocklet\n",
      "chocklet\n",
      "chocklet\n",
      "chocklet\n",
      "chocklet\n",
      "chocklet\n",
      "chocklet\n",
      "chocklet\n",
      "chocklet\n",
      "chocklet\n",
      "chocklet\n",
      "chocklet\n",
      "chocklet\n",
      "chocklet\n",
      "chocklet\n",
      "chocklet\n",
      "chocklet\n",
      "chocklet\n",
      "chocklet\n",
      "chocklet\n",
      "chocklet\n",
      "chocklet\n",
      "chocklet\n",
      "chocklet\n",
      "chocklet\n",
      "chocklet\n",
      "chocklet\n",
      "chocklet\n",
      "chocklet\n",
      "chocklet\n",
      "chocklet\n",
      "chocklet\n",
      "chocklet\n",
      "chocklet\n",
      "chocklet\n",
      "chocklet\n",
      "chocklet\n",
      "chocklet\n",
      "chocklet\n",
      "chocklet\n",
      "chocklet\n",
      "chocklet\n",
      "chocklet\n",
      "chocklet\n",
      "chocklet\n",
      "chocklet\n",
      "chocklet\n",
      "chocklet\n",
      "chocklet\n",
      "chocklet\n",
      "chocklet\n",
      "chocklet\n",
      "chocklet\n",
      "chocklet\n",
      "chocklet\n",
      "chocklet\n",
      "chocklet\n",
      "chocklet\n",
      "chocklet\n",
      "chocklet\n",
      "chocklet\n",
      "chocklet\n",
      "chocklet\n",
      "chocklet\n",
      "chocklet\n",
      "chocklet\n",
      "chocklet\n",
      "chocklet\n",
      "chocklet\n",
      "chocklet\n",
      "chocklet\n",
      "chocklet\n",
      "chocklet\n",
      "chocklet\n",
      "chocklet\n",
      "chocklet\n",
      "chocklet\n",
      "chocklet\n",
      "chocklet\n",
      "chocklet\n",
      "chocklet\n",
      "chocklet\n",
      "chocklet\n",
      "chocklet\n",
      "chocklet\n",
      "chocklet\n",
      "chocklet\n",
      "chocklet\n",
      "chocklet\n",
      "chocklet\n",
      "chocklet\n",
      "chocklet\n",
      "chocklet\n",
      "chocklet\n",
      "chocklet\n",
      "chocklet\n",
      "chocklet\n",
      "chocklet\n",
      "chocklet\n",
      "chocklet\n",
      "chocklet\n",
      "chocklet\n",
      "chocklet\n",
      "chocklet\n",
      "chocklet\n",
      "chocklet\n",
      "chocklet\n",
      "chocklet\n",
      "chocklet\n",
      "chocklet\n",
      "chocklet\n",
      "chocklet\n",
      "chocklet\n",
      "chocklet\n",
      "chocklet\n",
      "chocklet\n",
      "chocklet\n",
      "chocklet\n",
      "chocklet\n",
      "chocklet\n",
      "chocklet\n",
      "chocklet\n",
      "chocklet\n",
      "chocklet\n",
      "chocklet\n",
      "chocklet\n",
      "chocklet\n",
      "chocklet\n",
      "chocklet\n",
      "chocklet\n",
      "chocklet\n",
      "chocklet\n",
      "chocklet\n",
      "chocklet\n",
      "chocklet\n",
      "chocklet\n",
      "chocklet\n",
      "chocklet\n",
      "chocklet\n",
      "chocklet\n",
      "chocklet\n",
      "chocklet\n",
      "chocklet\n",
      "chocklet\n",
      "chocklet\n",
      "chocklet\n",
      "chocklet\n",
      "chocklet\n",
      "chocklet\n",
      "chocklet\n",
      "chocklet\n",
      "chocklet\n",
      "chocklet\n",
      "chocklet\n",
      "chocklet\n",
      "chocklet\n",
      "chocklet\n",
      "chocklet\n",
      "chocklet\n",
      "chocklet\n",
      "chocklet\n",
      "chocklet\n",
      "chocklet\n",
      "chocklet\n"
     ]
    }
   ],
   "source": [
    "# write the code user ask chocklet from vendoor machne write the basic code\n",
    "x=int(input('How many chocklets you want:?'))\n",
    "i=1\n",
    "while i<=x:\n",
    "    print('chocklet')\n",
    "    i+=1"
   ]
  },
  {
   "cell_type": "code",
   "execution_count": 59,
   "id": "c1e25e79-d560-4a32-ba17-0d2d3cff7e2d",
   "metadata": {},
   "outputs": [
    {
     "name": "stdout",
     "output_type": "stream",
     "text": [
      "5\n",
      "10\n",
      "15\n",
      "20\n",
      "25\n",
      "30\n",
      "35\n",
      "40\n",
      "45\n",
      "50\n"
     ]
    }
   ],
   "source": [
    "for i in range(1,51):\n",
    "    if i%5==0:\n",
    "        print(i)"
   ]
  },
  {
   "cell_type": "code",
   "execution_count": 60,
   "id": "25b337ac-72bc-4702-889b-98c64273c145",
   "metadata": {},
   "outputs": [
    {
     "name": "stdout",
     "output_type": "stream",
     "text": [
      "5\n",
      "10\n",
      "15\n",
      "20\n",
      "25\n",
      "30\n",
      "35\n",
      "40\n",
      "45\n",
      "50\n"
     ]
    }
   ],
   "source": [
    "for i in range(1,11):\n",
    "    print(i*5)"
   ]
  },
  {
   "cell_type": "code",
   "execution_count": 61,
   "id": "909255a8-1799-4cf5-a114-5b98f383e0d2",
   "metadata": {},
   "outputs": [
    {
     "name": "stdout",
     "output_type": "stream",
     "text": [
      "Enter a Number 5\n"
     ]
    },
    {
     "name": "stdout",
     "output_type": "stream",
     "text": [
      "5x1=5\n",
      "5x2=10\n",
      "5x3=15\n",
      "5x4=20\n",
      "5x5=25\n",
      "5x6=30\n",
      "5x7=35\n",
      "5x8=40\n",
      "5x9=45\n",
      "5x10=50\n"
     ]
    },
    {
     "name": "stdout",
     "output_type": "stream",
     "text": [
      "1x1=1\n",
      "1x2=2\n",
      "1x3=3\n",
      "1x4=4\n",
      "1x5=5\n",
      "1x6=6\n",
      "1x7=7\n",
      "1x8=8\n",
      "1x9=9\n",
      "1x10=10\n"
     ]
    }
   ],
   "source": [
    "n=int(input('Enter a Number'))\n",
    "for i in range(1,11):\n",
    "    print(f'{n}x{i}={n*i}')"
   ]
  },
  {
   "cell_type": "code",
   "execution_count": 62,
   "id": "ca17e143-f211-4f09-8670-4caf2c5bd731",
   "metadata": {},
   "outputs": [
    {
     "name": "stdout",
     "output_type": "stream",
     "text": [
      "Enter a Number 5\n"
     ]
    },
    {
     "name": "stdout",
     "output_type": "stream",
     "text": [
      "5*1=5\n",
      "5*2=10\n",
      "5*3=15\n",
      "5*4=20\n",
      "5*5=25\n",
      "5*6=30\n",
      "5*7=35\n",
      "5*8=40\n",
      "5*9=45\n",
      "5*10=50\n"
     ]
    },
    {
     "name": "stdout",
     "output_type": "stream",
     "text": [
      "14*1=14\n",
      "14*2=28\n",
      "14*3=42\n",
      "14*4=56\n",
      "14*5=70\n",
      "14*6=84\n",
      "14*7=98\n",
      "14*8=112\n",
      "14*9=126\n",
      "14*10=140\n"
     ]
    }
   ],
   "source": [
    "n=int(input('Enter a Number'))\n",
    "\n",
    "\n",
    "for i in range(1,11):\n",
    "    \n",
    "    print(f'{n}*{i}={n*i}')"
   ]
  },
  {
   "cell_type": "code",
   "execution_count": 63,
   "id": "0c9cda5f-3d91-410c-920a-2cbd75197862",
   "metadata": {},
   "outputs": [],
   "source": [
    "# id the user says i need 10 choclet but vending machine dont have 10 choclate & machine has only 5 choclate so what you do on those scenario\n",
    "# we have 3 choice now (either stop the transaction by you can give only 5 choclate) & may be vendor machine display the result as we are out of the stock\n",
    "# now lets try in the code"
   ]
  },
  {
   "cell_type": "code",
   "execution_count": 64,
   "id": "a5541d0b-09d4-4df4-97c6-b514a764c874",
   "metadata": {},
   "outputs": [
    {
     "name": "stdout",
     "output_type": "stream",
     "text": [
      "How many choclets you want? 5\n"
     ]
    },
    {
     "name": "stdout",
     "output_type": "stream",
     "text": [
      "chocklet\n",
      "choclet\n",
      "choclet\n",
      "choclet\n",
      "choclet\n"
     ]
    },
    {
     "name": "stdout",
     "output_type": "stream",
     "text": [
      "chocklet\n",
      "choclet\n",
      "choclet\n",
      "choclet\n",
      "choclet\n",
      "choclet\n",
      "choclet\n",
      "choclet\n",
      "choclet\n",
      "choclet\n",
      "choclet\n",
      "choclet\n",
      "choclet\n",
      "choclet\n",
      "choclet\n",
      "choclet\n",
      "choclet\n",
      "choclet\n",
      "choclet\n",
      "choclet\n",
      "choclet\n",
      "choclet\n",
      "choclet\n",
      "choclet\n",
      "choclet\n",
      "choclet\n",
      "choclet\n",
      "choclet\n",
      "choclet\n",
      "choclet\n",
      "choclet\n",
      "choclet\n",
      "choclet\n",
      "choclet\n",
      "choclet\n",
      "choclet\n",
      "choclet\n",
      "choclet\n",
      "choclet\n",
      "choclet\n",
      "choclet\n"
     ]
    }
   ],
   "source": [
    "av=5 # the machine has only 5 choclet\n",
    "x=int(input('How many choclets you want?'))\n",
    "i=1\n",
    "while i<=x:\n",
    "    print('chocklet')\n",
    "    i+=1\n",
    "    while i<=x:\n",
    "        print('choclet')\n",
    "        i+=1\n",
    "# if we check the user wants 10 characters but available choclet is 5 but we got output as 10 choclet\n",
    "# in this code we just declare but we int apply any condition to it"
   ]
  },
  {
   "cell_type": "code",
   "execution_count": 65,
   "id": "02eb5e4c-282d-49c3-82fb-df10a72e9247",
   "metadata": {},
   "outputs": [
    {
     "name": "stdout",
     "output_type": "stream",
     "text": [
      "How many choclets you want:? 5\n"
     ]
    },
    {
     "name": "stdout",
     "output_type": "stream",
     "text": [
      "choclet\n",
      "choclet\n",
      "choclet\n",
      "choclet\n",
      "choclet\n"
     ]
    },
    {
     "name": "stdout",
     "output_type": "stream",
     "text": [
      "choclet\n"
     ]
    }
   ],
   "source": [
    "ava = 5 # the machine has only 5 choclet \n",
    "\n",
    "x = int(input('How many choclets you want:?'))\n",
    "\n",
    "i = 1\n",
    "while i<=x:\n",
    "    print('choclet')\n",
    "    i += 1   "
   ]
  },
  {
   "cell_type": "code",
   "execution_count": 66,
   "id": "3eaa4301-fa1c-4b4f-ba89-69bc49100f4d",
   "metadata": {},
   "outputs": [
    {
     "name": "stdout",
     "output_type": "stream",
     "text": [
      "How many choclets user want:? 8\n"
     ]
    },
    {
     "name": "stdout",
     "output_type": "stream",
     "text": [
      "choclet\n",
      "choclet\n",
      "choclet\n",
      "choclet\n",
      "choclet\n",
      "bye for now\n"
     ]
    },
    {
     "name": "stdout",
     "output_type": "stream",
     "text": [
      "choclet\n",
      "choclet\n",
      "choclet\n",
      "choclet\n",
      "choclet\n",
      "bye for now\n"
     ]
    }
   ],
   "source": [
    "available_choclet=5  # the machine has only 10 candis\n",
    "x=int(input('How many choclets user want:?'))\n",
    "i=1\n",
    "while i<=x:\n",
    "    if i>available_choclet:  #we stop the execution but which code execution but which code execution not entire code, i want to come out of while loop\n",
    "        break # break is statement | means jump out of the \n",
    "        loop\n",
    "    print('choclet')\n",
    "    i+=1\n",
    "print('bye for now')"
   ]
  },
  {
   "cell_type": "code",
   "execution_count": 67,
   "id": "1981af37-b926-4213-8e71-ea00d6076ecf",
   "metadata": {},
   "outputs": [
    {
     "name": "stdout",
     "output_type": "stream",
     "text": [
      "How many choclets user want:? 4\n"
     ]
    },
    {
     "name": "stdout",
     "output_type": "stream",
     "text": [
      "choclet\n",
      "choclet\n",
      "choclet\n",
      "choclet\n",
      "bye for now\n"
     ]
    },
    {
     "name": "stdout",
     "output_type": "stream",
     "text": [
      "choclet\n",
      "choclet\n",
      "choclet\n",
      "choclet\n",
      "choclet\n",
      "bye for now\n"
     ]
    }
   ],
   "source": [
    "available_choclet=5  # the machine has only 10 candis\n",
    "x=int(input('How many choclets user want:?'))\n",
    "i=1\n",
    "while i<=x:\n",
    "    if i>available_choclet:  #we stop the execution but which code execution but which code execution not entire code, i want to come out of while loop\n",
    "        break # break is statement | means jump out of the loop\n",
    "    print('choclet')\n",
    "    i+=1\n",
    "print('bye for now')"
   ]
  },
  {
   "cell_type": "code",
   "execution_count": 68,
   "id": "93c93905-5385-4f9e-8e94-3fdb1ca81a00",
   "metadata": {},
   "outputs": [
    {
     "name": "stdout",
     "output_type": "stream",
     "text": [
      "1\n",
      "2\n",
      "3\n",
      "4\n",
      "5\n",
      "6\n",
      "7\n",
      "8\n",
      "9\n",
      "10\n"
     ]
    }
   ],
   "source": [
    "for i in range(1,11):\n",
    "    print(i)"
   ]
  },
  {
   "cell_type": "code",
   "execution_count": 69,
   "id": "abbdc076-1e83-4c22-9268-8def29f6efe2",
   "metadata": {},
   "outputs": [],
   "source": [
    "# I dont want 11 number i want only 5 number for the range 1 to 10"
   ]
  },
  {
   "cell_type": "code",
   "execution_count": 70,
   "id": "019830a4-47bd-49e5-bd39-355b89bef1e9",
   "metadata": {},
   "outputs": [
    {
     "name": "stdout",
     "output_type": "stream",
     "text": [
      "1\n",
      "2\n",
      "3\n",
      "4\n",
      "5\n"
     ]
    }
   ],
   "source": [
    "for i in range(1,11):\n",
    "    if i==6:\n",
    "        break  # break the 6 \n",
    "    print(i)"
   ]
  },
  {
   "cell_type": "code",
   "execution_count": 71,
   "id": "9ad67ac8-ebe9-4188-a2b9-2a1afb61abe1",
   "metadata": {},
   "outputs": [],
   "source": [
    "# in continue loop want be terminate & exclue the assign number it give you entire output"
   ]
  },
  {
   "cell_type": "code",
   "execution_count": 72,
   "id": "c68a94e4-2f78-48ca-a566-7e89d0a28ee0",
   "metadata": {},
   "outputs": [
    {
     "name": "stdout",
     "output_type": "stream",
     "text": [
      "1\n",
      "2\n",
      "4\n",
      "5\n",
      "6\n",
      "7\n",
      "8\n",
      "9\n",
      "10\n"
     ]
    }
   ],
   "source": [
    "for i in range(1,11):\n",
    "    if i==3:\n",
    "        continue\n",
    "    print(i)"
   ]
  },
  {
   "cell_type": "code",
   "execution_count": 73,
   "id": "81c88072-3793-4ce6-9cc0-80d7635145d2",
   "metadata": {},
   "outputs": [
    {
     "name": "stdout",
     "output_type": "stream",
     "text": [
      "hello 1\n",
      "hello 2\n",
      "hello 3\n",
      "hello 4\n",
      "hello 5\n",
      "hello 7\n",
      "hello 8\n",
      "hello 9\n",
      "hello 10\n"
     ]
    }
   ],
   "source": [
    "for i in range(1,11):\n",
    "    if i==6:\n",
    "        continue  # skip the 6 in printing time\n",
    "    print('hello',i)"
   ]
  },
  {
   "cell_type": "code",
   "execution_count": 74,
   "id": "55130334-e64c-47c6-8673-688f15e46736",
   "metadata": {},
   "outputs": [
    {
     "ename": "SyntaxError",
     "evalue": "incomplete input (1116375593.py, line 2)",
     "output_type": "error",
     "traceback": [
      "  \u001b[36mCell\u001b[39m\u001b[36m \u001b[39m\u001b[32mIn[74]\u001b[39m\u001b[32m, line 2\u001b[39m\n\u001b[31m    \u001b[39m\n    ^\n\u001b[31mSyntaxError\u001b[39m\u001b[31m:\u001b[39m incomplete input\n"
     ]
    }
   ],
   "source": [
    "for i in range(1,11):\n",
    "    "
   ]
  },
  {
   "cell_type": "code",
   "execution_count": 75,
   "id": "05c700f1-b9da-43c1-9ecf-16b2214a57f5",
   "metadata": {},
   "outputs": [],
   "source": [
    "for i in range(1,11):\n",
    "    pass"
   ]
  },
  {
   "cell_type": "code",
   "execution_count": 76,
   "id": "416b852b-2097-412c-afc5-9e52714bbbd9",
   "metadata": {},
   "outputs": [],
   "source": [
    "# you need to print the number from 1 to 50 but dont print the number which is divisible by 3 or 5"
   ]
  },
  {
   "cell_type": "code",
   "execution_count": 77,
   "id": "fa07bc17-ee03-4f87-8f55-fa95f83e60db",
   "metadata": {},
   "outputs": [
    {
     "name": "stdout",
     "output_type": "stream",
     "text": [
      "3\n",
      "6\n",
      "9\n",
      "12\n",
      "15\n",
      "18\n",
      "21\n",
      "24\n",
      "27\n",
      "30\n",
      "33\n",
      "36\n",
      "39\n",
      "42\n",
      "45\n",
      "48\n",
      "end\n"
     ]
    }
   ],
   "source": [
    "for i in range(1,51):\n",
    "    if i%3==0:\n",
    "        print(i)\n",
    "print('end')"
   ]
  },
  {
   "cell_type": "code",
   "execution_count": 78,
   "id": "64dfca1a-7fd9-47a7-a69a-a936c3565b9d",
   "metadata": {},
   "outputs": [
    {
     "name": "stdout",
     "output_type": "stream",
     "text": [
      "1\n",
      "2\n",
      "4\n",
      "5\n",
      "7\n",
      "8\n",
      "10\n",
      "11\n",
      "13\n",
      "14\n",
      "16\n",
      "17\n",
      "19\n",
      "20\n",
      "22\n",
      "23\n",
      "25\n",
      "26\n",
      "28\n",
      "29\n",
      "31\n",
      "32\n",
      "34\n",
      "35\n",
      "37\n",
      "38\n",
      "40\n",
      "41\n",
      "43\n",
      "44\n",
      "46\n",
      "47\n",
      "49\n",
      "50\n",
      "end\n"
     ]
    }
   ],
   "source": [
    "for i in range(1,51):\n",
    "    if i%3==0:\n",
    "        continue\n",
    "    print(i)\n",
    "print('end')"
   ]
  },
  {
   "cell_type": "code",
   "execution_count": 79,
   "id": "e1f34297-730a-459d-be81-7c44fc5065e2",
   "metadata": {},
   "outputs": [
    {
     "name": "stdout",
     "output_type": "stream",
     "text": [
      "1\n",
      "2\n",
      "4\n",
      "7\n",
      "8\n",
      "11\n",
      "13\n",
      "14\n",
      "16\n",
      "17\n",
      "19\n",
      "22\n",
      "23\n",
      "26\n",
      "28\n",
      "29\n",
      "31\n",
      "32\n",
      "34\n",
      "37\n",
      "38\n",
      "41\n",
      "43\n",
      "44\n",
      "46\n",
      "47\n",
      "49\n"
     ]
    }
   ],
   "source": [
    "for i in range(1,51):\n",
    "    if i%3==0 or i%5==0:\n",
    "        continue\n",
    "    print(i)"
   ]
  },
  {
   "cell_type": "code",
   "execution_count": 80,
   "id": "f13730b9-e535-45ab-901b-692b1da3ba6d",
   "metadata": {},
   "outputs": [
    {
     "name": "stdout",
     "output_type": "stream",
     "text": [
      "1\n",
      "2\n",
      "4\n",
      "7\n",
      "8\n",
      "11\n",
      "13\n",
      "14\n",
      "16\n",
      "17\n",
      "19\n",
      "22\n",
      "23\n",
      "26\n",
      "28\n",
      "29\n",
      "31\n",
      "32\n",
      "34\n",
      "37\n",
      "38\n",
      "41\n",
      "43\n",
      "44\n",
      "46\n",
      "47\n",
      "49\n",
      "end\n"
     ]
    }
   ],
   "source": [
    "for i in range(1,50):\n",
    "    if i%3==0 or i%5==0:\n",
    "        continue\n",
    "    print(i)\n",
    "print('end')\n",
    "# when you apply and you want get the value which is divisible by both 3&5\n"
   ]
  },
  {
   "cell_type": "code",
   "execution_count": 81,
   "id": "3f5a8cb8-914c-4f70-9141-3da94c031801",
   "metadata": {},
   "outputs": [
    {
     "name": "stdout",
     "output_type": "stream",
     "text": [
      "1\n",
      "3\n",
      "5\n",
      "7\n",
      "9\n",
      "11\n",
      "13\n",
      "15\n",
      "17\n",
      "19\n",
      "21\n",
      "23\n",
      "25\n",
      "27\n",
      "29\n",
      "31\n",
      "33\n",
      "35\n",
      "37\n",
      "39\n",
      "41\n",
      "43\n",
      "45\n",
      "47\n",
      "49\n",
      "bye\n"
     ]
    }
   ],
   "source": [
    "# I dont wont to  print the values which are even numbers that means print only odd numbers\n",
    "for i in range(1,51):\n",
    "    if(i%2==0):\n",
    "        # print('even')\n",
    "        continue\n",
    "    else:\n",
    "        print(i)\n",
    "print('bye')"
   ]
  },
  {
   "cell_type": "markdown",
   "id": "bc28e83b-395e-4e77-87b5-5e5445abec16",
   "metadata": {},
   "source": [
    "# PRINTING PATTERN IN PYTHON"
   ]
  },
  {
   "cell_type": "code",
   "execution_count": 82,
   "id": "64501ac2-ab99-4645-9d9b-afbbb8b012b1",
   "metadata": {},
   "outputs": [
    {
     "name": "stdout",
     "output_type": "stream",
     "text": [
      "# # # #\n",
      "# # # #\n",
      "# # # #\n",
      "# # # #\n"
     ]
    }
   ],
   "source": [
    "print('# # # #')\n",
    "print('# # # #')\n",
    "print('# # # #')\n",
    "print('# # # #')"
   ]
  },
  {
   "cell_type": "code",
   "execution_count": 83,
   "id": "4abbd5ef-3b69-4549-bf3a-4c08674c0002",
   "metadata": {},
   "outputs": [
    {
     "name": "stdout",
     "output_type": "stream",
     "text": [
      "# # # #\n",
      "# # # #\n",
      "# # # #\n",
      "# # # #\n"
     ]
    }
   ],
   "source": [
    "for i in range(1,5):\n",
    "    i=i+1\n",
    "    print('# # # #')"
   ]
  },
  {
   "cell_type": "code",
   "execution_count": 84,
   "id": "a14a7e7a-2ecd-4459-871f-c1067ef0a53d",
   "metadata": {},
   "outputs": [
    {
     "name": "stdout",
     "output_type": "stream",
     "text": [
      "# # # #\n",
      "# # # #\n",
      "# # # #\n",
      "# # # #\n",
      "# # # #\n",
      "# # # #\n",
      "# # # #\n",
      "# # # #\n",
      "# # # #\n",
      "# # # #\n",
      "# # # #\n",
      "# # # #\n",
      "# # # #\n",
      "# # # #\n",
      "# # # #\n",
      "# # # #\n",
      "# # # #\n",
      "# # # #\n",
      "# # # #\n",
      "# # # #\n",
      "# # # #\n",
      "# # # #\n",
      "# # # #\n",
      "# # # #\n",
      "# # # #\n",
      "# # # #\n",
      "# # # #\n",
      "# # # #\n",
      "# # # #\n",
      "# # # #\n",
      "# # # #\n",
      "# # # #\n",
      "# # # #\n",
      "# # # #\n",
      "# # # #\n",
      "# # # #\n",
      "# # # #\n",
      "# # # #\n",
      "# # # #\n",
      "# # # #\n",
      "# # # #\n",
      "# # # #\n",
      "# # # #\n",
      "# # # #\n",
      "# # # #\n",
      "# # # #\n",
      "# # # #\n",
      "# # # #\n",
      "# # # #\n",
      "# # # #\n",
      "# # # #\n",
      "# # # #\n",
      "# # # #\n",
      "# # # #\n",
      "# # # #\n",
      "# # # #\n",
      "# # # #\n",
      "# # # #\n",
      "# # # #\n",
      "# # # #\n",
      "# # # #\n",
      "# # # #\n",
      "# # # #\n",
      "# # # #\n",
      "# # # #\n",
      "# # # #\n",
      "# # # #\n",
      "# # # #\n",
      "# # # #\n",
      "# # # #\n",
      "# # # #\n",
      "# # # #\n",
      "# # # #\n",
      "# # # #\n",
      "# # # #\n",
      "# # # #\n",
      "# # # #\n",
      "# # # #\n",
      "# # # #\n",
      "# # # #\n",
      "# # # #\n",
      "# # # #\n",
      "# # # #\n",
      "# # # #\n",
      "# # # #\n",
      "# # # #\n",
      "# # # #\n",
      "# # # #\n",
      "# # # #\n",
      "# # # #\n",
      "# # # #\n",
      "# # # #\n",
      "# # # #\n",
      "# # # #\n",
      "# # # #\n",
      "# # # #\n",
      "# # # #\n",
      "# # # #\n",
      "# # # #\n",
      "# # # #\n",
      "# # # #\n",
      "# # # #\n",
      "# # # #\n",
      "# # # #\n",
      "# # # #\n",
      "# # # #\n",
      "# # # #\n",
      "# # # #\n",
      "# # # #\n",
      "# # # #\n",
      "# # # #\n",
      "# # # #\n",
      "# # # #\n",
      "# # # #\n",
      "# # # #\n",
      "# # # #\n",
      "# # # #\n",
      "# # # #\n",
      "# # # #\n",
      "# # # #\n",
      "# # # #\n",
      "# # # #\n",
      "# # # #\n",
      "# # # #\n",
      "# # # #\n",
      "# # # #\n",
      "# # # #\n",
      "# # # #\n",
      "# # # #\n",
      "# # # #\n",
      "# # # #\n",
      "# # # #\n",
      "# # # #\n",
      "# # # #\n",
      "# # # #\n",
      "# # # #\n",
      "# # # #\n",
      "# # # #\n",
      "# # # #\n",
      "# # # #\n",
      "# # # #\n",
      "# # # #\n",
      "# # # #\n",
      "# # # #\n",
      "# # # #\n",
      "# # # #\n",
      "# # # #\n",
      "# # # #\n",
      "# # # #\n",
      "# # # #\n",
      "# # # #\n",
      "# # # #\n",
      "# # # #\n",
      "# # # #\n",
      "# # # #\n",
      "# # # #\n",
      "# # # #\n",
      "# # # #\n",
      "# # # #\n",
      "# # # #\n",
      "# # # #\n",
      "# # # #\n",
      "# # # #\n",
      "# # # #\n",
      "# # # #\n",
      "# # # #\n",
      "# # # #\n",
      "# # # #\n",
      "# # # #\n",
      "# # # #\n",
      "# # # #\n",
      "# # # #\n",
      "# # # #\n",
      "# # # #\n",
      "# # # #\n",
      "# # # #\n",
      "# # # #\n",
      "# # # #\n",
      "# # # #\n",
      "# # # #\n",
      "# # # #\n",
      "# # # #\n",
      "# # # #\n",
      "# # # #\n",
      "# # # #\n",
      "# # # #\n",
      "# # # #\n",
      "# # # #\n",
      "# # # #\n",
      "# # # #\n",
      "# # # #\n",
      "# # # #\n",
      "# # # #\n",
      "# # # #\n",
      "# # # #\n",
      "# # # #\n",
      "# # # #\n",
      "# # # #\n",
      "# # # #\n",
      "# # # #\n",
      "# # # #\n",
      "# # # #\n",
      "# # # #\n",
      "# # # #\n",
      "# # # #\n",
      "# # # #\n",
      "# # # #\n",
      "# # # #\n",
      "# # # #\n",
      "# # # #\n",
      "# # # #\n",
      "# # # #\n",
      "# # # #\n",
      "# # # #\n",
      "# # # #\n",
      "# # # #\n",
      "# # # #\n",
      "# # # #\n",
      "# # # #\n",
      "# # # #\n",
      "# # # #\n",
      "# # # #\n",
      "# # # #\n",
      "# # # #\n",
      "# # # #\n",
      "# # # #\n",
      "# # # #\n",
      "# # # #\n",
      "# # # #\n",
      "# # # #\n",
      "# # # #\n",
      "# # # #\n",
      "# # # #\n",
      "# # # #\n",
      "# # # #\n",
      "# # # #\n",
      "# # # #\n",
      "# # # #\n",
      "# # # #\n",
      "# # # #\n",
      "# # # #\n",
      "# # # #\n",
      "# # # #\n",
      "# # # #\n",
      "# # # #\n",
      "# # # #\n",
      "# # # #\n",
      "# # # #\n",
      "# # # #\n",
      "# # # #\n",
      "# # # #\n",
      "# # # #\n",
      "# # # #\n",
      "# # # #\n",
      "# # # #\n",
      "# # # #\n",
      "# # # #\n",
      "# # # #\n",
      "# # # #\n",
      "# # # #\n",
      "# # # #\n",
      "# # # #\n",
      "# # # #\n",
      "# # # #\n",
      "# # # #\n",
      "# # # #\n",
      "# # # #\n",
      "# # # #\n",
      "# # # #\n",
      "# # # #\n",
      "# # # #\n",
      "# # # #\n",
      "# # # #\n",
      "# # # #\n",
      "# # # #\n",
      "# # # #\n",
      "# # # #\n",
      "# # # #\n",
      "# # # #\n",
      "# # # #\n",
      "# # # #\n",
      "# # # #\n",
      "# # # #\n",
      "# # # #\n",
      "# # # #\n",
      "# # # #\n",
      "# # # #\n",
      "# # # #\n",
      "# # # #\n",
      "# # # #\n",
      "# # # #\n",
      "# # # #\n",
      "# # # #\n",
      "# # # #\n",
      "# # # #\n",
      "# # # #\n",
      "# # # #\n",
      "# # # #\n",
      "# # # #\n",
      "# # # #\n",
      "# # # #\n",
      "# # # #\n",
      "# # # #\n",
      "# # # #\n",
      "# # # #\n",
      "# # # #\n",
      "# # # #\n",
      "# # # #\n",
      "# # # #\n",
      "# # # #\n",
      "# # # #\n",
      "# # # #\n",
      "# # # #\n",
      "# # # #\n",
      "# # # #\n",
      "# # # #\n",
      "# # # #\n",
      "# # # #\n",
      "# # # #\n",
      "# # # #\n",
      "# # # #\n",
      "# # # #\n",
      "# # # #\n",
      "# # # #\n",
      "# # # #\n",
      "# # # #\n",
      "# # # #\n",
      "# # # #\n",
      "# # # #\n",
      "# # # #\n",
      "# # # #\n",
      "# # # #\n",
      "# # # #\n",
      "# # # #\n",
      "# # # #\n",
      "# # # #\n",
      "# # # #\n",
      "# # # #\n",
      "# # # #\n",
      "# # # #\n",
      "# # # #\n",
      "# # # #\n",
      "# # # #\n",
      "# # # #\n",
      "# # # #\n",
      "# # # #\n",
      "# # # #\n",
      "# # # #\n",
      "# # # #\n",
      "# # # #\n",
      "# # # #\n",
      "# # # #\n",
      "# # # #\n",
      "# # # #\n",
      "# # # #\n",
      "# # # #\n",
      "# # # #\n",
      "# # # #\n",
      "# # # #\n",
      "# # # #\n",
      "# # # #\n",
      "# # # #\n",
      "# # # #\n",
      "# # # #\n",
      "# # # #\n",
      "# # # #\n",
      "# # # #\n",
      "# # # #\n",
      "# # # #\n",
      "# # # #\n",
      "# # # #\n",
      "# # # #\n",
      "# # # #\n",
      "# # # #\n",
      "# # # #\n",
      "# # # #\n",
      "# # # #\n",
      "# # # #\n",
      "# # # #\n",
      "# # # #\n",
      "# # # #\n",
      "# # # #\n",
      "# # # #\n",
      "# # # #\n",
      "# # # #\n",
      "# # # #\n",
      "# # # #\n",
      "# # # #\n",
      "# # # #\n",
      "# # # #\n",
      "# # # #\n",
      "# # # #\n",
      "# # # #\n",
      "# # # #\n",
      "# # # #\n",
      "# # # #\n",
      "# # # #\n",
      "# # # #\n",
      "# # # #\n"
     ]
    }
   ],
   "source": [
    "for i in range(1,400):\n",
    "    i=i+1\n",
    "    print('# # # #')"
   ]
  },
  {
   "cell_type": "code",
   "execution_count": 85,
   "id": "5c1fcf61-3d7c-4940-b6db-f24c2de1ff4d",
   "metadata": {},
   "outputs": [
    {
     "name": "stdout",
     "output_type": "stream",
     "text": [
      "# # # #\n",
      "# # # #\n",
      "# # # #\n",
      "# # # #\n"
     ]
    }
   ],
   "source": [
    "for i in range(1,5):\n",
    "    if i<=5:\n",
    "        print('# # # #')"
   ]
  },
  {
   "cell_type": "code",
   "execution_count": 86,
   "id": "aad31486-a605-48bd-8353-02b9d0e8ab31",
   "metadata": {},
   "outputs": [
    {
     "name": "stdout",
     "output_type": "stream",
     "text": [
      "# # # #\n",
      "# # # #\n",
      "# # # #\n",
      "# # # #\n",
      "# # # #\n",
      "# # # #\n",
      "# # # #\n"
     ]
    }
   ],
   "source": [
    "for i in range(1,8):\n",
    "    if i<=8:\n",
    "        print('# # # #')"
   ]
  },
  {
   "cell_type": "code",
   "execution_count": 87,
   "id": "d5ab8499-1324-437d-8d6c-a557d7a222b0",
   "metadata": {},
   "outputs": [
    {
     "name": "stdout",
     "output_type": "stream",
     "text": [
      "#\n",
      "#\n",
      "#\n",
      "#\n"
     ]
    }
   ],
   "source": [
    "for j in range(4):\n",
    "    print('#')"
   ]
  },
  {
   "cell_type": "code",
   "execution_count": 88,
   "id": "f656a7b4-6745-40c6-9ce2-12f40c911673",
   "metadata": {},
   "outputs": [
    {
     "name": "stdout",
     "output_type": "stream",
     "text": [
      "# # # #\n",
      "# # # #\n",
      "# # # #\n",
      "# # # #\n"
     ]
    }
   ],
   "source": [
    "for j in range(4):\n",
    "    print('# # # #')"
   ]
  },
  {
   "cell_type": "code",
   "execution_count": 89,
   "id": "9721e182-26db-4b20-8582-a2995e1cbd98",
   "metadata": {},
   "outputs": [
    {
     "name": "stdout",
     "output_type": "stream",
     "text": [
      "####"
     ]
    }
   ],
   "source": [
    "for j in range(4):\n",
    "    print('#', end='')"
   ]
  },
  {
   "cell_type": "code",
   "execution_count": 90,
   "id": "6c879c77-0837-4399-88ec-57dbb935e7d0",
   "metadata": {},
   "outputs": [
    {
     "name": "stdout",
     "output_type": "stream",
     "text": [
      "########"
     ]
    }
   ],
   "source": [
    "for j in range(4):\n",
    "    print('#',end='')\n",
    "for j in range(4):\n",
    "    print('#',end='')"
   ]
  },
  {
   "cell_type": "code",
   "execution_count": 91,
   "id": "85ab7205-8850-456a-b847-87e52577ae71",
   "metadata": {},
   "outputs": [
    {
     "name": "stdout",
     "output_type": "stream",
     "text": [
      "####\n",
      "####"
     ]
    }
   ],
   "source": [
    "for j in range(4):\n",
    "    print('#', end='')\n",
    "print()\n",
    "for j in range(4):\n",
    "    print('#',end='')"
   ]
  },
  {
   "cell_type": "code",
   "execution_count": 92,
   "id": "be018576-5f5c-48be-a036-1466a8b146d8",
   "metadata": {},
   "outputs": [
    {
     "name": "stdout",
     "output_type": "stream",
     "text": [
      "####\n",
      "####\n",
      "####\n",
      "####\n"
     ]
    }
   ],
   "source": [
    "for j in range(4):\n",
    "    print('#',end='')\n",
    "print()\n",
    "for j in range(4):\n",
    "    print('#',end='')\n",
    "print()\n",
    "for j in range(4):\n",
    "    print('#',end='')\n",
    "print()\n",
    "for j in range(4):\n",
    "    print('#',end='')\n",
    "print()"
   ]
  },
  {
   "cell_type": "code",
   "execution_count": 93,
   "id": "3a7a14d0-820b-47e6-8e44-affa9ddd592b",
   "metadata": {},
   "outputs": [
    {
     "name": "stdout",
     "output_type": "stream",
     "text": [
      "####\n",
      "####\n",
      "####\n",
      "####\n"
     ]
    }
   ],
   "source": [
    "for i in range(4):\n",
    "    for i in range(4):\n",
    "        print('#',end=\"\")\n",
    "    print()"
   ]
  },
  {
   "cell_type": "code",
   "execution_count": 94,
   "id": "68d06925-2e82-4512-9e04-a826f38d98f7",
   "metadata": {},
   "outputs": [
    {
     "name": "stdout",
     "output_type": "stream",
     "text": [
      "#\n",
      "##\n",
      "###\n",
      "####\n"
     ]
    }
   ],
   "source": [
    "for i in range(4):\n",
    "    for j in range(i+1):\n",
    "        print('#',end=\"\")\n",
    "    print()"
   ]
  },
  {
   "cell_type": "code",
   "execution_count": 95,
   "id": "f36728c9-9429-43f5-ae88-f91634361e95",
   "metadata": {},
   "outputs": [
    {
     "name": "stdout",
     "output_type": "stream",
     "text": [
      "#\n",
      "##\n",
      "###\n",
      "####\n"
     ]
    }
   ],
   "source": [
    "for i in range(1,5):\n",
    "    print('#'*i)"
   ]
  },
  {
   "cell_type": "code",
   "execution_count": 96,
   "id": "1176fdd2-87ff-47f8-a922-3a4589ad6d3b",
   "metadata": {},
   "outputs": [
    {
     "name": "stdout",
     "output_type": "stream",
     "text": [
      "#\n",
      "##\n",
      "###\n",
      "####\n"
     ]
    }
   ],
   "source": [
    "for i in range(1,5):\n",
    "    for j in range(4):\n",
    "        if i>j:\n",
    "            print('#',end='')\n",
    "    print()"
   ]
  },
  {
   "cell_type": "code",
   "execution_count": 97,
   "id": "d347d2b6-6a51-4457-a94b-5481556a05e8",
   "metadata": {},
   "outputs": [
    {
     "data": {
      "text/plain": [
       "[0, 1, 2, 3, 4]"
      ]
     },
     "execution_count": 97,
     "metadata": {},
     "output_type": "execute_result"
    }
   ],
   "source": [
    "list(range(5))"
   ]
  },
  {
   "cell_type": "code",
   "execution_count": 98,
   "id": "6e62ee8c-6753-42e9-afc6-257f7215f15c",
   "metadata": {},
   "outputs": [
    {
     "name": "stdout",
     "output_type": "stream",
     "text": [
      "\n",
      "#\n",
      "##\n",
      "###\n"
     ]
    }
   ],
   "source": [
    "for i in range(4):\n",
    "    for j in range(i):\n",
    "        print('#',end='')\n",
    "    print()"
   ]
  },
  {
   "cell_type": "code",
   "execution_count": 99,
   "id": "e94eaa39-4d5b-4701-9d3d-5d7be65da10c",
   "metadata": {},
   "outputs": [
    {
     "name": "stdout",
     "output_type": "stream",
     "text": [
      "#\n",
      "##\n",
      "###\n",
      "####\n"
     ]
    }
   ],
   "source": [
    "for i in range(4):\n",
    "    for j in range(i+1):\n",
    "        print('#',end='')\n",
    "    print()"
   ]
  },
  {
   "cell_type": "code",
   "execution_count": 100,
   "id": "4d2c3b88-0a6f-4c8d-a9a5-4169477dbdec",
   "metadata": {},
   "outputs": [
    {
     "name": "stdout",
     "output_type": "stream",
     "text": [
      "####\n",
      "###\n",
      "##\n",
      "#\n"
     ]
    }
   ],
   "source": [
    "for i in range(4):\n",
    "    for j in range(4-i):\n",
    "        print('#',end='')\n",
    "    print()"
   ]
  },
  {
   "cell_type": "code",
   "execution_count": 101,
   "id": "7aba94f9-56a6-436c-a5d8-ee2bf529d9c7",
   "metadata": {},
   "outputs": [
    {
     "name": "stdout",
     "output_type": "stream",
     "text": [
      "#####\n",
      "####\n",
      "###\n",
      "##\n",
      "#\n"
     ]
    }
   ],
   "source": [
    "for i in range(1,6):\n",
    "    print('#'*(6-i))"
   ]
  },
  {
   "cell_type": "markdown",
   "id": "92f0e12a-77a6-463f-a8ec-b0fd2cd434eb",
   "metadata": {},
   "source": [
    "# for else"
   ]
  },
  {
   "cell_type": "code",
   "execution_count": 102,
   "id": "bf9f5dc7-6673-4bca-8b3a-c40a60c1ca36",
   "metadata": {},
   "outputs": [],
   "source": [
    "# For|Else in python\n",
    "# In other language for else not supportable but in python it is supportable\n",
    "#e.g- lets print the number from 1-20 & we dont want print number which is divisible by 5"
   ]
  },
  {
   "cell_type": "code",
   "execution_count": 103,
   "id": "c7e42162-b797-4a94-a09f-e32cc31a10fa",
   "metadata": {},
   "outputs": [
    {
     "name": "stdout",
     "output_type": "stream",
     "text": [
      "15\n",
      "30\n",
      "40\n"
     ]
    }
   ],
   "source": [
    "nums=[12,15,18,21,26,30,40]\n",
    "for num in nums:\n",
    "    if num %5==0:\n",
    "        print(num)"
   ]
  },
  {
   "cell_type": "code",
   "execution_count": 104,
   "id": "c6a4e04d-4c5c-4ee0-ae93-f01751643a17",
   "metadata": {},
   "outputs": [
    {
     "name": "stdout",
     "output_type": "stream",
     "text": [
      "25\n",
      "30\n",
      "35\n"
     ]
    }
   ],
   "source": [
    "nums=[12,14,18,21,25,30,35]\n",
    "for num in nums:\n",
    "    if num%5==0:\n",
    "        print(num)"
   ]
  },
  {
   "cell_type": "code",
   "execution_count": 105,
   "id": "1f3a4cba-d0ff-4904-acc3-310a98ed3f46",
   "metadata": {},
   "outputs": [
    {
     "name": "stdout",
     "output_type": "stream",
     "text": [
      "25\n",
      "20\n"
     ]
    }
   ],
   "source": [
    "nums=[12,14,18,21,25,20]\n",
    "for num in nums:\n",
    "    if num %5 ==0:\n",
    "        print(num)"
   ]
  },
  {
   "cell_type": "code",
   "execution_count": 106,
   "id": "9c41521c-4ce2-4b6e-a18f-c26e79da1116",
   "metadata": {},
   "outputs": [
    {
     "name": "stdout",
     "output_type": "stream",
     "text": [
      "20\n"
     ]
    }
   ],
   "source": [
    "nums=[12,14,18,21,20,25]\n",
    "for num in nums:\n",
    "    if num % 5==0:\n",
    "        print(num)\n",
    "        break"
   ]
  },
  {
   "cell_type": "code",
   "execution_count": 107,
   "id": "9526e82d-b93e-4f65-8ae6-4bcc18858b7b",
   "metadata": {},
   "outputs": [
    {
     "name": "stdout",
     "output_type": "stream",
     "text": [
      "10\n"
     ]
    }
   ],
   "source": [
    "nums = [10,14,18,21,5,10]\n",
    "\n",
    "for num in nums:\n",
    "    if num % 5 == 0:\n",
    "        print(num)  \n",
    "        break #it will print only 1 number then it break        "
   ]
  },
  {
   "cell_type": "code",
   "execution_count": 108,
   "id": "63ea73b2-4791-41bf-b2f8-328e5d8ad29d",
   "metadata": {},
   "outputs": [],
   "source": [
    "nums = [7,14,18,21,23,27] #hear there is no number which is divisible by 5 we got output as blank\n",
    "\n",
    "for num in nums:\n",
    "    if num % 5 == 0:\n",
    "        print(num)  \n",
    "        break"
   ]
  },
  {
   "cell_type": "code",
   "execution_count": 109,
   "id": "ab75c5d1-268e-4d9e-98ac-c5142105c0da",
   "metadata": {},
   "outputs": [
    {
     "name": "stdout",
     "output_type": "stream",
     "text": [
      "Number Not Found\n",
      "Number Not Found\n",
      "Number Not Found\n",
      "Number Not Found\n",
      "Number Not Found\n",
      "Number Not Found\n",
      "Number Not Found\n"
     ]
    }
   ],
   "source": [
    "nums = [7,14,18,21,23,27,29] #hear there is no number which is divisible by 5 we got output as blank\n",
    "\n",
    "for num in nums:\n",
    "    if num % 5 == 0:\n",
    "        print(num)  \n",
    "        break\n",
    "    else:\n",
    "        print('Number Not Found') #every iteration it cheking condition        "
   ]
  },
  {
   "cell_type": "code",
   "execution_count": 110,
   "id": "4911943f-b110-47ae-9ab9-671c1cc48ed0",
   "metadata": {},
   "outputs": [
    {
     "name": "stdout",
     "output_type": "stream",
     "text": [
      "Number Not Found\n",
      "Number Not Found\n"
     ]
    }
   ],
   "source": [
    "nums = [7,14] #hear there is no number which is divisible by 5 we got output as blank\n",
    "for num in nums:\n",
    "    if num % 5 == 0:\n",
    "        print(num)  \n",
    "        break\n",
    "    else:\n",
    "        print('Number Not Found') #every iteration it cheking condition        "
   ]
  },
  {
   "cell_type": "code",
   "execution_count": 118,
   "id": "556e1a74-97f9-4061-956a-e8f0c2de1ae4",
   "metadata": {},
   "outputs": [
    {
     "name": "stdout",
     "output_type": "stream",
     "text": [
      "Number Not Found\n"
     ]
    }
   ],
   "source": [
    "nums = [7,14,18,21,23,27] #hear there is no number which is divisible by 5 we got output as blank\n",
    "\n",
    "for num in nums:\n",
    "    if num % 5 == 0:\n",
    "        print(num)  \n",
    "        break\n",
    "else:\n",
    "        print('Number Not Found') # hear else we dont write in if block but we can write in for block only"
   ]
  },
  {
   "cell_type": "code",
   "execution_count": 119,
   "id": "0aa938d5-da01-47f6-b8cb-6cd3dd0476c5",
   "metadata": {},
   "outputs": [
    {
     "name": "stdout",
     "output_type": "stream",
     "text": [
      "10\n"
     ]
    }
   ],
   "source": [
    "nums = [10,14,18,21,20,27] #hear there is no number which is divisible by 5 we got output as blank\n",
    "\n",
    "for num in nums:\n",
    "    if num % 5 == 0:\n",
    "        print(num)  \n",
    "        break\n",
    "else:\n",
    "        print('Not Found')"
   ]
  },
  {
   "cell_type": "code",
   "execution_count": 120,
   "id": "49096fdf-41b9-45ae-8ce9-7eff5e68acd4",
   "metadata": {},
   "outputs": [
    {
     "name": "stdout",
     "output_type": "stream",
     "text": [
      "10\n",
      "20\n",
      "30\n",
      "Not Found\n"
     ]
    }
   ],
   "source": [
    "nums = [10,14,18,21,20,27,30] #hear there is no number which is divisible by 5 we got output as blank\n",
    "\n",
    "for num in nums:\n",
    "    if num % 5 == 0:\n",
    "        print(num)  \n",
    "        #break\n",
    "else:\n",
    "        print('Not Found')"
   ]
  },
  {
   "cell_type": "code",
   "execution_count": 121,
   "id": "23f0028a-7d1b-4b39-b573-4e672689360f",
   "metadata": {},
   "outputs": [
    {
     "name": "stdout",
     "output_type": "stream",
     "text": [
      "10\n"
     ]
    }
   ],
   "source": [
    "nums = [10,14,18,21,20,27] #hear there is no number which is divisible by 5 we got output as blank\n",
    "for num in nums:\n",
    "    if num % 5 == 0:\n",
    "        print(num)  \n",
    "        break\n",
    "else:\n",
    "        print('Not Found')"
   ]
  },
  {
   "cell_type": "code",
   "execution_count": 122,
   "id": "e4fd53b8-578f-4c1d-87da-6fd8600e67fb",
   "metadata": {},
   "outputs": [],
   "source": [
    "# Prime number - how to check given number is prime number or not"
   ]
  },
  {
   "cell_type": "code",
   "execution_count": 123,
   "id": "6fe83385-a77e-4090-94af-d8e5122482bf",
   "metadata": {},
   "outputs": [
    {
     "name": "stdout",
     "output_type": "stream",
     "text": [
      "Not prime number\n"
     ]
    }
   ],
   "source": [
    "num=14\n",
    "for i in range(2,num):\n",
    "    if num % i == 0:\n",
    "        print('Not prime number')\n",
    "        break\n",
    "else:\n",
    "    print('prime number')"
   ]
  },
  {
   "cell_type": "code",
   "execution_count": 125,
   "id": "f4f1313a-5439-4c8d-b322-62a053a63dbb",
   "metadata": {},
   "outputs": [
    {
     "name": "stdout",
     "output_type": "stream",
     "text": [
      "prime number\n"
     ]
    }
   ],
   "source": [
    "num=13\n",
    "for i in range(2,num):\n",
    "    if num %i==0:\n",
    "        print('Not prime number')\n",
    "        break\n",
    "else:\n",
    "    print('prime number')"
   ]
  },
  {
   "cell_type": "markdown",
   "id": "8a7fb240-2d7d-4368-9757-5546f47e7449",
   "metadata": {},
   "source": [
    "# Array in Python"
   ]
  },
  {
   "cell_type": "code",
   "execution_count": 121,
   "id": "595b714e-9275-4fd7-8810-4e744cf2ce64",
   "metadata": {},
   "outputs": [
    {
     "name": "stdin",
     "output_type": "stream",
     "text": [
      "Enter the length of the array 1\n",
      "Enter the next class 2\n",
      "Enter the next class 2\n",
      "Enter the next class 2\n",
      "Enter the next class 2\n",
      "Enter the next class 2\n"
     ]
    },
    {
     "name": "stdout",
     "output_type": "stream",
     "text": [
      "\n"
     ]
    }
   ],
   "source": [
    "from array import*\n",
    "arr=array('i',[])\n",
    "n=int(input('Enter the length of the array'))\n",
    "for i in range(5):\n",
    "    x=int(input('Enter the next class'))\n",
    "    arr.append(x)\n",
    "print()"
   ]
  },
  {
   "cell_type": "code",
   "execution_count": null,
   "id": "6c13ac92",
   "metadata": {},
   "outputs": [],
   "source": []
  }
 ],
 "metadata": {
  "kernelspec": {
   "display_name": "base",
   "language": "python",
   "name": "python3"
  },
  "language_info": {
   "codemirror_mode": {
    "name": "ipython",
    "version": 3
   },
   "file_extension": ".py",
   "mimetype": "text/x-python",
   "name": "python",
   "nbconvert_exporter": "python",
   "pygments_lexer": "ipython3",
   "version": "3.12.8"
  },
  "widgets": {
   "application/vnd.jupyter.widget-state+json": {
    "state": {},
    "version_major": 2,
    "version_minor": 0
   }
  }
 },
 "nbformat": 4,
 "nbformat_minor": 5
}
