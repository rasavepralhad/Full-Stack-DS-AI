{
 "cells": [
  {
   "cell_type": "markdown",
   "id": "6279563f-2922-4c54-99e5-53cce8f2984a",
   "metadata": {},
   "source": [
    "# Set"
   ]
  },
  {
   "cell_type": "code",
   "execution_count": 15,
   "id": "669d1c00-1c47-4b32-b8f0-971b70b5e3a3",
   "metadata": {},
   "outputs": [],
   "source": [
    "# Set Creation"
   ]
  },
  {
   "cell_type": "code",
   "execution_count": 16,
   "id": "9e418cdd-316b-43e2-9cf2-30596c88edad",
   "metadata": {},
   "outputs": [
    {
     "data": {
      "text/plain": [
       "{1, 2, 3, 4, 5}"
      ]
     },
     "execution_count": 16,
     "metadata": {},
     "output_type": "execute_result"
    }
   ],
   "source": [
    "myset={1,2,3,4,5} #Set of Numbers\n",
    "myset"
   ]
  },
  {
   "cell_type": "code",
   "execution_count": 17,
   "id": "e056a294-c529-46a3-a84e-dc35107b7d66",
   "metadata": {},
   "outputs": [
    {
     "data": {
      "text/plain": [
       "5"
      ]
     },
     "execution_count": 17,
     "metadata": {},
     "output_type": "execute_result"
    }
   ],
   "source": [
    "len(myset)   #Length of the set"
   ]
  },
  {
   "cell_type": "code",
   "execution_count": 18,
   "id": "0f70fa20-8c0b-45a2-ac12-c7d2522c9d39",
   "metadata": {},
   "outputs": [
    {
     "data": {
      "text/plain": [
       "{1, 2, 3, 4, 5}"
      ]
     },
     "execution_count": 18,
     "metadata": {},
     "output_type": "execute_result"
    }
   ],
   "source": [
    "my_set={1,1,2,2,3,3,4,5,5}  #Duplicate elements are not allowed\n",
    "my_set"
   ]
  },
  {
   "cell_type": "code",
   "execution_count": 19,
   "id": "fbd1ead6-b281-4286-ae8a-721da2e8143a",
   "metadata": {},
   "outputs": [
    {
     "data": {
      "text/plain": [
       "{1, 2.08, 3.99, 5.65, 6.89, 70}"
      ]
     },
     "execution_count": 19,
     "metadata": {},
     "output_type": "execute_result"
    }
   ],
   "source": [
    "my_set1={1,70,2.08,3.99,5.65,6.89}  #Set of float numbers\n",
    "my_set1"
   ]
  },
  {
   "cell_type": "code",
   "execution_count": 20,
   "id": "abdf9940-13c7-4992-a776-354fb461ac97",
   "metadata": {},
   "outputs": [
    {
     "data": {
      "text/plain": [
       "{'Tyrion', 'arif', 'john'}"
      ]
     },
     "execution_count": 20,
     "metadata": {},
     "output_type": "execute_result"
    }
   ],
   "source": [
    "my_set2={'arif','john','Tyrion'}   #Set of strings\n",
    "my_set2"
   ]
  },
  {
   "cell_type": "code",
   "execution_count": 21,
   "id": "47021e57-7088-4ddd-b537-663fea0b01a7",
   "metadata": {},
   "outputs": [
    {
     "data": {
      "text/plain": [
       "{(11, 22, 33), 10, 20, 'hello'}"
      ]
     },
     "execution_count": 21,
     "metadata": {},
     "output_type": "execute_result"
    }
   ],
   "source": [
    "myset3={10,20,\"hello\",(11,22,33)}   #Mixed datatypes\n",
    "myset3"
   ]
  },
  {
   "cell_type": "code",
   "execution_count": 22,
   "id": "541a4b9c-e7f2-4c29-9665-13addc049d8a",
   "metadata": {},
   "outputs": [
    {
     "ename": "TypeError",
     "evalue": "unhashable type: 'list'",
     "output_type": "error",
     "traceback": [
      "\u001b[31m---------------------------------------------------------------------------\u001b[39m",
      "\u001b[31mTypeError\u001b[39m                                 Traceback (most recent call last)",
      "\u001b[36mCell\u001b[39m\u001b[36m \u001b[39m\u001b[32mIn[22]\u001b[39m\u001b[32m, line 1\u001b[39m\n\u001b[32m----> \u001b[39m\u001b[32m1\u001b[39m myset3={\u001b[32m10\u001b[39m,\u001b[32m20\u001b[39m,\u001b[33m\"\u001b[39m\u001b[33mhello\u001b[39m\u001b[33m\"\u001b[39m,[\u001b[32m11\u001b[39m,\u001b[32m22\u001b[39m,\u001b[32m33\u001b[39m]}  \u001b[38;5;66;03m#set doesn't sllow mutable items like\u001b[39;00m\n\u001b[32m      2\u001b[39m myset3\n",
      "\u001b[31mTypeError\u001b[39m: unhashable type: 'list'"
     ]
    }
   ],
   "source": [
    "myset3={10,20,\"hello\",[11,22,33]}  #set doesn't sllow mutable items like\n",
    "myset3"
   ]
  },
  {
   "cell_type": "code",
   "execution_count": null,
   "id": "61cd40ce-f037-435b-85bb-e366fd465d7b",
   "metadata": {},
   "outputs": [],
   "source": [
    "myset4=set()   #Create an empty set\n",
    "print(type(myset4))"
   ]
  },
  {
   "cell_type": "code",
   "execution_count": null,
   "id": "51e2db98-a199-4a71-a92f-17e1f7deae40",
   "metadata": {},
   "outputs": [],
   "source": [
    "my_set1=set(('one','two','three','four'))\n",
    "my_set1"
   ]
  },
  {
   "cell_type": "markdown",
   "id": "b326a1ab-3a15-4617-b6ec-296c16876803",
   "metadata": {},
   "source": [
    "# Loop through a set"
   ]
  },
  {
   "cell_type": "code",
   "execution_count": null,
   "id": "c5d4db9f-9385-4d09-b09e-5f99593cbd48",
   "metadata": {},
   "outputs": [],
   "source": [
    "myset={'one','two','three','four','five','six','seven','eight'}\n",
    "for i in myset:\n",
    "    print(i)"
   ]
  },
  {
   "cell_type": "code",
   "execution_count": null,
   "id": "d31ac897-6363-4152-b4c0-399516383461",
   "metadata": {},
   "outputs": [],
   "source": [
    "for i in enumerate(myset):\n",
    "    print(i)\n"
   ]
  },
  {
   "cell_type": "code",
   "execution_count": null,
   "id": "902ad83a-5ed2-4e7a-b6e2-2bd10acc89e9",
   "metadata": {},
   "outputs": [],
   "source": [
    "# SET MEMBERSHIP"
   ]
  },
  {
   "cell_type": "code",
   "execution_count": 23,
   "id": "d83bcac4-fecb-496e-be13-f7b87f07262a",
   "metadata": {},
   "outputs": [
    {
     "data": {
      "text/plain": [
       "{1, 2, 3, 4, 5}"
      ]
     },
     "execution_count": 23,
     "metadata": {},
     "output_type": "execute_result"
    }
   ],
   "source": [
    "myset"
   ]
  },
  {
   "cell_type": "code",
   "execution_count": 24,
   "id": "4d546c7f-65a5-4397-a434-bd467586d015",
   "metadata": {},
   "outputs": [
    {
     "data": {
      "text/plain": [
       "False"
      ]
     },
     "execution_count": 24,
     "metadata": {},
     "output_type": "execute_result"
    }
   ],
   "source": [
    "'one' in myset  #Check if 'one' exist in the set"
   ]
  },
  {
   "cell_type": "code",
   "execution_count": 25,
   "id": "a5641f22-b466-4d29-93e3-82d2149fd508",
   "metadata": {},
   "outputs": [
    {
     "data": {
      "text/plain": [
       "False"
      ]
     },
     "execution_count": 25,
     "metadata": {},
     "output_type": "execute_result"
    }
   ],
   "source": [
    "'ten' in myset  #Check if 'ten' exist in the set"
   ]
  },
  {
   "cell_type": "code",
   "execution_count": 26,
   "id": "5744a4f2-0894-4bcc-92d9-76df4ea0ca10",
   "metadata": {},
   "outputs": [
    {
     "name": "stdout",
     "output_type": "stream",
     "text": [
      "Three is not present in the set\n"
     ]
    }
   ],
   "source": [
    "if 'three' in myset: #Check if 'three' exist in the set\n",
    "    print('Three is present in the set')\n",
    "else:\n",
    "    print('Three is not present in the set')"
   ]
  },
  {
   "cell_type": "code",
   "execution_count": 27,
   "id": "efa65a23-916d-4335-9c6d-549311037b1d",
   "metadata": {},
   "outputs": [
    {
     "name": "stdout",
     "output_type": "stream",
     "text": [
      "elevan is not present in the set\n"
     ]
    }
   ],
   "source": [
    "if 'elevan' in myset:\n",
    "    print('elevan is present in the set')\n",
    "else:\n",
    "    print('elevan is not present in the set')"
   ]
  },
  {
   "cell_type": "code",
   "execution_count": 28,
   "id": "1c848783-5688-42b1-b60f-e101f6435d0c",
   "metadata": {},
   "outputs": [],
   "source": [
    "# Add& Remove items"
   ]
  },
  {
   "cell_type": "code",
   "execution_count": 29,
   "id": "c583fcb3-a959-4365-b77d-ed24f8d525a2",
   "metadata": {},
   "outputs": [
    {
     "data": {
      "text/plain": [
       "{1, 2, 3, 4, 5}"
      ]
     },
     "execution_count": 29,
     "metadata": {},
     "output_type": "execute_result"
    }
   ],
   "source": [
    "myset"
   ]
  },
  {
   "cell_type": "code",
   "execution_count": 30,
   "id": "ed8eec16-bfb2-4d82-b7ac-ffb1fdd8eb22",
   "metadata": {},
   "outputs": [],
   "source": [
    "myset.add('NINE')  #Add item to a set using add() method"
   ]
  },
  {
   "cell_type": "code",
   "execution_count": 31,
   "id": "1119a6f6-ef80-4b5d-90d6-fd2c05579fba",
   "metadata": {},
   "outputs": [
    {
     "data": {
      "text/plain": [
       "{1, 2, 3, 4, 5, 'ELEVAN', 'NINE', 'TEN', 'TWELVE'}"
      ]
     },
     "execution_count": 31,
     "metadata": {},
     "output_type": "execute_result"
    }
   ],
   "source": [
    "myset.update(['TEN','ELEVAN','TWELVE'])  #Add the multiple item ti a set using update\n",
    "myset"
   ]
  },
  {
   "cell_type": "code",
   "execution_count": 32,
   "id": "74a2b5fa-7be4-4b04-8bbc-0bd77ceefd2e",
   "metadata": {},
   "outputs": [
    {
     "ename": "KeyError",
     "evalue": "'two'",
     "output_type": "error",
     "traceback": [
      "\u001b[31m---------------------------------------------------------------------------\u001b[39m",
      "\u001b[31mKeyError\u001b[39m                                  Traceback (most recent call last)",
      "\u001b[36mCell\u001b[39m\u001b[36m \u001b[39m\u001b[32mIn[32]\u001b[39m\u001b[32m, line 1\u001b[39m\n\u001b[32m----> \u001b[39m\u001b[32m1\u001b[39m \u001b[43mmyset\u001b[49m\u001b[43m.\u001b[49m\u001b[43mremove\u001b[49m\u001b[43m(\u001b[49m\u001b[33;43m'\u001b[39;49m\u001b[33;43mtwo\u001b[39;49m\u001b[33;43m'\u001b[39;49m\u001b[43m)\u001b[49m   \u001b[38;5;66;03m#remove item in a set using remove() method\u001b[39;00m\n\u001b[32m      2\u001b[39m myset\n",
      "\u001b[31mKeyError\u001b[39m: 'two'"
     ]
    }
   ],
   "source": [
    "myset.remove('two')   #remove item in a set using remove() method\n",
    "myset"
   ]
  },
  {
   "cell_type": "code",
   "execution_count": null,
   "id": "9e1a3393-d8ea-4d87-8820-b5398a11fe6d",
   "metadata": {},
   "outputs": [],
   "source": [
    "myset.discard('TEN')     #remove item from a set using discard() method\n",
    "myset"
   ]
  },
  {
   "cell_type": "code",
   "execution_count": 33,
   "id": "97dadb97-3a8b-4806-8385-f070ba2fe66a",
   "metadata": {},
   "outputs": [
    {
     "data": {
      "text/plain": [
       "set()"
      ]
     },
     "execution_count": 33,
     "metadata": {},
     "output_type": "execute_result"
    }
   ],
   "source": [
    "myset.clear()  #Delete all items in a  set\n",
    "myset"
   ]
  },
  {
   "cell_type": "code",
   "execution_count": 34,
   "id": "80988405-9305-4da1-badf-691b80eb16fe",
   "metadata": {},
   "outputs": [
    {
     "ename": "SyntaxError",
     "evalue": "expected '(' (4201514006.py, line 1)",
     "output_type": "error",
     "traceback": [
      "  \u001b[36mCell\u001b[39m\u001b[36m \u001b[39m\u001b[32mIn[34]\u001b[39m\u001b[32m, line 1\u001b[39m\n\u001b[31m    \u001b[39m\u001b[31mdef myset #Delete the set object\u001b[39m\n              ^\n\u001b[31mSyntaxError\u001b[39m\u001b[31m:\u001b[39m expected '('\n"
     ]
    }
   ],
   "source": [
    "def myset #Delete the set object\n",
    "myset"
   ]
  },
  {
   "cell_type": "markdown",
   "id": "1a9bc8d1-5a94-4e56-b615-1f0fc141c730",
   "metadata": {},
   "source": [
    "# Copy Set"
   ]
  },
  {
   "cell_type": "code",
   "execution_count": 36,
   "id": "f9ec6dcc-8600-41cb-baea-e4bcb29dc7bd",
   "metadata": {},
   "outputs": [
    {
     "data": {
      "text/plain": [
       "{'eight', 'five', 'four', 'one', 'seven', 'six', 'three', 'two'}"
      ]
     },
     "execution_count": 36,
     "metadata": {},
     "output_type": "execute_result"
    }
   ],
   "source": [
    "myset={'one','two','three','four','five','six','seven','eight'}\n",
    "myset"
   ]
  },
  {
   "cell_type": "code",
   "execution_count": 37,
   "id": "a2fb086c-cd50-42af-bc78-3d1b25f182c4",
   "metadata": {},
   "outputs": [
    {
     "data": {
      "text/plain": [
       "{'eight', 'five', 'four', 'one', 'seven', 'six', 'three', 'two'}"
      ]
     },
     "execution_count": 37,
     "metadata": {},
     "output_type": "execute_result"
    }
   ],
   "source": [
    "myset1=myset  #Create a new Refernce \"myset1\"\n",
    "myset1"
   ]
  },
  {
   "cell_type": "code",
   "execution_count": 38,
   "id": "16e43629-8bcd-4e15-a946-50ad1f9627dc",
   "metadata": {},
   "outputs": [
    {
     "data": {
      "text/plain": [
       "(1802247835424, 1802247835424)"
      ]
     },
     "execution_count": 38,
     "metadata": {},
     "output_type": "execute_result"
    }
   ],
   "source": [
    "id(myset1),id(myset)   #The address of both myset & myset1 will be the same"
   ]
  },
  {
   "cell_type": "code",
   "execution_count": 39,
   "id": "44b96db8-94af-44ae-8ca5-e0f38a502d9e",
   "metadata": {},
   "outputs": [
    {
     "data": {
      "text/plain": [
       "{'eight', 'five', 'four', 'one', 'seven', 'six', 'three', 'two'}"
      ]
     },
     "execution_count": 39,
     "metadata": {},
     "output_type": "execute_result"
    }
   ],
   "source": [
    "my_set=myset.copy()   #Create a copy of the list\n",
    "my_set"
   ]
  },
  {
   "cell_type": "code",
   "execution_count": 40,
   "id": "00314c57-a80a-45c9-b44f-da034122d9af",
   "metadata": {},
   "outputs": [
    {
     "data": {
      "text/plain": [
       "1802247836992"
      ]
     },
     "execution_count": 40,
     "metadata": {},
     "output_type": "execute_result"
    }
   ],
   "source": [
    "id(my_set)  #The address of my_set will be different from myset because of my_set1"
   ]
  },
  {
   "cell_type": "code",
   "execution_count": 41,
   "id": "c71f9ff2-3b03-4936-ac4e-9ec4983384a4",
   "metadata": {},
   "outputs": [
    {
     "data": {
      "text/plain": [
       "{'eight', 'five', 'four', 'nine', 'one', 'seven', 'six', 'three', 'two'}"
      ]
     },
     "execution_count": 41,
     "metadata": {},
     "output_type": "execute_result"
    }
   ],
   "source": [
    "myset.add('nine')\n",
    "myset"
   ]
  },
  {
   "cell_type": "code",
   "execution_count": 42,
   "id": "a25ca06a-d42b-404f-a212-1bd26ec67ecd",
   "metadata": {},
   "outputs": [
    {
     "data": {
      "text/plain": [
       "{'eight', 'five', 'four', 'nine', 'one', 'seven', 'six', 'three', 'two'}"
      ]
     },
     "execution_count": 42,
     "metadata": {},
     "output_type": "execute_result"
    }
   ],
   "source": [
    "myset1  #myset1 will be also impacted as it is pointing to the same set"
   ]
  },
  {
   "cell_type": "code",
   "execution_count": 43,
   "id": "48336ba1-de1d-41a3-ac28-b729480caa02",
   "metadata": {},
   "outputs": [
    {
     "data": {
      "text/plain": [
       "{'eight', 'five', 'four', 'one', 'seven', 'six', 'three', 'two'}"
      ]
     },
     "execution_count": 43,
     "metadata": {},
     "output_type": "execute_result"
    }
   ],
   "source": [
    "my_set  #copy of the set wan't be impacted due to changes made on the original s"
   ]
  },
  {
   "cell_type": "markdown",
   "id": "0e679761-51fa-4420-8865-0f71be3475c4",
   "metadata": {},
   "source": [
    "# Set operation"
   ]
  },
  {
   "cell_type": "markdown",
   "id": "74f2dcce-9b44-4132-9293-081fbc67b806",
   "metadata": {},
   "source": [
    "# 1.Union(|)"
   ]
  },
  {
   "cell_type": "code",
   "execution_count": 46,
   "id": "0a30e205-9b33-4889-b4d0-6823a20674e5",
   "metadata": {},
   "outputs": [],
   "source": [
    "a={1,2,3,4,5}\n",
    "b={4,5,6,7,8}\n",
    "c={8,9,10}"
   ]
  },
  {
   "cell_type": "code",
   "execution_count": 47,
   "id": "77c721bf-fed5-41d3-82ae-5e4745e0879b",
   "metadata": {},
   "outputs": [
    {
     "data": {
      "text/plain": [
       "{1, 2, 3, 4, 5, 6, 7, 8}"
      ]
     },
     "execution_count": 47,
     "metadata": {},
     "output_type": "execute_result"
    }
   ],
   "source": [
    "a|b #Union of a and b (All elements from both sets.NO DUPLICATES)"
   ]
  },
  {
   "cell_type": "code",
   "execution_count": 48,
   "id": "5e27fefb-e8e5-4cee-86d2-941d1984dd1e",
   "metadata": {},
   "outputs": [
    {
     "data": {
      "text/plain": [
       "{1, 2, 3, 4, 5, 6, 7, 8}"
      ]
     },
     "execution_count": 48,
     "metadata": {},
     "output_type": "execute_result"
    }
   ],
   "source": [
    "a.union(b)  #Union of a and b"
   ]
  },
  {
   "cell_type": "code",
   "execution_count": 49,
   "id": "2a47dac7-a8d9-464b-a414-37e80654f7a1",
   "metadata": {},
   "outputs": [
    {
     "data": {
      "text/plain": [
       "{1, 2, 3, 4, 5, 6, 7, 8, 9, 10}"
      ]
     },
     "execution_count": 49,
     "metadata": {},
     "output_type": "execute_result"
    }
   ],
   "source": [
    "a.union(b,c)   #Union of A,B and C"
   ]
  },
  {
   "cell_type": "code",
   "execution_count": 50,
   "id": "c9906762-3f60-40ce-a1af-0a3e5064a4f0",
   "metadata": {},
   "outputs": [
    {
     "data": {
      "text/plain": [
       "{1, 2, 3, 4, 5, 6, 7, 8, 9, 10}"
      ]
     },
     "execution_count": 50,
     "metadata": {},
     "output_type": "execute_result"
    }
   ],
   "source": [
    "\"\"\"\n",
    "updates the set calling the update() method with union of A,B and C.\n",
    "for below example set a will ve updated with union of A,B & C.\n",
    "\"\"\"\n",
    "a.update(b,c)\n",
    "a"
   ]
  },
  {
   "cell_type": "markdown",
   "id": "978ca087-3c3f-40c4-86b9-610d16621318",
   "metadata": {},
   "source": [
    "# 2.Intersection"
   ]
  },
  {
   "cell_type": "code",
   "execution_count": 52,
   "id": "372cdd31-3003-41f4-b3cd-970d85c6549c",
   "metadata": {},
   "outputs": [],
   "source": [
    "A={1,2,3,4,5}\n",
    "B={4,5,6,7,8}"
   ]
  },
  {
   "cell_type": "code",
   "execution_count": 53,
   "id": "bc46dbce-5535-4d73-a80a-46a68f25952f",
   "metadata": {},
   "outputs": [
    {
     "data": {
      "text/plain": [
       "{4, 5}"
      ]
     },
     "execution_count": 53,
     "metadata": {},
     "output_type": "execute_result"
    }
   ],
   "source": [
    "A&B"
   ]
  },
  {
   "cell_type": "code",
   "execution_count": 54,
   "id": "8e63d084-0bdf-4578-a645-606cae0553a2",
   "metadata": {},
   "outputs": [
    {
     "data": {
      "text/plain": [
       "{4, 5}"
      ]
     },
     "execution_count": 54,
     "metadata": {},
     "output_type": "execute_result"
    }
   ],
   "source": [
    "A.intersection(B) # Intersection of A and B           "
   ]
  },
  {
   "cell_type": "code",
   "execution_count": 55,
   "id": "0c82de16-b144-4f09-b587-a6e84308d728",
   "metadata": {},
   "outputs": [
    {
     "data": {
      "text/plain": [
       "{4, 5}"
      ]
     },
     "execution_count": 55,
     "metadata": {},
     "output_type": "execute_result"
    }
   ],
   "source": [
    "\"\"\"\n",
    "Updates the set calling the intersection_update() method with the intersection of\n",
    "For below example Set A Will be updated with the intersection of A&B.\n",
    "\"\"\"\n",
    "A.intersection_update(B)\n",
    "A"
   ]
  },
  {
   "cell_type": "markdown",
   "id": "176b52bf-360c-4c96-bffc-ea69cdfb4145",
   "metadata": {},
   "source": [
    "# 3.Differnce  (-)"
   ]
  },
  {
   "cell_type": "code",
   "execution_count": 57,
   "id": "aaa5b10c-dd07-49a6-8636-066fd2a9a264",
   "metadata": {},
   "outputs": [],
   "source": [
    "A={1,2,3,4,5}\n",
    "B={4,5,6,7,8}"
   ]
  },
  {
   "cell_type": "code",
   "execution_count": 58,
   "id": "f8096702-e719-4490-b4a9-7833af3ca9d3",
   "metadata": {},
   "outputs": [
    {
     "data": {
      "text/plain": [
       "{1, 2, 3}"
      ]
     },
     "execution_count": 58,
     "metadata": {},
     "output_type": "execute_result"
    }
   ],
   "source": [
    "A-B  #set of elements that are only A but not in B"
   ]
  },
  {
   "cell_type": "code",
   "execution_count": 59,
   "id": "06ece738-a6be-4060-9159-7578518cc230",
   "metadata": {},
   "outputs": [
    {
     "data": {
      "text/plain": [
       "{1, 2, 3}"
      ]
     },
     "execution_count": 59,
     "metadata": {},
     "output_type": "execute_result"
    }
   ],
   "source": [
    "A.difference(B)   #Differnce of sets"
   ]
  },
  {
   "cell_type": "code",
   "execution_count": 60,
   "id": "69020ec9-64eb-48bc-9743-516119b02c7d",
   "metadata": {},
   "outputs": [
    {
     "data": {
      "text/plain": [
       "{6, 7, 8}"
      ]
     },
     "execution_count": 60,
     "metadata": {},
     "output_type": "execute_result"
    }
   ],
   "source": [
    "B-A  #set of elements that are only in B but not in A"
   ]
  },
  {
   "cell_type": "code",
   "execution_count": 61,
   "id": "9a2fd243-4a30-499d-8105-4281e4d16af1",
   "metadata": {},
   "outputs": [
    {
     "data": {
      "text/plain": [
       "{6, 7, 8}"
      ]
     },
     "execution_count": 61,
     "metadata": {},
     "output_type": "execute_result"
    }
   ],
   "source": [
    "B.difference(A)"
   ]
  },
  {
   "cell_type": "code",
   "execution_count": 62,
   "id": "c0ec7090-e042-4710-a79d-1d53b822ba4e",
   "metadata": {},
   "outputs": [
    {
     "data": {
      "text/plain": [
       "{6, 7, 8}"
      ]
     },
     "execution_count": 62,
     "metadata": {},
     "output_type": "execute_result"
    }
   ],
   "source": [
    "\"\"\"\n",
    "\n",
    "\n",
    "Updates the set calling the difference_update() method with the difference of\n",
    "For below example Set B Will be updated with the differnce of B&A.\n",
    "\"\"\"\n",
    "B.difference_update(A)\n",
    "B"
   ]
  },
  {
   "cell_type": "markdown",
   "id": "cbb77ac9-c2e3-4e74-af6b-d321ae76caad",
   "metadata": {},
   "source": [
    "# 4.Symmetric Diffference  (^)"
   ]
  },
  {
   "cell_type": "code",
   "execution_count": 64,
   "id": "00b85d3d-142c-4211-a157-98a9ad15bc12",
   "metadata": {},
   "outputs": [],
   "source": [
    "A={1,2,3,4,5}\n",
    "B={4,5,6,7,8}"
   ]
  },
  {
   "cell_type": "code",
   "execution_count": 65,
   "id": "e686425f-c897-4f60-b8b0-acdeab4c8db9",
   "metadata": {},
   "outputs": [
    {
     "data": {
      "text/plain": [
       "{1, 2, 3, 6, 7, 8}"
      ]
     },
     "execution_count": 65,
     "metadata": {},
     "output_type": "execute_result"
    }
   ],
   "source": [
    "A^B  #Symmetric differnce(Set of elements in A and B but not in both,\"EXECUTE\")"
   ]
  },
  {
   "cell_type": "code",
   "execution_count": 66,
   "id": "60036461-3a72-4f9b-8b3b-8ae0e0e18bd1",
   "metadata": {},
   "outputs": [
    {
     "data": {
      "text/plain": [
       "{1, 2, 3, 6, 7, 8}"
      ]
     },
     "execution_count": 66,
     "metadata": {},
     "output_type": "execute_result"
    }
   ],
   "source": [
    "A.symmetric_difference(B)  #Symmetric difference of sets"
   ]
  },
  {
   "cell_type": "code",
   "execution_count": 68,
   "id": "db312722-38a4-43f2-a183-d7cb9cc01fca",
   "metadata": {},
   "outputs": [
    {
     "data": {
      "text/plain": [
       "{1, 2, 3, 4, 5}"
      ]
     },
     "execution_count": 68,
     "metadata": {},
     "output_type": "execute_result"
    }
   ],
   "source": [
    "\"\"\"\n",
    "Updates the set calling the symmetric_differnce_update() method with the symmetric of\n",
    "For below example Set A Will be updated with the difference of A&B.\n",
    "\"\"\"\n",
    "A.symmetric_difference_update(B)\n",
    "A"
   ]
  },
  {
   "cell_type": "markdown",
   "id": "545ad4fd-2aa7-4799-9ee4-d90e52ffc5d0",
   "metadata": {},
   "source": [
    "# 5.Subset,Superset& Disjoint"
   ]
  },
  {
   "cell_type": "code",
   "execution_count": 75,
   "id": "3b83f4b6-ec08-469b-b4b5-78e13050d4c9",
   "metadata": {},
   "outputs": [],
   "source": [
    "A={1,2,3,4,5,6,7,8,9}\n",
    "B={3,4,5,6,7,8}\n",
    "C={10,20,30}"
   ]
  },
  {
   "cell_type": "code",
   "execution_count": 76,
   "id": "eae52a74-9f62-4b4d-a28c-562de057c7b2",
   "metadata": {},
   "outputs": [
    {
     "data": {
      "text/plain": [
       "True"
      ]
     },
     "execution_count": 76,
     "metadata": {},
     "output_type": "execute_result"
    }
   ],
   "source": [
    "B.issubset(A)  #Set B os said to be the subet of set A if all elements of B are"
   ]
  },
  {
   "cell_type": "code",
   "execution_count": 77,
   "id": "b777fd46-a9be-43ca-9e98-f792d01ee7d1",
   "metadata": {},
   "outputs": [
    {
     "data": {
      "text/plain": [
       "True"
      ]
     },
     "execution_count": 77,
     "metadata": {},
     "output_type": "execute_result"
    }
   ],
   "source": [
    "A.issuperset(B)  #Set A is said to be the superset of set B if all elements of B"
   ]
  },
  {
   "cell_type": "code",
   "execution_count": 78,
   "id": "555e38e4-eacb-4b2f-bd78-ce8b77fb07ce",
   "metadata": {},
   "outputs": [
    {
     "data": {
      "text/plain": [
       "True"
      ]
     },
     "execution_count": 78,
     "metadata": {},
     "output_type": "execute_result"
    }
   ],
   "source": [
    "C.isdisjoint(A) #Two sets are said to be disjoint sets if they have no common e"
   ]
  },
  {
   "cell_type": "code",
   "execution_count": 79,
   "id": "90276b60-e2af-4567-ae0d-55edd92cd88e",
   "metadata": {},
   "outputs": [
    {
     "data": {
      "text/plain": [
       "False"
      ]
     },
     "execution_count": 79,
     "metadata": {},
     "output_type": "execute_result"
    }
   ],
   "source": [
    "B.isdisjoint(A)  #Two sets are said to be disjoint sets if they have no common e"
   ]
  },
  {
   "cell_type": "markdown",
   "id": "c33e6879-6c62-45be-8222-85a26294ec0d",
   "metadata": {},
   "source": [
    "# Other Build in Function"
   ]
  },
  {
   "cell_type": "code",
   "execution_count": 81,
   "id": "342868f6-8e26-4525-868c-6a052bb50ab9",
   "metadata": {},
   "outputs": [
    {
     "data": {
      "text/plain": [
       "{1, 2, 3, 4, 5, 6, 7, 8, 9}"
      ]
     },
     "execution_count": 81,
     "metadata": {},
     "output_type": "execute_result"
    }
   ],
   "source": [
    "A"
   ]
  },
  {
   "cell_type": "code",
   "execution_count": 82,
   "id": "174936b3-73f8-4f61-bc35-1c0c85e732eb",
   "metadata": {},
   "outputs": [
    {
     "data": {
      "text/plain": [
       "45"
      ]
     },
     "execution_count": 82,
     "metadata": {},
     "output_type": "execute_result"
    }
   ],
   "source": [
    "sum(A)"
   ]
  },
  {
   "cell_type": "code",
   "execution_count": 83,
   "id": "21f11e98-4fe5-4c59-94e9-150a5643a95a",
   "metadata": {},
   "outputs": [
    {
     "data": {
      "text/plain": [
       "9"
      ]
     },
     "execution_count": 83,
     "metadata": {},
     "output_type": "execute_result"
    }
   ],
   "source": [
    "max(A)"
   ]
  },
  {
   "cell_type": "code",
   "execution_count": 84,
   "id": "c5d38f13-08f7-4667-b5fc-77222ae8410b",
   "metadata": {},
   "outputs": [
    {
     "data": {
      "text/plain": [
       "1"
      ]
     },
     "execution_count": 84,
     "metadata": {},
     "output_type": "execute_result"
    }
   ],
   "source": [
    "min(A)"
   ]
  },
  {
   "cell_type": "code",
   "execution_count": 85,
   "id": "a9e26a69-b34c-476f-8eb5-448e00ea6611",
   "metadata": {},
   "outputs": [
    {
     "data": {
      "text/plain": [
       "9"
      ]
     },
     "execution_count": 85,
     "metadata": {},
     "output_type": "execute_result"
    }
   ],
   "source": [
    "len(A)"
   ]
  },
  {
   "cell_type": "code",
   "execution_count": 86,
   "id": "15d47290-4b6d-4c79-aa34-a99f080c45e5",
   "metadata": {},
   "outputs": [
    {
     "data": {
      "text/plain": [
       "[(0, 1), (1, 2), (2, 3), (3, 4), (4, 5), (5, 6), (6, 7), (7, 8), (8, 9)]"
      ]
     },
     "execution_count": 86,
     "metadata": {},
     "output_type": "execute_result"
    }
   ],
   "source": [
    "list(enumerate(A))"
   ]
  },
  {
   "cell_type": "code",
   "execution_count": 89,
   "id": "ca5aae45-ddd9-47a9-b552-ca9ecd7db43c",
   "metadata": {},
   "outputs": [
    {
     "data": {
      "text/plain": [
       "[9, 8, 7, 6, 5, 4, 3, 2, 1]"
      ]
     },
     "execution_count": 89,
     "metadata": {},
     "output_type": "execute_result"
    }
   ],
   "source": [
    "D=sorted(A,reverse=True)\n",
    "D"
   ]
  },
  {
   "cell_type": "code",
   "execution_count": 90,
   "id": "b948baff-555b-4c9a-811f-62310625cc12",
   "metadata": {},
   "outputs": [
    {
     "data": {
      "text/plain": [
       "[1, 2, 3, 4, 5, 6, 7, 8, 9]"
      ]
     },
     "execution_count": 90,
     "metadata": {},
     "output_type": "execute_result"
    }
   ],
   "source": [
    "sorted(D)"
   ]
  },
  {
   "cell_type": "markdown",
   "id": "8e27b6b1-1e83-412c-8c24-bc83fc4955e6",
   "metadata": {},
   "source": [
    "# Create Dictionary"
   ]
  },
  {
   "cell_type": "code",
   "execution_count": 92,
   "id": "11abf694-24fb-46d6-83aa-89eebe92175c",
   "metadata": {},
   "outputs": [
    {
     "data": {
      "text/plain": [
       "{}"
      ]
     },
     "execution_count": 92,
     "metadata": {},
     "output_type": "execute_result"
    }
   ],
   "source": [
    "mydict=dict()  #empty dict\n",
    "mydict"
   ]
  },
  {
   "cell_type": "code",
   "execution_count": 93,
   "id": "6c6c4220-e05e-4c13-b6d7-720d442d7423",
   "metadata": {},
   "outputs": [
    {
     "data": {
      "text/plain": [
       "{}"
      ]
     },
     "execution_count": 93,
     "metadata": {},
     "output_type": "execute_result"
    }
   ],
   "source": [
    "mydict={}  #empty dict\n",
    "mydict"
   ]
  },
  {
   "cell_type": "code",
   "execution_count": 94,
   "id": "5ca4c60d-35ba-4f64-915f-e043cb7e0ec3",
   "metadata": {},
   "outputs": [
    {
     "data": {
      "text/plain": [
       "{1: 'one', 2: 'Two', 3: 'Three'}"
      ]
     },
     "execution_count": 94,
     "metadata": {},
     "output_type": "execute_result"
    }
   ],
   "source": [
    "mydict={1:'one',2:'Two',3:'Three'}  #dict with integer keys"
   ]
  },
  {
   "cell_type": "code",
   "execution_count": 96,
   "id": "463fa4e1-551a-4840-8fd9-6eb87d2c6a00",
   "metadata": {},
   "outputs": [
    {
     "data": {
      "text/plain": [
       "{'one': 1, 'Two': 2, 'Three': 3}"
      ]
     },
     "execution_count": 96,
     "metadata": {},
     "output_type": "execute_result"
    }
   ],
   "source": [
    "my_dict={'one':1,'Two':2,'Three':3}  #Create dict using dict()\n",
    "my_dict"
   ]
  },
  {
   "cell_type": "code",
   "execution_count": 97,
   "id": "3c014845-cec8-404f-b421-524c57a43b2e",
   "metadata": {},
   "outputs": [
    {
     "data": {
      "text/plain": [
       "{'A': 'one', 'B': 'Two', 'C': 'Three'}"
      ]
     },
     "execution_count": 97,
     "metadata": {},
     "output_type": "execute_result"
    }
   ],
   "source": [
    "mydict1={'A':'one','B':'Two','C':'Three'}  #dict with chracter keys\n",
    "mydict1"
   ]
  },
  {
   "cell_type": "code",
   "execution_count": 98,
   "id": "883c2215-7caa-4d50-ba1e-529faf9d9f64",
   "metadata": {},
   "outputs": [
    {
     "data": {
      "text/plain": [
       "{1: 'one', 'A': 'Two', 3: 'three'}"
      ]
     },
     "execution_count": 98,
     "metadata": {},
     "output_type": "execute_result"
    }
   ],
   "source": [
    "mydict={1:'one','A':'Two',3:'three'}  #Dict with mixed keys\n",
    "mydict"
   ]
  },
  {
   "cell_type": "code",
   "execution_count": 100,
   "id": "e8ddf3f0-0342-4e31-9df4-d03495fe968f",
   "metadata": {},
   "outputs": [
    {
     "data": {
      "text/plain": [
       "dict_keys([1, 'A', 3])"
      ]
     },
     "execution_count": 100,
     "metadata": {},
     "output_type": "execute_result"
    }
   ],
   "source": [
    "mydict.keys()  #Return dict keys using keys() method"
   ]
  },
  {
   "cell_type": "code",
   "execution_count": 101,
   "id": "443ea39a-df2a-426c-a704-2d81fb2fe74a",
   "metadata": {},
   "outputs": [
    {
     "data": {
      "text/plain": [
       "dict_values(['one', 'Two', 'three'])"
      ]
     },
     "execution_count": 101,
     "metadata": {},
     "output_type": "execute_result"
    }
   ],
   "source": [
    "mydict.values()  #Return dict values using values() method"
   ]
  },
  {
   "cell_type": "code",
   "execution_count": 103,
   "id": "ea367f77-c4f6-467a-998f-86eab7970dd7",
   "metadata": {},
   "outputs": [
    {
     "data": {
      "text/plain": [
       "dict_items([(1, 'one'), ('A', 'Two'), (3, 'three')])"
      ]
     },
     "execution_count": 103,
     "metadata": {},
     "output_type": "execute_result"
    }
   ],
   "source": [
    "mydict.items() #Access each key-value pair within a dictionary"
   ]
  },
  {
   "cell_type": "code",
   "execution_count": 104,
   "id": "ee079972-139a-4d44-87e2-0b18ded28ae1",
   "metadata": {},
   "outputs": [
    {
     "data": {
      "text/plain": [
       "{1: 'one', 2: 'Two', 'A': ['aid', 'john', 'maria']}"
      ]
     },
     "execution_count": 104,
     "metadata": {},
     "output_type": "execute_result"
    }
   ],
   "source": [
    "mydict={1:'one',2:'Two','A':['aid','john','maria']}  #dictionary with mixed data types\n",
    "mydict"
   ]
  },
  {
   "cell_type": "code",
   "execution_count": 107,
   "id": "f2f2c9d4-be3c-4e80-97bd-1e34e702ed15",
   "metadata": {},
   "outputs": [
    {
     "data": {
      "text/plain": [
       "{1: 'one', 2: 'two', 'A': {'Name': 'asif', 'Age': 20}, 'B': ('bat', 'cat')}"
      ]
     },
     "execution_count": 107,
     "metadata": {},
     "output_type": "execute_result"
    }
   ],
   "source": [
    "mydict={1:'one',2:'two','A':{'Name':'asif','Age':20},'B':('bat','cat')}\n",
    "mydict"
   ]
  },
  {
   "cell_type": "code",
   "execution_count": 109,
   "id": "c829b2a5-fe8b-4479-8e0d-d9f7eddeec34",
   "metadata": {},
   "outputs": [
    {
     "data": {
      "text/plain": [
       "{'a': None, 'b': None, 'c': None, 'd': None}"
      ]
     },
     "execution_count": 109,
     "metadata": {},
     "output_type": "execute_result"
    }
   ],
   "source": [
    "keys={'a','b','c','d'}\n",
    "mydict3=dict.fromkeys(keys)  #Create a dict from a sequence of keys\n",
    "mydict3"
   ]
  },
  {
   "cell_type": "code",
   "execution_count": 110,
   "id": "3cc311df-daa0-43f8-b64d-47b779590975",
   "metadata": {},
   "outputs": [
    {
     "data": {
      "text/plain": [
       "{'a': 10, 'b': 10, 'c': 10, 'd': 10}"
      ]
     },
     "execution_count": 110,
     "metadata": {},
     "output_type": "execute_result"
    }
   ],
   "source": [
    "keys={'a','b','c','d'}\n",
    "value=10\n",
    "mydict3=dict.fromkeys(keys,value)  #Create a dict from a sequence of keys\n",
    "mydict3"
   ]
  },
  {
   "cell_type": "code",
   "execution_count": 2,
   "id": "487abfd9-9625-4f7f-a611-3f0602ef584a",
   "metadata": {},
   "outputs": [
    {
     "data": {
      "text/plain": [
       "{'d': [10, 20, 30], 'a': [10, 20, 30], 'c': [10, 20, 30], 'b': [10, 20, 30]}"
      ]
     },
     "execution_count": 2,
     "metadata": {},
     "output_type": "execute_result"
    }
   ],
   "source": [
    "keys={'a','b','c','d'}\n",
    "value=[10,20,30]\n",
    "mydict3=dict.fromkeys(keys,value)  #Create a dictionary from a sequence of\n",
    "mydict3"
   ]
  },
  {
   "cell_type": "code",
   "execution_count": 3,
   "id": "8847e321-36e1-413b-87da-0c106e185fa4",
   "metadata": {},
   "outputs": [
    {
     "data": {
      "text/plain": [
       "{'d': [10, 20, 30, 40],\n",
       " 'a': [10, 20, 30, 40],\n",
       " 'c': [10, 20, 30, 40],\n",
       " 'b': [10, 20, 30, 40]}"
      ]
     },
     "execution_count": 3,
     "metadata": {},
     "output_type": "execute_result"
    }
   ],
   "source": [
    "value.append(40)\n",
    "mydict3"
   ]
  },
  {
   "cell_type": "markdown",
   "id": "e7685def-8bbe-442e-86cf-c021fd5f9579",
   "metadata": {},
   "source": [
    "# Accessibg items"
   ]
  },
  {
   "cell_type": "code",
   "execution_count": 7,
   "id": "cbf7da68-ef13-4161-8a9b-2ea1b01ca900",
   "metadata": {},
   "outputs": [
    {
     "data": {
      "text/plain": [
       "{1: 'one', 2: 'two', 3: 'three', 4: 'four'}"
      ]
     },
     "execution_count": 7,
     "metadata": {},
     "output_type": "execute_result"
    }
   ],
   "source": [
    "mydict={1:'one',2:'two',3:'three',4:'four'}\n",
    "mydict"
   ]
  },
  {
   "cell_type": "code",
   "execution_count": 8,
   "id": "e743f3a1-aafe-47e0-b7d7-78d6bf286c63",
   "metadata": {},
   "outputs": [
    {
     "data": {
      "text/plain": [
       "'one'"
      ]
     },
     "execution_count": 8,
     "metadata": {},
     "output_type": "execute_result"
    }
   ],
   "source": [
    "mydict[1]  #Access item using key"
   ]
  },
  {
   "cell_type": "code",
   "execution_count": 9,
   "id": "bbb1abe7-fd31-42b3-8951-0f5b400e33c1",
   "metadata": {},
   "outputs": [
    {
     "data": {
      "text/plain": [
       "'one'"
      ]
     },
     "execution_count": 9,
     "metadata": {},
     "output_type": "execute_result"
    }
   ],
   "source": [
    "mydict.get(1)   #Accessing item using get() method"
   ]
  },
  {
   "cell_type": "code",
   "execution_count": 10,
   "id": "f962aca7-d0f4-4adc-9fd4-db7ed01e9669",
   "metadata": {},
   "outputs": [
    {
     "data": {
      "text/plain": [
       "{'Name': 'Asif', 'ID': 452, 'DOB': 1991, 'job': 'Analyst'}"
      ]
     },
     "execution_count": 10,
     "metadata": {},
     "output_type": "execute_result"
    }
   ],
   "source": [
    "mydict1={'Name':'Asif','ID':452,'DOB':1991,'job':'Analyst'}\n",
    "mydict1"
   ]
  },
  {
   "cell_type": "code",
   "execution_count": 11,
   "id": "99f63b6c-17b7-45b0-9d2f-0cb2b1d422cf",
   "metadata": {},
   "outputs": [
    {
     "data": {
      "text/plain": [
       "'Asif'"
      ]
     },
     "execution_count": 11,
     "metadata": {},
     "output_type": "execute_result"
    }
   ],
   "source": [
    "mydict1['Name']  #Access item using key"
   ]
  },
  {
   "cell_type": "code",
   "execution_count": 12,
   "id": "f8968a62-dfcc-4238-be24-4e32e812fa3b",
   "metadata": {},
   "outputs": [
    {
     "data": {
      "text/plain": [
       "'Analyst'"
      ]
     },
     "execution_count": 12,
     "metadata": {},
     "output_type": "execute_result"
    }
   ],
   "source": [
    "mydict1.get('job')  #Access item using get() method"
   ]
  },
  {
   "cell_type": "markdown",
   "id": "47ca1b95-3932-4418-b51d-30d66fb0f490",
   "metadata": {},
   "source": [
    "# Add,Remove & Change Items"
   ]
  },
  {
   "cell_type": "code",
   "execution_count": 14,
   "id": "b35a3658-2e42-4aed-9fbe-77ec30949403",
   "metadata": {},
   "outputs": [
    {
     "data": {
      "text/plain": [
       "{'Name': 'Asif', 'ID': 123, 'DOB': 1991, 'Address': 'hyderbad'}"
      ]
     },
     "execution_count": 14,
     "metadata": {},
     "output_type": "execute_result"
    }
   ],
   "source": [
    "mydict1={'Name':'Asif','ID':123,'DOB':1991,'Address':'hyderbad'}\n",
    "mydict1"
   ]
  },
  {
   "cell_type": "code",
   "execution_count": 15,
   "id": "ad64b291-9369-4fdb-a736-0ee8e2fde943",
   "metadata": {},
   "outputs": [
    {
     "data": {
      "text/plain": [
       "{'Name': 'Asif', 'ID': 123, 'DOB': 1992, 'Address': 'Delhi'}"
      ]
     },
     "execution_count": 15,
     "metadata": {},
     "output_type": "execute_result"
    }
   ],
   "source": [
    "mydict1['DOB']=1992  #Changing the dict Items\n",
    "mydict1['Address']='Delhi'\n",
    "mydict1"
   ]
  },
  {
   "cell_type": "code",
   "execution_count": 16,
   "id": "f3b44dd2-e154-4219-b6f7-587039ddb589",
   "metadata": {},
   "outputs": [
    {
     "data": {
      "text/plain": [
       "{'Name': 'Asif', 'ID': 123, 'DOB': 1995, 'Address': 'Delhi'}"
      ]
     },
     "execution_count": 16,
     "metadata": {},
     "output_type": "execute_result"
    }
   ],
   "source": [
    "dict1={'DOB':1995}\n",
    "mydict1.update(dict1)\n",
    "mydict1"
   ]
  },
  {
   "cell_type": "code",
   "execution_count": 21,
   "id": "e45462ce-9aee-407f-aa31-1506f34f05c1",
   "metadata": {},
   "outputs": [
    {
     "data": {
      "text/plain": [
       "{1: 'one', 2: 'two', 3: 'three', 4: 'four', 'job': 'Analyst'}"
      ]
     },
     "execution_count": 21,
     "metadata": {},
     "output_type": "execute_result"
    }
   ],
   "source": [
    "mydict['job']='Analyst'  #Adding items in the dictionary\n",
    "mydict"
   ]
  },
  {
   "cell_type": "code",
   "execution_count": null,
   "id": "203f4350-dff0-434c-a43f-af1fb7dff93b",
   "metadata": {},
   "outputs": [],
   "source": []
  },
  {
   "cell_type": "code",
   "execution_count": 27,
   "id": "55141c1d-da20-434e-ac72-21f1173dfda7",
   "metadata": {},
   "outputs": [
    {
     "data": {
      "text/plain": [
       "{'ID': 123, 'DOB': 1995, 'Address': 'Delhi'}"
      ]
     },
     "execution_count": 27,
     "metadata": {},
     "output_type": "execute_result"
    }
   ],
   "source": [
    "mydict1.pop('Name')  #Removing items in the dict using pop method\n",
    "mydict1"
   ]
  },
  {
   "cell_type": "code",
   "execution_count": 28,
   "id": "31da7cd3-6329-4a61-a312-b7cceebb4239",
   "metadata": {},
   "outputs": [
    {
     "data": {
      "text/plain": [
       "('Address', 'Delhi')"
      ]
     },
     "execution_count": 28,
     "metadata": {},
     "output_type": "execute_result"
    }
   ],
   "source": [
    "mydict1.popitem()  #A random item is removed"
   ]
  },
  {
   "cell_type": "code",
   "execution_count": 29,
   "id": "cd1c1792-0c2f-4663-8913-42831845665c",
   "metadata": {},
   "outputs": [
    {
     "data": {
      "text/plain": [
       "{'ID': 123, 'DOB': 1995}"
      ]
     },
     "execution_count": 29,
     "metadata": {},
     "output_type": "execute_result"
    }
   ],
   "source": [
    "mydict1"
   ]
  },
  {
   "cell_type": "code",
   "execution_count": 34,
   "id": "b6d237b7-a3ac-4755-a98f-8d12b8f45854",
   "metadata": {},
   "outputs": [
    {
     "data": {
      "text/plain": [
       "{'DOB': 1995}"
      ]
     },
     "execution_count": 34,
     "metadata": {},
     "output_type": "execute_result"
    }
   ],
   "source": [
    "del[mydict1['ID']]  #Removing item using del method\n",
    "mydict1"
   ]
  },
  {
   "cell_type": "code",
   "execution_count": 35,
   "id": "fc4e6c56-f952-44f4-ac5b-277f6d4341d4",
   "metadata": {},
   "outputs": [
    {
     "data": {
      "text/plain": [
       "{}"
      ]
     },
     "execution_count": 35,
     "metadata": {},
     "output_type": "execute_result"
    }
   ],
   "source": [
    "mydict1.clear()   #Delete all items of the dict using clear method\n",
    "mydict1"
   ]
  },
  {
   "cell_type": "code",
   "execution_count": 36,
   "id": "421cc056-7fa5-4ba5-ace1-fba51a155752",
   "metadata": {},
   "outputs": [
    {
     "ename": "NameError",
     "evalue": "name 'mydict1' is not defined",
     "output_type": "error",
     "traceback": [
      "\u001b[31m---------------------------------------------------------------------------\u001b[39m",
      "\u001b[31mNameError\u001b[39m                                 Traceback (most recent call last)",
      "\u001b[36mCell\u001b[39m\u001b[36m \u001b[39m\u001b[32mIn[36]\u001b[39m\u001b[32m, line 2\u001b[39m\n\u001b[32m      1\u001b[39m \u001b[38;5;28;01mdel\u001b[39;00m mydict1  \u001b[38;5;66;03m#Delete the dict object\u001b[39;00m\n\u001b[32m----> \u001b[39m\u001b[32m2\u001b[39m \u001b[43mmydict1\u001b[49m\n",
      "\u001b[31mNameError\u001b[39m: name 'mydict1' is not defined"
     ]
    }
   ],
   "source": [
    "del mydict1  #Delete the dict object\n",
    "mydict1"
   ]
  },
  {
   "cell_type": "markdown",
   "id": "e275d89a-41d7-4029-9fb0-aecf733c13d4",
   "metadata": {},
   "source": [
    "# Copy Dictionary"
   ]
  },
  {
   "cell_type": "code",
   "execution_count": 38,
   "id": "4f15bb5a-93f5-45e3-85c0-bfb3bceb6840",
   "metadata": {},
   "outputs": [
    {
     "data": {
      "text/plain": [
       "{'Name': 'Asif', 'ID': 123, 'DOB': 1991, 'Address': 'hyderbad'}"
      ]
     },
     "execution_count": 38,
     "metadata": {},
     "output_type": "execute_result"
    }
   ],
   "source": [
    "mydict={'Name':'Asif','ID':123,'DOB':1991,'Address':'hyderbad'}\n",
    "mydict"
   ]
  },
  {
   "cell_type": "code",
   "execution_count": 41,
   "id": "d1f93674-c8f2-4d8f-bf61-192748fa5fc9",
   "metadata": {},
   "outputs": [],
   "source": [
    "mydict1=mydict  #Create a new refernce \"mydict\""
   ]
  },
  {
   "cell_type": "code",
   "execution_count": 42,
   "id": "4d7e7813-3d6d-402a-94a8-c6ef97bee835",
   "metadata": {},
   "outputs": [
    {
     "data": {
      "text/plain": [
       "(2209559984768, 2209559984768)"
      ]
     },
     "execution_count": 42,
     "metadata": {},
     "output_type": "execute_result"
    }
   ],
   "source": [
    "id(mydict),id(mydict1)  #The address of both mydict & mydict1 will be the same"
   ]
  },
  {
   "cell_type": "code",
   "execution_count": 43,
   "id": "ec45d7cb-1a9c-4935-a819-3010114d47ac",
   "metadata": {},
   "outputs": [],
   "source": [
    "mydict2=mydict.copy()  #Create a copy of the dict"
   ]
  },
  {
   "cell_type": "code",
   "execution_count": 45,
   "id": "e09bdc46-66e7-4528-9311-7f90c1124fd1",
   "metadata": {},
   "outputs": [
    {
     "data": {
      "text/plain": [
       "2209559980736"
      ]
     },
     "execution_count": 45,
     "metadata": {},
     "output_type": "execute_result"
    }
   ],
   "source": [
    "id(mydict2)  #The address of mydict2 will be different from mydict beacuse mydict"
   ]
  },
  {
   "cell_type": "code",
   "execution_count": 46,
   "id": "43c28b29-761e-458e-a19e-e28b8d69d907",
   "metadata": {},
   "outputs": [],
   "source": [
    "mydict['Address']='Mumbai'"
   ]
  },
  {
   "cell_type": "code",
   "execution_count": 47,
   "id": "435472cd-cde6-4846-8ab1-bb091e411487",
   "metadata": {},
   "outputs": [
    {
     "data": {
      "text/plain": [
       "{'Name': 'Asif', 'ID': 123, 'DOB': 1991, 'Address': 'Mumbai'}"
      ]
     },
     "execution_count": 47,
     "metadata": {},
     "output_type": "execute_result"
    }
   ],
   "source": [
    "mydict"
   ]
  },
  {
   "cell_type": "code",
   "execution_count": 48,
   "id": "26955b09-9f53-4696-a92d-a4288a1165d4",
   "metadata": {},
   "outputs": [
    {
     "data": {
      "text/plain": [
       "{'Name': 'Asif', 'ID': 123, 'DOB': 1991, 'Address': 'Mumbai'}"
      ]
     },
     "execution_count": 48,
     "metadata": {},
     "output_type": "execute_result"
    }
   ],
   "source": [
    "mydict1  #mydict1 will be also impacted as it is pointing to the same dict"
   ]
  },
  {
   "cell_type": "code",
   "execution_count": 49,
   "id": "05021ff3-0ba3-44d5-9d59-c650d780a184",
   "metadata": {},
   "outputs": [
    {
     "data": {
      "text/plain": [
       "{'Name': 'Asif', 'ID': 123, 'DOB': 1991, 'Address': 'hyderbad'}"
      ]
     },
     "execution_count": 49,
     "metadata": {},
     "output_type": "execute_result"
    }
   ],
   "source": [
    "mydict2  #copy of list wan't be impacted due to the changes made in the original "
   ]
  },
  {
   "cell_type": "markdown",
   "id": "a8f41d1b-b62f-4433-a7dc-af36dfacd0bc",
   "metadata": {},
   "source": [
    "# Loop Through a Dictionary"
   ]
  },
  {
   "cell_type": "code",
   "execution_count": 51,
   "id": "c95932a7-b80a-41e4-a9fc-0df39267e4ba",
   "metadata": {},
   "outputs": [
    {
     "data": {
      "text/plain": [
       "{'Name': 'Asif', 'ID': 123, 'DOB': 1991, 'Address': 'hyderbad'}"
      ]
     },
     "execution_count": 51,
     "metadata": {},
     "output_type": "execute_result"
    }
   ],
   "source": [
    "mydict1={'Name':'Asif','ID':123,'DOB':1991,'Address':'hyderbad'}\n",
    "mydict1"
   ]
  },
  {
   "cell_type": "code",
   "execution_count": 52,
   "id": "c239d417-354c-454a-895a-60fd203563fc",
   "metadata": {},
   "outputs": [
    {
     "name": "stdout",
     "output_type": "stream",
     "text": [
      "Name : Asif\n",
      "ID : 123\n",
      "DOB : 1991\n",
      "Address : Mumbai\n"
     ]
    }
   ],
   "source": [
    "for i in mydict1:\n",
    "    print(i,':',mydict[i])  #Key & value pair"
   ]
  },
  {
   "cell_type": "code",
   "execution_count": 53,
   "id": "cf8978f2-8f68-46a3-9fce-8ca3959a3222",
   "metadata": {},
   "outputs": [
    {
     "name": "stdout",
     "output_type": "stream",
     "text": [
      "Asif\n",
      "123\n",
      "1991\n",
      "Mumbai\n"
     ]
    }
   ],
   "source": [
    "for i in mydict1:\n",
    "    print(mydict[i])  #Dictionary items"
   ]
  },
  {
   "cell_type": "markdown",
   "id": "9d9dcecc-9238-41d6-8f43-2c777afbd056",
   "metadata": {},
   "source": [
    "# Dictionary Membership"
   ]
  },
  {
   "cell_type": "code",
   "execution_count": 55,
   "id": "9e539870-473a-442e-abe7-688b72c9b282",
   "metadata": {},
   "outputs": [
    {
     "data": {
      "text/plain": [
       "{'Name': 'Asif', 'ID': 123, 'DOB': 1991, 'Address': 'hyderbad'}"
      ]
     },
     "execution_count": 55,
     "metadata": {},
     "output_type": "execute_result"
    }
   ],
   "source": [
    "mydict1={'Name':'Asif','ID':123,'DOB':1991,'Address':'hyderbad'}\n",
    "mydict1"
   ]
  },
  {
   "cell_type": "code",
   "execution_count": 56,
   "id": "5b0e0397-5102-4c12-9517-993784a3ebcd",
   "metadata": {},
   "outputs": [
    {
     "data": {
      "text/plain": [
       "True"
      ]
     },
     "execution_count": 56,
     "metadata": {},
     "output_type": "execute_result"
    }
   ],
   "source": [
    "'Name' in mydict1  #Test if a key is in a dictionary or not"
   ]
  },
  {
   "cell_type": "code",
   "execution_count": 57,
   "id": "46309281-97da-4870-84c7-a31ec847d867",
   "metadata": {},
   "outputs": [
    {
     "data": {
      "text/plain": [
       "False"
      ]
     },
     "execution_count": 57,
     "metadata": {},
     "output_type": "execute_result"
    }
   ],
   "source": [
    "'Asif' in mydict1  #Membership test can be only done for keys"
   ]
  },
  {
   "cell_type": "code",
   "execution_count": 58,
   "id": "ad82618a-3fd8-4398-b1b5-ef02c5144fc9",
   "metadata": {},
   "outputs": [
    {
     "data": {
      "text/plain": [
       "True"
      ]
     },
     "execution_count": 58,
     "metadata": {},
     "output_type": "execute_result"
    }
   ],
   "source": [
    "'ID' in mydict1"
   ]
  },
  {
   "cell_type": "code",
   "execution_count": 59,
   "id": "e7e463e0-bc7f-4d9e-9590-7c3be768d952",
   "metadata": {},
   "outputs": [
    {
     "data": {
      "text/plain": [
       "True"
      ]
     },
     "execution_count": 59,
     "metadata": {},
     "output_type": "execute_result"
    }
   ],
   "source": [
    "'Address' in mydict1"
   ]
  },
  {
   "cell_type": "markdown",
   "id": "9db810c9-65ce-4fe5-bebb-24580d22239c",
   "metadata": {},
   "source": [
    "# All/Any"
   ]
  },
  {
   "cell_type": "code",
   "execution_count": 61,
   "id": "aaea2a98-2f1d-4ef4-a9a0-ac139a220d28",
   "metadata": {},
   "outputs": [
    {
     "data": {
      "text/plain": [
       "{'Name': 'Asif', 'ID': 123, 'DOB': 1991, 'Address': 'hyderbad'}"
      ]
     },
     "execution_count": 61,
     "metadata": {},
     "output_type": "execute_result"
    }
   ],
   "source": [
    "mydict1={'Name':'Asif','ID':123,'DOB':1991,'Address':'hyderbad'}\n",
    "mydict1"
   ]
  },
  {
   "cell_type": "code",
   "execution_count": 62,
   "id": "79268dfc-e688-4c48-b06e-429251314557",
   "metadata": {},
   "outputs": [
    {
     "data": {
      "text/plain": [
       "True"
      ]
     },
     "execution_count": 62,
     "metadata": {},
     "output_type": "execute_result"
    }
   ],
   "source": [
    "all(mydict1) #Will return false as one value is false(value0)"
   ]
  },
  {
   "cell_type": "code",
   "execution_count": 63,
   "id": "fc2079d2-cf0e-467e-8835-cd5d5f0c0846",
   "metadata": {},
   "outputs": [
    {
     "data": {
      "text/plain": [
       "True"
      ]
     },
     "execution_count": 63,
     "metadata": {},
     "output_type": "execute_result"
    }
   ],
   "source": [
    "any(mydict1)"
   ]
  },
  {
   "cell_type": "code",
   "execution_count": null,
   "id": "aa34ab74-3730-4b00-b184-4a5f20b63b8b",
   "metadata": {},
   "outputs": [],
   "source": []
  }
 ],
 "metadata": {
  "kernelspec": {
   "display_name": "Python 3 (ipykernel)",
   "language": "python",
   "name": "python3"
  },
  "language_info": {
   "codemirror_mode": {
    "name": "ipython",
    "version": 3
   },
   "file_extension": ".py",
   "mimetype": "text/x-python",
   "name": "python",
   "nbconvert_exporter": "python",
   "pygments_lexer": "ipython3",
   "version": "3.12.8"
  },
  "widgets": {
   "application/vnd.jupyter.widget-state+json": {
    "state": {},
    "version_major": 2,
    "version_minor": 0
   }
  }
 },
 "nbformat": 4,
 "nbformat_minor": 5
}
